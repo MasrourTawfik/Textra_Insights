{
  "nbformat": 4,
  "nbformat_minor": 0,
  "metadata": {
    "colab": {
      "provenance": [],
      "collapsed_sections": [
        "gZOtKtJHcSpw",
        "VW6HVS2h2aFL",
        "rx9wFMMl2dCy",
        "sSFLwIUMjSCR",
        "ss01Gw7HMqkm",
        "z3-F9rkroFQk"
      ],
      "gpuType": "T4"
    },
    "kernelspec": {
      "name": "python3",
      "display_name": "Python 3"
    },
    "language_info": {
      "name": "python"
    },
    "accelerator": "GPU"
  },
  "cells": [
    {
      "cell_type": "markdown",
      "source": [
        "### Load the PCG file"
      ],
      "metadata": {
        "id": "gZOtKtJHcSpw"
      }
    },
    {
      "cell_type": "code",
      "source": [
        "# Download specific files from GitHub\n",
        "!wget https://raw.githubusercontent.com/MasrourTawfik/Textra_Insights/main/Files/PCG_file.pdf"
      ],
      "metadata": {
        "colab": {
          "base_uri": "https://localhost:8080/"
        },
        "id": "JuC0K1QvcWqA",
        "outputId": "0bdb8362-143e-485f-a081-2c3fff6ea8d4"
      },
      "execution_count": 2,
      "outputs": [
        {
          "output_type": "stream",
          "name": "stdout",
          "text": [
            "--2024-12-14 23:14:51--  https://raw.githubusercontent.com/MasrourTawfik/Textra_Insights/main/Files/PCG_file.pdf\n",
            "Resolving raw.githubusercontent.com (raw.githubusercontent.com)... 185.199.108.133, 185.199.111.133, 185.199.110.133, ...\n",
            "Connecting to raw.githubusercontent.com (raw.githubusercontent.com)|185.199.108.133|:443... connected.\n",
            "HTTP request sent, awaiting response... 200 OK\n",
            "Length: 6092025 (5.8M) [application/octet-stream]\n",
            "Saving to: ‘PCG_file.pdf.1’\n",
            "\n",
            "\rPCG_file.pdf.1        0%[                    ]       0  --.-KB/s               \rPCG_file.pdf.1      100%[===================>]   5.81M  --.-KB/s    in 0.07s   \n",
            "\n",
            "2024-12-14 23:14:51 (81.4 MB/s) - ‘PCG_file.pdf.1’ saved [6092025/6092025]\n",
            "\n"
          ]
        }
      ]
    },
    {
      "cell_type": "markdown",
      "source": [
        "### Digitalisation"
      ],
      "metadata": {
        "id": "VW6HVS2h2aFL"
      }
    },
    {
      "cell_type": "markdown",
      "source": [
        "- We need to digitize the filtered file because it is not editable. We will convert it to Markdown.\n",
        "- for doing that we will use <a href = \"https://github.com/VikParuchuri/marker\">Marker engine</a> implimented in the top of <a href = \"https://github.com/VikParuchuri/surya\">Surya OCR</a>\n",
        "- Use a T4 ."
      ],
      "metadata": {
        "id": "NIkpuIWJHzYs"
      }
    },
    {
      "cell_type": "code",
      "source": [
        "!pip install marker-pdf\n",
        "!pip install torch torchvision torchaudio --index-url https://download.pytorch.org/whl/cu118"
      ],
      "metadata": {
        "id": "UUMgC-1uP82a"
      },
      "execution_count": null,
      "outputs": []
    },
    {
      "cell_type": "code",
      "source": [
        "from marker.converters.pdf import PdfConverter\n",
        "from marker.models import create_model_dict\n",
        "from marker.output import text_from_rendered\n",
        "\n",
        "converter = PdfConverter(artifact_dict=create_model_dict())\n",
        "rendered = converter(\"PCG_file.pdf\")\n",
        "text, _, images = text_from_rendered(rendered)"
      ],
      "metadata": {
        "id": "mi18XNKeKqfZ",
        "colab": {
          "base_uri": "https://localhost:8080/"
        },
        "outputId": "a9107d17-52dc-45ed-c716-f3fb193f3e15"
      },
      "execution_count": 8,
      "outputs": [
        {
          "output_type": "stream",
          "name": "stdout",
          "text": [
            "Loaded layout model datalab-to/surya_layout0 on device cuda with dtype torch.float16\n",
            "Loaded texify model to cuda with torch.float16 dtype\n",
            "Loaded recognition model vikp/surya_rec2 on device cuda with dtype torch.float16\n",
            "Loaded table recognition model vikp/surya_tablerec on device cuda with dtype torch.float16\n",
            "Loaded detection model vikp/surya_det3 on device cuda with dtype torch.float16\n"
          ]
        },
        {
          "output_type": "stream",
          "name": "stderr",
          "text": [
            "Recognizing layout: 100%|██████████| 5/5 [00:03<00:00,  1.32it/s]\n",
            "Detecting bboxes: 100%|██████████| 7/7 [00:07<00:00,  1.07s/it]\n",
            "Recognizing Text: 100%|██████████| 59/59 [01:16<00:00,  1.30s/it]\n",
            "Recognizing equations: 0it [00:00, ?it/s]\n",
            "Detecting bboxes: 100%|██████████| 26/26 [00:23<00:00,  1.11it/s]\n",
            "Recognizing Text: 100%|██████████| 24/24 [00:26<00:00,  1.09s/it]\n",
            "Recognizing tables: 100%|██████████| 17/17 [00:05<00:00,  3.40it/s]\n"
          ]
        }
      ]
    },
    {
      "cell_type": "code",
      "source": [
        "markdown_file_path = \"PCG_markdown1.md\"\n",
        "\n",
        "with open(markdown_file_path, \"w\") as md_file:\n",
        "    md_file.write(text)\n",
        "\n",
        "print(f\"Markdown file saved as {markdown_file_path}\")"
      ],
      "metadata": {
        "colab": {
          "base_uri": "https://localhost:8080/"
        },
        "id": "tT74YBF5KqcD",
        "outputId": "3484b428-58cd-415c-a057-88412cb5235a"
      },
      "execution_count": 9,
      "outputs": [
        {
          "output_type": "stream",
          "name": "stdout",
          "text": [
            "Markdown file saved as PCG_markdown1.md\n"
          ]
        }
      ]
    },
    {
      "cell_type": "markdown",
      "source": [
        "### Cleaning"
      ],
      "metadata": {
        "id": "rx9wFMMl2dCy"
      }
    },
    {
      "cell_type": "markdown",
      "source": [
        "- Remove Tables"
      ],
      "metadata": {
        "id": "4tBAgJCcFyDq"
      }
    },
    {
      "cell_type": "code",
      "source": [
        "def Remove_Tables(input_path, output_path):\n",
        "    \"\"\"\n",
        "    Removes lines that start with '|' (table lines) from a Markdown file.\n",
        "\n",
        "    Args:\n",
        "        input_path (str): Path to the input Markdown file.\n",
        "        output_path (str): Path to save the cleaned Markdown file.\n",
        "    \"\"\"\n",
        "    try:\n",
        "        with open(input_path, \"r\") as md_file:\n",
        "            lines = md_file.readlines()\n",
        "\n",
        "        cleaned_lines = [line for line in lines if not line.strip().startswith(\"|\")]\n",
        "\n",
        "        with open(output_path, \"w\") as cleaned_file:\n",
        "            cleaned_file.writelines(cleaned_lines)\n",
        "\n",
        "        print(f\"Cleaned Markdown file saved as {output_path}\")\n",
        "    except Exception as e:\n",
        "        print(f\"An error occurred: {e}\")\n",
        "\n"
      ],
      "metadata": {
        "id": "yeTrx_eD2ffL"
      },
      "execution_count": 10,
      "outputs": []
    },
    {
      "cell_type": "code",
      "source": [
        "PCG_Markdown_path = \"PCG_markdown1.md\"\n",
        "Cleaned_Markdown_path = \"PCG_markdown2.md\"\n",
        "\n",
        "Remove_Tables(PCG_Markdown_path, Cleaned_Markdown_path)"
      ],
      "metadata": {
        "colab": {
          "base_uri": "https://localhost:8080/"
        },
        "id": "V5NnxVHr2fcY",
        "outputId": "86d647df-f16b-4318-ae16-6888404cc53f"
      },
      "execution_count": 11,
      "outputs": [
        {
          "output_type": "stream",
          "name": "stdout",
          "text": [
            "Cleaned Markdown file saved as PCG_markdown2.md\n"
          ]
        }
      ]
    },
    {
      "cell_type": "markdown",
      "source": [
        "- Keep Only accounts (enlever les Rubriques et  Postes)\n",
        "- You need to check the **PCG_markdown2** to see what is the pattern of Accounts, in this execution an account start by ### xxxx or #### xxxx"
      ],
      "metadata": {
        "id": "C89UiPEdF0M5"
      }
    },
    {
      "cell_type": "code",
      "source": [
        "import re\n",
        "\n",
        "def Keep_Headers_and_NonHashed(input_path, output_path):\n",
        "    \"\"\"\n",
        "    Keeps lines that either:\n",
        "    1. Start with '### xxxx' or '#### xxxx' (where xxxx are exactly four digits), or\n",
        "    2. Do not start with '#'.\n",
        "\n",
        "    Args:\n",
        "        input_path (str): Path to the input Markdown file.\n",
        "        output_path (str): Path to save the filtered Markdown file.\n",
        "    \"\"\"\n",
        "    try:\n",
        "        pattern1 = re.compile(r\"^### \\d{4}\")\n",
        "        pattern2 = re.compile(r\"^#### \\d{4}\")\n",
        "\n",
        "        with open(input_path, \"r\") as md_file:\n",
        "            lines = md_file.readlines()\n",
        "\n",
        "        cleaned_lines = [\n",
        "            line for line in lines\n",
        "            if pattern1.match(line.strip()) or pattern2.match(line.strip()) or not line.strip().startswith(\"#\")\n",
        "        ]\n",
        "\n",
        "        with open(output_path, \"w\") as cleaned_file:\n",
        "            cleaned_file.writelines(cleaned_lines)\n",
        "\n",
        "        print(f\"Filtered Markdown file saved as {output_path}\")\n",
        "    except Exception as e:\n",
        "        print(f\"An error occurred: {e}\")"
      ],
      "metadata": {
        "id": "kcDhFq-54VEY"
      },
      "execution_count": 12,
      "outputs": []
    },
    {
      "cell_type": "code",
      "source": [
        "input_path = \"PCG_markdown2.md\"\n",
        "output_path = \"PCG_markdown3.md\"\n",
        "Keep_Headers_and_NonHashed(input_path, output_path)"
      ],
      "metadata": {
        "colab": {
          "base_uri": "https://localhost:8080/"
        },
        "id": "lh2JrE9N4VA_",
        "outputId": "615fdb45-6bd6-4a99-cb02-6a364088a667"
      },
      "execution_count": 13,
      "outputs": [
        {
          "output_type": "stream",
          "name": "stdout",
          "text": [
            "Filtered Markdown file saved as PCG_markdown3.md\n"
          ]
        }
      ]
    },
    {
      "cell_type": "markdown",
      "source": [
        "#### Now Insure the the **PCG_markdown3** is properly orginized and that only Class 2 and 6 accounts are there."
      ],
      "metadata": {
        "id": "sSFLwIUMjSCR"
      }
    },
    {
      "cell_type": "markdown",
      "source": [
        "- To this point ensure that your accounts are somthing like this :\n",
        "\n",
        "```bash\n",
        "# 2111. Frais de constitution :\n",
        "Les frais de constitution correspondent aux frais engagés lors de la constitution de l'entreprise. Il s'aqit généralement des honoraires, des frais liés aux formalités légales de constitution d'entreprise, les droits d'enregistrement sur les apports, les frais liés à la publicité ...\n",
        "Le compte « 2111. Frais de constitution » est débité, pour le montant total des charges liées à la constitution, par le crédit des comptes de transferts de charges concernés (7197 ; 7397).\n",
        "```"
      ],
      "metadata": {
        "id": "jkWQiFWqMCAj"
      }
    },
    {
      "cell_type": "markdown",
      "source": [
        "### To Json"
      ],
      "metadata": {
        "id": "ss01Gw7HMqkm"
      }
    },
    {
      "cell_type": "markdown",
      "source": [
        "- We convert our cleaned Markdown file to json so it becomes easier to deal with."
      ],
      "metadata": {
        "id": "q4BnqtxRgDa8"
      }
    },
    {
      "cell_type": "code",
      "source": [
        "import json\n",
        "import re\n",
        "\n",
        "def markdown_to_json(input_path, output_path):\n",
        "    \"\"\"\n",
        "    Converts a Markdown file with headers and definitions into a JSON file.\n",
        "\n",
        "    Args:\n",
        "        input_path (str): Path to the input Markdown file.\n",
        "        output_path (str): Path to save the resulting JSON file.\n",
        "    \"\"\"\n",
        "    try:\n",
        "        # Read the content of the Markdown file\n",
        "        with open(input_path, \"r\") as md_file:\n",
        "            lines = md_file.readlines()\n",
        "\n",
        "        data = []  # List to hold JSON objects\n",
        "        current_entry = {}\n",
        "\n",
        "        # Parse the lines\n",
        "        for line in lines:\n",
        "            line = line.strip()\n",
        "\n",
        "            # Match headers starting with \"### 211x\"\n",
        "            if re.match(r\"^### (\\d{4})\\.\\s(.+):\", line):\n",
        "                if current_entry:  # Save the previous entry\n",
        "                    data.append(current_entry)\n",
        "                match = re.match(r\"^### (\\d{4})\\.\\s(.+):\", line)\n",
        "                current_entry = {\n",
        "                    \"Id\": match.group(1),\n",
        "                    \"Title\": match.group(2),\n",
        "                    \"Definition\": \"\"\n",
        "                }\n",
        "            elif current_entry and line:  # Add content to the \"Definition\"\n",
        "                current_entry[\"Definition\"] += line + \" \"\n",
        "\n",
        "            # Match headers starting with \"#### 211x\"\n",
        "            if re.match(r\"^#### (\\d{4})\\.\\s(.+):\", line):\n",
        "                if current_entry:  # Save the previous entry\n",
        "                    data.append(current_entry)\n",
        "                match = re.match(r\"^#### (\\d{4})\\.\\s(.+):\", line)\n",
        "                current_entry = {\n",
        "                    \"Id\": match.group(1),\n",
        "                    \"Title\": match.group(2),\n",
        "                    \"Definition\": \"\"\n",
        "                }\n",
        "            elif current_entry and line:  # Add content to the \"Definition\"\n",
        "                current_entry[\"Definition\"] += line + \" \"\n",
        "        # Add the last entry\n",
        "        if current_entry:\n",
        "            data.append(current_entry)\n",
        "\n",
        "        # Save to JSON file\n",
        "        with open(output_path, \"w\") as json_file:\n",
        "            json.dump(data, json_file, indent=4, ensure_ascii=False)\n",
        "\n",
        "        print(f\"JSON file saved as {output_path}\")\n",
        "    except Exception as e:\n",
        "        print(f\"An error occurred: {e}\")\n",
        "\n"
      ],
      "metadata": {
        "id": "koxPa-ZpM0FI"
      },
      "execution_count": 14,
      "outputs": []
    },
    {
      "cell_type": "code",
      "source": [
        "markdown_path = \"PCG_markdown3.md\"\n",
        "json_output_path = \"PCG.json\"\n",
        "\n",
        "markdown_to_json(markdown_path, json_output_path)"
      ],
      "metadata": {
        "colab": {
          "base_uri": "https://localhost:8080/"
        },
        "id": "xO7i5FlCM0BU",
        "outputId": "f982bab8-6206-43c8-e19b-1c22ce151a25"
      },
      "execution_count": 15,
      "outputs": [
        {
          "output_type": "stream",
          "name": "stdout",
          "text": [
            "JSON file saved as PCG.json\n"
          ]
        }
      ]
    },
    {
      "cell_type": "markdown",
      "source": [
        "### To CSV"
      ],
      "metadata": {
        "id": "z3-F9rkroFQk"
      }
    },
    {
      "cell_type": "code",
      "source": [
        "import json\n",
        "import csv\n",
        "\n",
        "def json_to_csv(json_path, csv_path):\n",
        "    \"\"\"\n",
        "    Converts a JSON file to a CSV file with columns Id, Title, and Definition.\n",
        "\n",
        "    Args:\n",
        "        json_path (str): Path to the input JSON file.\n",
        "        csv_path (str): Path to save the output CSV file.\n",
        "    \"\"\"\n",
        "    try:\n",
        "        # Load the JSON data\n",
        "        with open(json_path, \"r\", encoding=\"utf-8\") as json_file:\n",
        "            data = json.load(json_file)\n",
        "\n",
        "        # Open the CSV file for writing\n",
        "        with open(csv_path, \"w\", newline=\"\", encoding=\"utf-8\") as csv_file:\n",
        "            # Create a CSV writer object\n",
        "            csv_writer = csv.writer(csv_file)\n",
        "\n",
        "            # Write the header row\n",
        "            csv_writer.writerow([\"Id\", \"Title\", \"Definition\"])\n",
        "\n",
        "            # Write the data rows\n",
        "            for entry in data:\n",
        "                csv_writer.writerow([entry[\"Id\"], entry[\"Title\"], entry[\"Definition\"]])\n",
        "\n",
        "        print(f\"CSV file has been saved at {csv_path}\")\n",
        "    except Exception as e:\n",
        "        print(f\"An error occurred: {e}\")\n"
      ],
      "metadata": {
        "id": "qNkZxaL34U-X"
      },
      "execution_count": 16,
      "outputs": []
    },
    {
      "cell_type": "code",
      "source": [
        "json_data_path = \"PCG.json\"\n",
        "csv_output_path = \"PCG.csv\"\n",
        "\n",
        "json_to_csv(json_data_path, csv_output_path)\n"
      ],
      "metadata": {
        "colab": {
          "base_uri": "https://localhost:8080/"
        },
        "id": "nNlduKeroJ6c",
        "outputId": "d41059ef-524b-4959-c844-b7b3ba241f4d"
      },
      "execution_count": 17,
      "outputs": [
        {
          "output_type": "stream",
          "name": "stdout",
          "text": [
            "CSV file has been saved at PCG.csv\n"
          ]
        }
      ]
    },
    {
      "cell_type": "code",
      "source": [],
      "metadata": {
        "id": "JoOBspPdoJ22"
      },
      "execution_count": null,
      "outputs": []
    },
    {
      "cell_type": "code",
      "source": [],
      "metadata": {
        "id": "Zj81dJXfzIgU"
      },
      "execution_count": null,
      "outputs": []
    }
  ]
}