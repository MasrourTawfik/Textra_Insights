{
  "cells": [
    {
      "cell_type": "markdown",
      "source": [
        "# Syntethic Data"
      ],
      "metadata": {
        "id": "3l4OJ86WmrxA"
      }
    },
    {
      "cell_type": "markdown",
      "source": [
        "## Generation"
      ],
      "metadata": {
        "id": "Bh5nWLPXNKsi"
      }
    },
    {
      "cell_type": "code",
      "source": [
        "!pip install langchain_openai==0.2.12"
      ],
      "metadata": {
        "id": "yJdqA4nG2kg_"
      },
      "execution_count": null,
      "outputs": []
    },
    {
      "cell_type": "code",
      "source": [
        "import pandas as pd"
      ],
      "metadata": {
        "id": "Vc1kQBsHug1c"
      },
      "execution_count": null,
      "outputs": []
    },
    {
      "cell_type": "code",
      "source": [
        "!wget https://raw.githubusercontent.com/MasrourTawfik/Textra_Insights/main/Files/PCG_Refined.csv"
      ],
      "metadata": {
        "colab": {
          "base_uri": "https://localhost:8080/"
        },
        "id": "zVUX0lwGuEW2",
        "outputId": "c844fa48-8558-4df1-acb6-6f1c40eba817"
      },
      "execution_count": null,
      "outputs": [
        {
          "output_type": "stream",
          "name": "stdout",
          "text": [
            "--2024-12-15 23:05:19--  https://raw.githubusercontent.com/MasrourTawfik/Textra_Insights/main/Files/PCG_Refined.csv\n",
            "Resolving raw.githubusercontent.com (raw.githubusercontent.com)... 185.199.110.133, 185.199.109.133, 185.199.111.133, ...\n",
            "Connecting to raw.githubusercontent.com (raw.githubusercontent.com)|185.199.110.133|:443... connected.\n",
            "HTTP request sent, awaiting response... 200 OK\n",
            "Length: 120894 (118K) [text/plain]\n",
            "Saving to: ‘PCG_Refined.csv’\n",
            "\n",
            "\rPCG_Refined.csv       0%[                    ]       0  --.-KB/s               \rPCG_Refined.csv     100%[===================>] 118.06K  --.-KB/s    in 0.02s   \n",
            "\n",
            "2024-12-15 23:05:19 (6.96 MB/s) - ‘PCG_Refined.csv’ saved [120894/120894]\n",
            "\n"
          ]
        }
      ]
    },
    {
      "cell_type": "code",
      "source": [
        "PCG_Refined = pd.read_csv(\"PCG_Refined.csv\")\n",
        "PCG_Refined.head()"
      ],
      "metadata": {
        "colab": {
          "base_uri": "https://localhost:8080/",
          "height": 206
        },
        "id": "ZIMNThaEkcAo",
        "outputId": "e2ba0f2b-7710-49d7-baf1-f3f91ff49849"
      },
      "execution_count": null,
      "outputs": [
        {
          "output_type": "execute_result",
          "data": {
            "text/plain": [
              "     Id                                              Title  \\\n",
              "0  2111                             Frais de constitution    \n",
              "1  2112                     Frais préalables au démarrage    \n",
              "2  2113                   Frais d'augmentation du capital    \n",
              "3  2114  Frais sur opérations de fusions, scissions et ...   \n",
              "4  2116                              Frais de prospection    \n",
              "\n",
              "                                          Definition  \n",
              "0  Les frais de constitution sont les dépenses en...  \n",
              "1  Les frais préalables au démarrage sont les dép...  \n",
              "2  Les frais d'augmentation du capital sont les c...  \n",
              "3  Les frais sur opérations de fusions, scissions...  \n",
              "4  Les frais de prospection sont les coûts engagé...  "
            ],
            "text/html": [
              "\n",
              "  <div id=\"df-c2abfe66-edfd-4df3-92cb-0929e6e2917e\" class=\"colab-df-container\">\n",
              "    <div>\n",
              "<style scoped>\n",
              "    .dataframe tbody tr th:only-of-type {\n",
              "        vertical-align: middle;\n",
              "    }\n",
              "\n",
              "    .dataframe tbody tr th {\n",
              "        vertical-align: top;\n",
              "    }\n",
              "\n",
              "    .dataframe thead th {\n",
              "        text-align: right;\n",
              "    }\n",
              "</style>\n",
              "<table border=\"1\" class=\"dataframe\">\n",
              "  <thead>\n",
              "    <tr style=\"text-align: right;\">\n",
              "      <th></th>\n",
              "      <th>Id</th>\n",
              "      <th>Title</th>\n",
              "      <th>Definition</th>\n",
              "    </tr>\n",
              "  </thead>\n",
              "  <tbody>\n",
              "    <tr>\n",
              "      <th>0</th>\n",
              "      <td>2111</td>\n",
              "      <td>Frais de constitution</td>\n",
              "      <td>Les frais de constitution sont les dépenses en...</td>\n",
              "    </tr>\n",
              "    <tr>\n",
              "      <th>1</th>\n",
              "      <td>2112</td>\n",
              "      <td>Frais préalables au démarrage</td>\n",
              "      <td>Les frais préalables au démarrage sont les dép...</td>\n",
              "    </tr>\n",
              "    <tr>\n",
              "      <th>2</th>\n",
              "      <td>2113</td>\n",
              "      <td>Frais d'augmentation du capital</td>\n",
              "      <td>Les frais d'augmentation du capital sont les c...</td>\n",
              "    </tr>\n",
              "    <tr>\n",
              "      <th>3</th>\n",
              "      <td>2114</td>\n",
              "      <td>Frais sur opérations de fusions, scissions et ...</td>\n",
              "      <td>Les frais sur opérations de fusions, scissions...</td>\n",
              "    </tr>\n",
              "    <tr>\n",
              "      <th>4</th>\n",
              "      <td>2116</td>\n",
              "      <td>Frais de prospection</td>\n",
              "      <td>Les frais de prospection sont les coûts engagé...</td>\n",
              "    </tr>\n",
              "  </tbody>\n",
              "</table>\n",
              "</div>\n",
              "    <div class=\"colab-df-buttons\">\n",
              "\n",
              "  <div class=\"colab-df-container\">\n",
              "    <button class=\"colab-df-convert\" onclick=\"convertToInteractive('df-c2abfe66-edfd-4df3-92cb-0929e6e2917e')\"\n",
              "            title=\"Convert this dataframe to an interactive table.\"\n",
              "            style=\"display:none;\">\n",
              "\n",
              "  <svg xmlns=\"http://www.w3.org/2000/svg\" height=\"24px\" viewBox=\"0 -960 960 960\">\n",
              "    <path d=\"M120-120v-720h720v720H120Zm60-500h600v-160H180v160Zm220 220h160v-160H400v160Zm0 220h160v-160H400v160ZM180-400h160v-160H180v160Zm440 0h160v-160H620v160ZM180-180h160v-160H180v160Zm440 0h160v-160H620v160Z\"/>\n",
              "  </svg>\n",
              "    </button>\n",
              "\n",
              "  <style>\n",
              "    .colab-df-container {\n",
              "      display:flex;\n",
              "      gap: 12px;\n",
              "    }\n",
              "\n",
              "    .colab-df-convert {\n",
              "      background-color: #E8F0FE;\n",
              "      border: none;\n",
              "      border-radius: 50%;\n",
              "      cursor: pointer;\n",
              "      display: none;\n",
              "      fill: #1967D2;\n",
              "      height: 32px;\n",
              "      padding: 0 0 0 0;\n",
              "      width: 32px;\n",
              "    }\n",
              "\n",
              "    .colab-df-convert:hover {\n",
              "      background-color: #E2EBFA;\n",
              "      box-shadow: 0px 1px 2px rgba(60, 64, 67, 0.3), 0px 1px 3px 1px rgba(60, 64, 67, 0.15);\n",
              "      fill: #174EA6;\n",
              "    }\n",
              "\n",
              "    .colab-df-buttons div {\n",
              "      margin-bottom: 4px;\n",
              "    }\n",
              "\n",
              "    [theme=dark] .colab-df-convert {\n",
              "      background-color: #3B4455;\n",
              "      fill: #D2E3FC;\n",
              "    }\n",
              "\n",
              "    [theme=dark] .colab-df-convert:hover {\n",
              "      background-color: #434B5C;\n",
              "      box-shadow: 0px 1px 3px 1px rgba(0, 0, 0, 0.15);\n",
              "      filter: drop-shadow(0px 1px 2px rgba(0, 0, 0, 0.3));\n",
              "      fill: #FFFFFF;\n",
              "    }\n",
              "  </style>\n",
              "\n",
              "    <script>\n",
              "      const buttonEl =\n",
              "        document.querySelector('#df-c2abfe66-edfd-4df3-92cb-0929e6e2917e button.colab-df-convert');\n",
              "      buttonEl.style.display =\n",
              "        google.colab.kernel.accessAllowed ? 'block' : 'none';\n",
              "\n",
              "      async function convertToInteractive(key) {\n",
              "        const element = document.querySelector('#df-c2abfe66-edfd-4df3-92cb-0929e6e2917e');\n",
              "        const dataTable =\n",
              "          await google.colab.kernel.invokeFunction('convertToInteractive',\n",
              "                                                    [key], {});\n",
              "        if (!dataTable) return;\n",
              "\n",
              "        const docLinkHtml = 'Like what you see? Visit the ' +\n",
              "          '<a target=\"_blank\" href=https://colab.research.google.com/notebooks/data_table.ipynb>data table notebook</a>'\n",
              "          + ' to learn more about interactive tables.';\n",
              "        element.innerHTML = '';\n",
              "        dataTable['output_type'] = 'display_data';\n",
              "        await google.colab.output.renderOutput(dataTable, element);\n",
              "        const docLink = document.createElement('div');\n",
              "        docLink.innerHTML = docLinkHtml;\n",
              "        element.appendChild(docLink);\n",
              "      }\n",
              "    </script>\n",
              "  </div>\n",
              "\n",
              "\n",
              "<div id=\"df-2eca5d9b-6223-476a-bc51-88d633cbae88\">\n",
              "  <button class=\"colab-df-quickchart\" onclick=\"quickchart('df-2eca5d9b-6223-476a-bc51-88d633cbae88')\"\n",
              "            title=\"Suggest charts\"\n",
              "            style=\"display:none;\">\n",
              "\n",
              "<svg xmlns=\"http://www.w3.org/2000/svg\" height=\"24px\"viewBox=\"0 0 24 24\"\n",
              "     width=\"24px\">\n",
              "    <g>\n",
              "        <path d=\"M19 3H5c-1.1 0-2 .9-2 2v14c0 1.1.9 2 2 2h14c1.1 0 2-.9 2-2V5c0-1.1-.9-2-2-2zM9 17H7v-7h2v7zm4 0h-2V7h2v10zm4 0h-2v-4h2v4z\"/>\n",
              "    </g>\n",
              "</svg>\n",
              "  </button>\n",
              "\n",
              "<style>\n",
              "  .colab-df-quickchart {\n",
              "      --bg-color: #E8F0FE;\n",
              "      --fill-color: #1967D2;\n",
              "      --hover-bg-color: #E2EBFA;\n",
              "      --hover-fill-color: #174EA6;\n",
              "      --disabled-fill-color: #AAA;\n",
              "      --disabled-bg-color: #DDD;\n",
              "  }\n",
              "\n",
              "  [theme=dark] .colab-df-quickchart {\n",
              "      --bg-color: #3B4455;\n",
              "      --fill-color: #D2E3FC;\n",
              "      --hover-bg-color: #434B5C;\n",
              "      --hover-fill-color: #FFFFFF;\n",
              "      --disabled-bg-color: #3B4455;\n",
              "      --disabled-fill-color: #666;\n",
              "  }\n",
              "\n",
              "  .colab-df-quickchart {\n",
              "    background-color: var(--bg-color);\n",
              "    border: none;\n",
              "    border-radius: 50%;\n",
              "    cursor: pointer;\n",
              "    display: none;\n",
              "    fill: var(--fill-color);\n",
              "    height: 32px;\n",
              "    padding: 0;\n",
              "    width: 32px;\n",
              "  }\n",
              "\n",
              "  .colab-df-quickchart:hover {\n",
              "    background-color: var(--hover-bg-color);\n",
              "    box-shadow: 0 1px 2px rgba(60, 64, 67, 0.3), 0 1px 3px 1px rgba(60, 64, 67, 0.15);\n",
              "    fill: var(--button-hover-fill-color);\n",
              "  }\n",
              "\n",
              "  .colab-df-quickchart-complete:disabled,\n",
              "  .colab-df-quickchart-complete:disabled:hover {\n",
              "    background-color: var(--disabled-bg-color);\n",
              "    fill: var(--disabled-fill-color);\n",
              "    box-shadow: none;\n",
              "  }\n",
              "\n",
              "  .colab-df-spinner {\n",
              "    border: 2px solid var(--fill-color);\n",
              "    border-color: transparent;\n",
              "    border-bottom-color: var(--fill-color);\n",
              "    animation:\n",
              "      spin 1s steps(1) infinite;\n",
              "  }\n",
              "\n",
              "  @keyframes spin {\n",
              "    0% {\n",
              "      border-color: transparent;\n",
              "      border-bottom-color: var(--fill-color);\n",
              "      border-left-color: var(--fill-color);\n",
              "    }\n",
              "    20% {\n",
              "      border-color: transparent;\n",
              "      border-left-color: var(--fill-color);\n",
              "      border-top-color: var(--fill-color);\n",
              "    }\n",
              "    30% {\n",
              "      border-color: transparent;\n",
              "      border-left-color: var(--fill-color);\n",
              "      border-top-color: var(--fill-color);\n",
              "      border-right-color: var(--fill-color);\n",
              "    }\n",
              "    40% {\n",
              "      border-color: transparent;\n",
              "      border-right-color: var(--fill-color);\n",
              "      border-top-color: var(--fill-color);\n",
              "    }\n",
              "    60% {\n",
              "      border-color: transparent;\n",
              "      border-right-color: var(--fill-color);\n",
              "    }\n",
              "    80% {\n",
              "      border-color: transparent;\n",
              "      border-right-color: var(--fill-color);\n",
              "      border-bottom-color: var(--fill-color);\n",
              "    }\n",
              "    90% {\n",
              "      border-color: transparent;\n",
              "      border-bottom-color: var(--fill-color);\n",
              "    }\n",
              "  }\n",
              "</style>\n",
              "\n",
              "  <script>\n",
              "    async function quickchart(key) {\n",
              "      const quickchartButtonEl =\n",
              "        document.querySelector('#' + key + ' button');\n",
              "      quickchartButtonEl.disabled = true;  // To prevent multiple clicks.\n",
              "      quickchartButtonEl.classList.add('colab-df-spinner');\n",
              "      try {\n",
              "        const charts = await google.colab.kernel.invokeFunction(\n",
              "            'suggestCharts', [key], {});\n",
              "      } catch (error) {\n",
              "        console.error('Error during call to suggestCharts:', error);\n",
              "      }\n",
              "      quickchartButtonEl.classList.remove('colab-df-spinner');\n",
              "      quickchartButtonEl.classList.add('colab-df-quickchart-complete');\n",
              "    }\n",
              "    (() => {\n",
              "      let quickchartButtonEl =\n",
              "        document.querySelector('#df-2eca5d9b-6223-476a-bc51-88d633cbae88 button');\n",
              "      quickchartButtonEl.style.display =\n",
              "        google.colab.kernel.accessAllowed ? 'block' : 'none';\n",
              "    })();\n",
              "  </script>\n",
              "</div>\n",
              "\n",
              "    </div>\n",
              "  </div>\n"
            ],
            "application/vnd.google.colaboratory.intrinsic+json": {
              "type": "dataframe",
              "variable_name": "PCG_Refined",
              "summary": "{\n  \"name\": \"PCG_Refined\",\n  \"rows\": 84,\n  \"fields\": [\n    {\n      \"column\": \"Id\",\n      \"properties\": {\n        \"dtype\": \"number\",\n        \"std\": 1937,\n        \"min\": 2111,\n        \"max\": 6196,\n        \"num_unique_values\": 83,\n        \"samples\": [\n          2355,\n          2111,\n          2328\n        ],\n        \"semantic_type\": \"\",\n        \"description\": \"\"\n      }\n    },\n    {\n      \"column\": \"Title\",\n      \"properties\": {\n        \"dtype\": \"string\",\n        \"num_unique_values\": 84,\n        \"samples\": [\n          \"Jetons de pr\\u00e9sence \",\n          \"Frais de constitution \",\n          \"Publicit\\u00e9s, publications et relations publiques \"\n        ],\n        \"semantic_type\": \"\",\n        \"description\": \"\"\n      }\n    },\n    {\n      \"column\": \"Definition\",\n      \"properties\": {\n        \"dtype\": \"string\",\n        \"num_unique_values\": 84,\n        \"samples\": [\n          \"Les jetons de pr\\u00e9sence sont des paiements suppl\\u00e9mentaires vers\\u00e9s aux administrateurs d'une soci\\u00e9t\\u00e9 en reconnaissance de leur participation aux assembl\\u00e9es g\\u00e9n\\u00e9rales. Ces paiements varient en fonction de leur assiduit\\u00e9 lors des r\\u00e9unions.\\n\\n1. Un administrateur re\\u00e7oit un jeton de pr\\u00e9sence de 100 euros apr\\u00e8s avoir assist\\u00e9 \\u00e0 une r\\u00e9union annuelle. 2. Un conseil d'administration d\\u00e9cide de verser des jetons de pr\\u00e9sence pour encourager la participation. 3. Un administrateur absent \\u00e0 une assembl\\u00e9e ne re\\u00e7oit pas de jeton de pr\\u00e9sence. 4. Les jetons de pr\\u00e9sence sont souvent utilis\\u00e9s pour compenser le temps pass\\u00e9 en r\\u00e9union. 5. Dans une soci\\u00e9t\\u00e9, les jetons de pr\\u00e9sence sont vers\\u00e9s trimestriellement. 6. Un administrateur qui participe \\u00e0 plusieurs r\\u00e9unions dans le mois re\\u00e7oit des jetons cumul\\u00e9s. 7. Les jetons de pr\\u00e9sence peuvent \\u00eatre annonc\\u00e9s dans le rapport annuel de l'entreprise. 8. Les soci\\u00e9t\\u00e9s peuvent fixer un montant maximal pour les jetons de pr\\u00e9sence par r\\u00e9union. 9. Un administrateur re\\u00e7oit un jeton de pr\\u00e9sence pour chaque assembl\\u00e9e g\\u00e9n\\u00e9rale ordinaire \\u00e0 laquelle il assiste. 10. Les jetons de pr\\u00e9sence sont souvent consid\\u00e9r\\u00e9s comme une forme de reconnaissance du travail des administrateurs. 11. Des jetons de pr\\u00e9sence sont vers\\u00e9s aux membres du conseil d'administration d'une association. 12. Un changement de politique peut augmenter le montant des jetons de pr\\u00e9sence. 13. Les jetons de pr\\u00e9sence sont souvent mentionn\\u00e9s dans les statuts de la soci\\u00e9t\\u00e9. 14. Un administrateur peut choisir de ne pas accepter les jetons de pr\\u00e9sence. 15. Les jetons de pr\\u00e9sence sont parfois sujets \\u00e0 des imp\\u00f4ts comme tout autre revenu.\",\n          \"Les frais de constitution sont les d\\u00e9penses engag\\u00e9es pour cr\\u00e9er une entreprise, incluant des honoraires, des frais administratifs et des co\\u00fbts de publicit\\u00e9.\\n\\n1. Honoraires d'un avocat pour la r\\u00e9daction des statuts de l'entreprise.\\n2. Frais de publication d'annonces l\\u00e9gales dans un journal.\\n3. Co\\u00fbt d'enregistrement de l'entreprise aupr\\u00e8s des autorit\\u00e9s comp\\u00e9tentes.\\n4. Frais de notaire pour la signature des documents juridiques.\\n5. Tarifs de l'agence pour le d\\u00e9p\\u00f4t des documents de cr\\u00e9ation.\\n6. Co\\u00fbt d'une \\u00e9tude de march\\u00e9 pour \\u00e9valuer la viabilit\\u00e9 de l'entreprise.\\n7. Frais li\\u00e9s \\u00e0 la cr\\u00e9ation d'un logo ou d'une identit\\u00e9 visuelle.\\n8. Co\\u00fbt d'une assistance comptable pour \\u00e9tablir le dossier de cr\\u00e9ation.\\n9. Frais de location d'un local pour la premi\\u00e8re r\\u00e9union de lancement.\\n10. Co\\u00fbt d'un site internet pour la pr\\u00e9sence en ligne de l'entreprise.\\n11. Honoraires pour des conseils fiscaux lors de la cr\\u00e9ation.\\n12. D\\u00e9penses pour des fournitures de bureau n\\u00e9cessaires au d\\u00e9marrage.\\n13. Frais de transport pour se rendre aux diff\\u00e9rentes administrations.\\n14. Co\\u00fbt de logiciels n\\u00e9cessaires \\u00e0 la gestion de l'entreprise d\\u00e8s le d\\u00e9but.\\n15. Frais de formation pour le personnel sur les proc\\u00e9dures de l'entreprise.\",\n          \"Les publicit\\u00e9s, publications et relations publiques d\\u00e9signent les d\\u00e9penses engag\\u00e9es par une entreprise pour promouvoir ses produits ou services. Cela inclut les annonces publicitaires, les \\u00e9chantillons, les catalogues, la participation \\u00e0 des foires, les primes et cadeaux publicitaires.\\n\\n1. Annonce dans un journal local pour promouvoir un nouveau produit. 2. Distribution d'\\u00e9chantillons gratuits lors d'un \\u00e9v\\u00e9nement. 3. Cr\\u00e9ation de brochures pour pr\\u00e9senter les services d'une entreprise. 4. Participation \\u00e0 un salon professionnel pour rencontrer des clients potentiels. 5. Offrir un produit gratuit \\u00e0 l'achat d'un autre article. 6. Remise de stylos ou porte-cl\\u00e9s avec le logo de l'entreprise lors d'une foire. 7. Annonce radio pour annoncer une promotion sp\\u00e9ciale. 8. Publication d'un article sponsoris\\u00e9 dans un magazine. 9. Envoi d'une newsletter \\u00e0 des clients pour les tenir inform\\u00e9s. 10. Organisation d'un \\u00e9v\\u00e9nement pour lancer un nouveau produit. 11. Cr\\u00e9ation de vid\\u00e9os promotionnelles diffus\\u00e9es sur les r\\u00e9seaux sociaux. 12. Partenariat avec des influenceurs pour promouvoir un produit. 13. Distribution de cartes de visite lors de rencontres professionnelles. 14. Cr\\u00e9ation de banni\\u00e8res publicitaires pour un site web. 15. Organisation d'un concours avec des prix pour attirer de nouveaux clients.\"\n        ],\n        \"semantic_type\": \"\",\n        \"description\": \"\"\n      }\n    }\n  ]\n}"
            }
          },
          "metadata": {},
          "execution_count": 6
        }
      ]
    },
    {
      "cell_type": "code",
      "source": [
        "print(\"Number of accounts :\",len(PCG_Refined[\"Id\"].unique()))"
      ],
      "metadata": {
        "colab": {
          "base_uri": "https://localhost:8080/"
        },
        "id": "HlHmphECuEHc",
        "outputId": "d76bf36f-fd89-4616-b9bf-ed08ef32b271"
      },
      "execution_count": null,
      "outputs": [
        {
          "output_type": "stream",
          "name": "stdout",
          "text": [
            "Number of accounts : 83\n"
          ]
        }
      ]
    },
    {
      "cell_type": "code",
      "source": [
        "from langchain_core.prompts import ChatPromptTemplate\n",
        "from langchain_openai import ChatOpenAI\n",
        "from pydantic import BaseModel, Field\n",
        "import time\n",
        "from tqdm import tqdm\n",
        "import random\n",
        "import pandas as pd\n",
        "import json\n",
        "\n",
        "GITHUB_TOKEN = \"xxxxxxxxxxxxxxxxxxxx-xxxxxxxxxxxxxxxxxxxxxxxxxx\""
      ],
      "metadata": {
        "id": "sWXwDXgE1jWG"
      },
      "execution_count": null,
      "outputs": []
    },
    {
      "cell_type": "code",
      "source": [
        "class SyntheticData(BaseModel):\n",
        "    generated_scenarios: str = Field(\"\", description=\"Les 30 nouveaux scénarios générés en format json\")\n",
        "\n",
        "\n",
        "\n",
        "System_Prompt = \"\"\"\n",
        "### Système Prompt\n",
        "\n",
        "Tu es un expert en comptabilité marocaine et en application du **Plan Comptable Marocain (PCM)**. Ton rôle est de générer 30 scénarios réalistes et concis pour chaque définition de compte que je te fournirai. Ces scénarios doivent décrire des transactions spécifiques effectuées par une entreprise.\n",
        "\n",
        "**Exigences pour chaque scénario :**\n",
        "- Chaque scénario doit être précis, réaliste et s'appliquer à des entreprises marocaines ou des environnements similaires.\n",
        "- Donner des 30 descriptions un petit peut longues .\n",
        "- Respecte les règles et l’esprit du Plan Comptable Marocain.\n",
        "- Les réponses doivent être formatées en **JSON** avec cette structure :\n",
        "\n",
        " \"id\": 1,\n",
        " \"prompt\": \"Scénario réaliste 1\"\n",
        "\n",
        " \"id\": 2,\n",
        " \"prompt\": \"Scénario réaliste 2\"\n",
        "\n",
        "Les valeurs pour `id` doivent être numériques croissantes, et `prompt` doit contenir la description concise du scénario.\n",
        "\"\"\"\n",
        "\n",
        "\n",
        "prompt = ChatPromptTemplate.from_messages(\n",
        "    [\n",
        "        (\"system\", System_Prompt),\n",
        "        (\"human\", \"\"\"\n",
        "       La definition depuis le Plan Comptable Marocain est la suivante :\n",
        "        {Definition}\n",
        "        \"\"\"),\n",
        "    ]\n",
        ")\n",
        "\n",
        "LLM = ChatOpenAI(model=\"gpt-4o-mini\",\n",
        "    #temperature=0,\n",
        "    api_key=GITHUB_TOKEN,\n",
        "    base_url=\"https://models.inference.ai.azure.com\",\n",
        ")\n",
        "\n",
        "LLM_Structered = LLM.with_structured_output(SyntheticData)\n",
        "LLM_Generator = prompt | LLM_Structered"
      ],
      "metadata": {
        "id": "yJis_PT6uEED"
      },
      "execution_count": null,
      "outputs": []
    },
    {
      "cell_type": "code",
      "source": [
        "def Run_Generator(definition):\n",
        "  Input = {\"Definition\": definition}\n",
        "  response = LLM_Generator.invoke(Input)\n",
        "  return response\n",
        "\n",
        "def Run_And_Parse(AccountID, PCG_Refined):\n",
        "    Definition = PCG_Refined[PCG_Refined[\"Id\"] == AccountID][\"Definition\"].values[0]\n",
        "\n",
        "    df = pd.DataFrame(columns=[\"anchor\", \"positive\", \"negative\"])\n",
        "\n",
        "    for i in range(3):\n",
        "        print(f\"Iteration {i+1}\")\n",
        "        try:\n",
        "            response = Run_Generator(Definition)\n",
        "            parsed_json = json.loads(response.generated_scenarios)\n",
        "            break\n",
        "        except Exception as e:\n",
        "            print(f\"Error: {e}\")\n",
        "            time.sleep(1)\n",
        "            continue\n",
        "\n",
        "    for item in parsed_json:\n",
        "        anchor_prompt = item[\"prompt\"]\n",
        "        positive_definition = Definition\n",
        "        negative_definitions = PCG_Refined[PCG_Refined[\"Id\"] != AccountID][\"Definition\"].tolist()\n",
        "        negative_definition = random.choice(negative_definitions)\n",
        "\n",
        "        while negative_definition == Definition:\n",
        "            negative_definition = random.choice(negative_definitions)\n",
        "\n",
        "        new_row = pd.DataFrame([{\n",
        "            \"anchor\": anchor_prompt,\n",
        "            \"positive\": positive_definition,\n",
        "            \"negative\": negative_definition\n",
        "        }])\n",
        "\n",
        "        df = pd.concat([df, new_row], ignore_index=True)\n",
        "\n",
        "    return df\n",
        "\n",
        "def Run_ALL(PCG_Refined):\n",
        "    Final = pd.DataFrame(columns=[\"anchor\", \"positive\", \"negative\"])\n",
        "    counter = 0\n",
        "    for account_id in tqdm(PCG_Refined[\"Id\"].unique(), desc=\"Generating Data...\"):\n",
        "      try:\n",
        "        result_df = Run_And_Parse(account_id, PCG_Refined)\n",
        "        Final = pd.concat([Final, result_df], ignore_index=True)\n",
        "        if counter == 10:\n",
        "          print(\"Sleeping for 60 seconds...\")\n",
        "          time.sleep(60)\n",
        "          counter = 0\n",
        "          # Save your csv in case a crush occured you will not start from the bigening again\n",
        "          print(\"Saving CSV...\")\n",
        "          Final.to_csv(\"Final.csv\", index=False)\n",
        "        else :\n",
        "          counter += 1\n",
        "          time.sleep(2)\n",
        "\n",
        "      except Exception:\n",
        "        continue\n",
        "\n",
        "    Final.to_csv(\"Final.csv\", index=False)\n",
        "    return Final"
      ],
      "metadata": {
        "id": "zxINISh47JBX"
      },
      "execution_count": null,
      "outputs": []
    },
    {
      "cell_type": "markdown",
      "source": [
        "## Test Code with a definition"
      ],
      "metadata": {
        "id": "lQHOcZIW22Aw"
      }
    },
    {
      "cell_type": "code",
      "source": [
        "example = PCG_Refined.iloc[53][\"Definition\"]\n",
        "response = Run_Generator(example)\n",
        "parsed_json = json.loads(response.generated_scenarios)\n",
        "\n",
        "print(example)\n",
        "print(json.dumps(parsed_json, indent=4, ensure_ascii=False))"
      ],
      "metadata": {
        "colab": {
          "base_uri": "https://localhost:8080/"
        },
        "id": "5ezZ8BKy2iUc",
        "outputId": "9ef33987-bc89-47e2-edd9-12efcccc3c25"
      },
      "execution_count": null,
      "outputs": [
        {
          "output_type": "stream",
          "name": "stdout",
          "text": [
            "Ce compte enregistre les paiements effectués pour des services d'intermédiaires et d'honoraires. Cela inclut les commissions versées à des agents commerciaux, les honoraires d'avocats ou d'experts-comptables, ainsi que les frais liés aux actes juridiques et aux contentieux.\n",
            "\n",
            "1. Une entreprise paie une commission de 5% à un agent immobilier pour la vente d'un bien. 2. Un avocat reçoit un honoraire de 150 euros pour une consultation juridique. 3. Un expert-comptable facture 1 000 euros pour la préparation des états financiers d'une entreprise. 4. Un notaire est rémunéré pour 300 euros pour la rédaction d'un acte de vente. 5. Une société paie des frais de 200 euros à un huissier pour l'exécution d'un jugement. 6. Un consultant reçoit 800 euros pour un audit de l'entreprise. 7. Une agence de publicité perçoit une commission de 10% sur les ventes générées par une campagne. 8. Un courtier en assurance est rémunéré pour une prime de 2 500 euros. 9. Un architecte facture 5 000 euros pour la conception d'un projet de construction. 10. Un gestionnaire de patrimoine reçoit un pourcentage des actifs sous gestion. 11. Un traducteur indépendant est payé 50 euros pour la traduction d'un document. 12. Une entreprise engage un conseiller fiscal pour 600 euros pour des conseils sur la déclaration d'impôts. 13. Un agent de voyage reçoit une commission pour la réservation d'un voyage. 14. Une entreprise paie des frais de 100 euros pour la rédaction d'un contrat par un juriste. 15. Un consultant en management est rémunéré 1 200 euros pour une session de formation.\n",
            "[\n",
            "    {\n",
            "        \"id\": 1,\n",
            "        \"prompt\": \"Une entreprise de construction au Maroc a récemment vendu un immeuble et a dû payer une commission de 5% à un agent immobilier pour la transaction. La vente s'est élevée à 1 000 000 dirhams, ce qui représente une commission de 50 000 dirhams, enregistrée comme honoraires d'intermédiaires. \"\n",
            "    },\n",
            "    {\n",
            "        \"id\": 2,\n",
            "        \"prompt\": \"Une petite entreprise de commerce a sollicité l'aide d'un avocat pour une question juridique complexe. Après une consultation, l'avocat a facturé un honoraire de 150 euros pour ses services, ce qui a été enregistré dans les comptes de l'entreprise comme une dépense d'honoraires. \"\n",
            "    },\n",
            "    {\n",
            "        \"id\": 3,\n",
            "        \"prompt\": \"Un expert-comptable a été engagé par une PME marocaine pour préparer les états financiers annuels. Pour ces services, il a facturé 1 000 euros. L'entreprise a alors inscrit cette somme dans ses comptes comme des honoraires professionnels. \"\n",
            "    },\n",
            "    {\n",
            "        \"id\": 4,\n",
            "        \"prompt\": \"Lors de la vente d'un bien immobilier, une entreprise a engagé un notaire pour rédiger l'acte de vente. Le notaire a facturé 300 euros pour ses services, montant enregistré dans le compte des honoraires d'intermédiaires. \"\n",
            "    },\n",
            "    {\n",
            "        \"id\": 5,\n",
            "        \"prompt\": \"Une société de transport a dû payer 200 euros à un huissier pour exécuter un jugement en sa faveur. Ce montant a été enregistré comme des frais liés aux actes juridiques dans la comptabilité de l'entreprise. \"\n",
            "    },\n",
            "    {\n",
            "        \"id\": 6,\n",
            "        \"prompt\": \"Une entreprise de services a commandé un audit complet de ses opérations. Le consultant en charge a facturé 800 euros pour son travail, et cette dépense a été intégrée dans les comptes sous la rubrique des honoraires d'experts. \"\n",
            "    },\n",
            "    {\n",
            "        \"id\": 7,\n",
            "        \"prompt\": \"Une agence de publicité a mis en place une campagne promotionnelle pour une société de cosmétiques. En raison du succès de la campagne, l'agence a reçu une commission de 10% sur les ventes générées, soit 50 000 dirhams, ce qui a été comptabilisé comme des honoraires d'intermédiaires. \"\n",
            "    },\n",
            "    {\n",
            "        \"id\": 8,\n",
            "        \"prompt\": \"Un courtier en assurance a aidé une entreprise à souscrire à une nouvelle police d'assurance. Pour ses services, il a reçu une rémunération de 2 500 euros, enregistrée dans les comptes comme des honoraires professionnels. \"\n",
            "    },\n",
            "    {\n",
            "        \"id\": 9,\n",
            "        \"prompt\": \"Un architecte a été engagé pour concevoir un projet de construction d'un nouveau bâtiment. Il a facturé 5 000 euros pour ses services, montant qui a été enregistré en tant que frais d'honoraires d'intermédiaires. \"\n",
            "    },\n",
            "    {\n",
            "        \"id\": 10,\n",
            "        \"prompt\": \"Une société de gestion de patrimoine a un gestionnaire qui reçoit un pourcentage des actifs sous gestion. Pour l'année, ce pourcentage s'est élevé à 10 000 dirhams, montant comptabilisé comme des frais d'honoraires dans le plan comptable. \"\n",
            "    },\n",
            "    {\n",
            "        \"id\": 11,\n",
            "        \"prompt\": \"Un traducteur indépendant a été engagé par une entreprise pour traduire un document technique. Pour son travail, il a reçu 50 euros, ce qui a été enregistré comme un coût de service extérieur dans les comptes de l'entreprise. \"\n",
            "    },\n",
            "    {\n",
            "        \"id\": 12,\n",
            "        \"prompt\": \"Une société a fait appel à un conseiller fiscal pour obtenir des conseils sur sa déclaration d'impôts. Ce consultant a facturé 600 euros pour ses services, somme enregistrée dans les honoraires d'experts. \"\n",
            "    },\n",
            "    {\n",
            "        \"id\": 13,\n",
            "        \"prompt\": \"Un agent de voyage est sollicité par une entreprise pour organiser un voyage d'affaires. Il perçoit une commission sur les réservations effectuées, montant qui est comptabilisé comme des honoraires d'intermédiaires. \"\n",
            "    },\n",
            "    {\n",
            "        \"id\": 14,\n",
            "        \"prompt\": \"Une société souhaitant établir un nouveau partenariat a engagé un juriste pour rédiger un contrat. Pour cela, elle a payé des frais de 100 euros, enregistrés comme des honoraires d'intermédiaires dans le plan comptable. \"\n",
            "    },\n",
            "    {\n",
            "        \"id\": 15,\n",
            "        \"prompt\": \"Un consultant en management a été engagé pour dispenser une session de formation au personnel d'une entreprise. Pour ses services, il a facturé 1 200 euros, ce qui a été comptabilisé comme des honoraires d'experts dans les livres de l'entreprise. \"\n",
            "    },\n",
            "    {\n",
            "        \"id\": 16,\n",
            "        \"prompt\": \"Une entreprise de textile a engagé un agent commercial pour promouvoir ses produits à l'étranger. En raison des ventes réalisées, elle a payé une commission de 5% sur les ventes, totalisant 20 000 dirhams, enregistrée comme honoraires d'intermédiaires. \"\n",
            "    },\n",
            "    {\n",
            "        \"id\": 17,\n",
            "        \"prompt\": \"Un avocat a été engagé par une société pour un litige commercial. Après plusieurs heures de travail, il a facturé 150 euros pour ses services, montant inscrit dans les comptes comme honoraires d'avocat. \"\n",
            "    },\n",
            "    {\n",
            "        \"id\": 18,\n",
            "        \"prompt\": \"Un expert-comptable a été sollicité pour la révision des comptes d'une entreprise. Il a facturé 1 000 euros pour ses services d'audit, ce montant étant enregistré comme des honoraires professionnels dans le plan comptable. \"\n",
            "    },\n",
            "    {\n",
            "        \"id\": 19,\n",
            "        \"prompt\": \"Un notaire a été chargé de rédiger l'acte de constitution d'une société. Il a facturé 300 euros pour ses services, montant enregistré comme des honoraires d'intermédiaires dans la comptabilité de l'entreprise. \"\n",
            "    },\n",
            "    {\n",
            "        \"id\": 20,\n",
            "        \"prompt\": \"Une entreprise de logistique a dû payer 200 euros à un huissier pour signifier une mise en demeure. Cette dépense a été comptabilisée comme des frais juridiques dans le plan comptable de l'entreprise. \"\n",
            "    },\n",
            "    {\n",
            "        \"id\": 21,\n",
            "        \"prompt\": \"Un consultant a été engagé pour accompagner une entreprise dans sa transformation digitale. Il a facturé 800 euros pour ses conseils, montant inscrit dans les comptes comme honoraires d'experts. \"\n",
            "    },\n",
            "    {\n",
            "        \"id\": 22,\n",
            "        \"prompt\": \"Une agence de publicité a mis en place une campagne pour une société de boissons, recevant une commission de 10% sur les ventes, soit 25 000 dirhams, montant enregistré comme honoraires d'intermédiaires. \"\n",
            "    },\n",
            "    {\n",
            "        \"id\": 23,\n",
            "        \"prompt\": \"Un courtier en assurance a assisté une entreprise dans la souscription d'une nouvelle police, recevant 2 500 euros pour ses services, inscrit comme honoraires professionnels dans les livres de l'entreprise. \"\n",
            "    },\n",
            "    {\n",
            "        \"id\": 24,\n",
            "        \"prompt\": \"Un architecte a facturé 5 000 euros pour la conception d'un espace commercial. Ce montant a été inscrit dans les comptes comme des honoraires d'intermédiaires. \"\n",
            "    },\n",
            "    {\n",
            "        \"id\": 25,\n",
            "        \"prompt\": \"Une société de gestion a un gestionnaire qui reçoit 10 000 dirhams pour l'administration des actifs de ses clients, montant comptabilisé comme honoraires d'experts. \"\n",
            "    },\n",
            "    {\n",
            "        \"id\": 26,\n",
            "        \"prompt\": \"Un traducteur a été engagé pour traduire des documents juridiques. Il a reçu 50 euros pour son travail, montant enregistré comme honoraires d'experts dans le plan comptable de l'entreprise. \"\n",
            "    },\n",
            "    {\n",
            "        \"id\": 27,\n",
            "        \"prompt\": \"Une entreprise a engagé un conseiller fiscal pour des conseils sur l'optimisation fiscale. Ce consultant a facturé 600 euros, montant inscrit comme honoraires d'experts dans la comptabilité de l'entreprise. \"\n",
            "    },\n",
            "    {\n",
            "        \"id\": 28,\n",
            "        \"prompt\": \"Un agent de voyage a perçu une commission pour la réservation d'un voyage d'affaires pour une entreprise. Ce montant a été comptabilisé comme honoraires d'intermédiaires. \"\n",
            "    },\n",
            "    {\n",
            "        \"id\": 29,\n",
            "        \"prompt\": \"Une entreprise a payé 100 euros à un juriste pour la rédaction d'un contrat de partenariat, montant inscrit comme honoraires d'intermédiaires dans le plan comptable. \"\n",
            "    },\n",
            "    {\n",
            "        \"id\": 30,\n",
            "        \"prompt\": \"Un consultant en management a été engagé pour former le personnel d'une entreprise, facturant 1 200 euros, montant enregistré comme honoraires d'experts dans les livres de l'entreprise. \"\n",
            "    }\n",
            "]\n"
          ]
        }
      ]
    },
    {
      "cell_type": "code",
      "source": [
        "Run_ALL(PCG_Refined)"
      ],
      "metadata": {
        "colab": {
          "base_uri": "https://localhost:8080/",
          "height": 1000
        },
        "id": "sLnWz8Zv8nvR",
        "outputId": "63489977-7147-479b-f373-4a482d9dc2ee"
      },
      "execution_count": null,
      "outputs": [
        {
          "output_type": "stream",
          "name": "stderr",
          "text": [
            "\rGenerating Data...:   0%|          | 0/84 [00:00<?, ?it/s]"
          ]
        },
        {
          "output_type": "stream",
          "name": "stdout",
          "text": [
            "Iteration 1\n"
          ]
        },
        {
          "output_type": "stream",
          "name": "stderr",
          "text": [
            "\rGenerating Data...:   1%|          | 1/84 [00:16<22:56, 16.58s/it]"
          ]
        },
        {
          "output_type": "stream",
          "name": "stdout",
          "text": [
            "Iteration 1\n"
          ]
        },
        {
          "output_type": "stream",
          "name": "stderr",
          "text": [
            "\rGenerating Data...:   2%|▏         | 2/84 [00:25<16:37, 12.17s/it]"
          ]
        },
        {
          "output_type": "stream",
          "name": "stdout",
          "text": [
            "Iteration 1\n"
          ]
        },
        {
          "output_type": "stream",
          "name": "stderr",
          "text": [
            "\rGenerating Data...:   4%|▎         | 3/84 [00:33<13:42, 10.15s/it]"
          ]
        },
        {
          "output_type": "stream",
          "name": "stdout",
          "text": [
            "Iteration 1\n",
            "Error: Extra data: line 1 column 5935 (char 5934)\n",
            "Iteration 2\n"
          ]
        },
        {
          "output_type": "stream",
          "name": "stderr",
          "text": [
            "\rGenerating Data...:   5%|▍         | 4/84 [01:11<28:04, 21.06s/it]"
          ]
        },
        {
          "output_type": "stream",
          "name": "stdout",
          "text": [
            "Iteration 1\n",
            "Error: Extra data: line 1 column 6917 (char 6916)\n",
            "Iteration 2\n"
          ]
        },
        {
          "output_type": "stream",
          "name": "stderr",
          "text": [
            "\rGenerating Data...:   6%|▌         | 5/84 [01:45<33:51, 25.71s/it]"
          ]
        },
        {
          "output_type": "stream",
          "name": "stdout",
          "text": [
            "Iteration 1\n"
          ]
        },
        {
          "output_type": "stream",
          "name": "stderr",
          "text": [
            "\rGenerating Data...:   7%|▋         | 6/84 [01:56<27:05, 20.84s/it]"
          ]
        },
        {
          "output_type": "stream",
          "name": "stdout",
          "text": [
            "Iteration 1\n",
            "Error: Expecting ',' delimiter: line 1 column 37 (char 36)\n",
            "Iteration 2\n"
          ]
        },
        {
          "output_type": "stream",
          "name": "stderr",
          "text": [
            "\rGenerating Data...:   8%|▊         | 7/84 [02:28<31:21, 24.44s/it]"
          ]
        },
        {
          "output_type": "stream",
          "name": "stdout",
          "text": [
            "Iteration 1\n"
          ]
        },
        {
          "output_type": "stream",
          "name": "stderr",
          "text": [
            "\rGenerating Data...:  10%|▉         | 8/84 [02:49<29:38, 23.40s/it]"
          ]
        },
        {
          "output_type": "stream",
          "name": "stdout",
          "text": [
            "Iteration 1\n",
            "Error: Extra data: line 1 column 5406 (char 5405)\n",
            "Iteration 2\n"
          ]
        },
        {
          "output_type": "stream",
          "name": "stderr",
          "text": [
            "\rGenerating Data...:  11%|█         | 9/84 [03:14<29:58, 23.98s/it]"
          ]
        },
        {
          "output_type": "stream",
          "name": "stdout",
          "text": [
            "Iteration 1\n",
            "Error: Extra data: line 1 column 4332 (char 4331)\n",
            "Iteration 2\n",
            "Error: Extra data: line 1 column 6656 (char 6655)\n",
            "Iteration 3\n"
          ]
        },
        {
          "output_type": "stream",
          "name": "stderr",
          "text": [
            "\rGenerating Data...:  12%|█▏        | 10/84 [03:58<37:09, 30.13s/it]"
          ]
        },
        {
          "output_type": "stream",
          "name": "stdout",
          "text": [
            "Iteration 1\n",
            "Sleeping for 60 seconds...\n"
          ]
        },
        {
          "output_type": "stream",
          "name": "stderr",
          "text": [
            "\rGenerating Data...:  13%|█▎        | 11/84 [05:11<52:25, 43.09s/it]"
          ]
        },
        {
          "output_type": "stream",
          "name": "stdout",
          "text": [
            "Saving CSV...\n",
            "Iteration 1\n"
          ]
        },
        {
          "output_type": "stream",
          "name": "stderr",
          "text": [
            "\rGenerating Data...:  14%|█▍        | 12/84 [05:21<39:51, 33.22s/it]"
          ]
        },
        {
          "output_type": "stream",
          "name": "stdout",
          "text": [
            "Iteration 1\n"
          ]
        },
        {
          "output_type": "stream",
          "name": "stderr",
          "text": [
            "\rGenerating Data...:  15%|█▌        | 13/84 [05:36<32:35, 27.54s/it]"
          ]
        },
        {
          "output_type": "stream",
          "name": "stdout",
          "text": [
            "Iteration 1\n",
            "Error: Extra data: line 1 column 3442 (char 3441)\n",
            "Iteration 2\n"
          ]
        },
        {
          "output_type": "stream",
          "name": "stderr",
          "text": [
            "\rGenerating Data...:  17%|█▋        | 14/84 [06:02<31:34, 27.06s/it]"
          ]
        },
        {
          "output_type": "stream",
          "name": "stdout",
          "text": [
            "Iteration 1\n",
            "Error: Extra data: line 1 column 3724 (char 3723)\n",
            "Iteration 2\n",
            "Error: Invalid control character at: line 1 column 359 (char 358)\n",
            "Iteration 3\n",
            "Error: Extra data: line 1 column 4244 (char 4243)\n"
          ]
        },
        {
          "output_type": "stream",
          "name": "stderr",
          "text": [
            "\rGenerating Data...:  18%|█▊        | 15/84 [06:37<34:00, 29.57s/it]"
          ]
        },
        {
          "output_type": "stream",
          "name": "stdout",
          "text": [
            "Iteration 1\n",
            "Error: Extra data: line 1 column 7073 (char 7072)\n",
            "Iteration 2\n"
          ]
        },
        {
          "output_type": "stream",
          "name": "stderr",
          "text": [
            "\rGenerating Data...:  19%|█▉        | 16/84 [07:13<35:37, 31.44s/it]"
          ]
        },
        {
          "output_type": "stream",
          "name": "stdout",
          "text": [
            "Iteration 1\n"
          ]
        },
        {
          "output_type": "stream",
          "name": "stderr",
          "text": [
            "\rGenerating Data...:  20%|██        | 17/84 [07:25<28:30, 25.53s/it]"
          ]
        },
        {
          "output_type": "stream",
          "name": "stdout",
          "text": [
            "Iteration 1\n"
          ]
        },
        {
          "output_type": "stream",
          "name": "stderr",
          "text": [
            "\rGenerating Data...:  21%|██▏       | 18/84 [07:40<24:48, 22.56s/it]"
          ]
        },
        {
          "output_type": "stream",
          "name": "stdout",
          "text": [
            "Iteration 1\n"
          ]
        },
        {
          "output_type": "stream",
          "name": "stderr",
          "text": [
            "\rGenerating Data...:  23%|██▎       | 19/84 [07:51<20:36, 19.03s/it]"
          ]
        },
        {
          "output_type": "stream",
          "name": "stdout",
          "text": [
            "Iteration 1\n"
          ]
        },
        {
          "output_type": "stream",
          "name": "stderr",
          "text": [
            "\rGenerating Data...:  24%|██▍       | 20/84 [08:01<17:29, 16.40s/it]"
          ]
        },
        {
          "output_type": "stream",
          "name": "stdout",
          "text": [
            "Iteration 1\n"
          ]
        },
        {
          "output_type": "stream",
          "name": "stderr",
          "text": [
            "\rGenerating Data...:  25%|██▌       | 21/84 [08:14<16:10, 15.40s/it]"
          ]
        },
        {
          "output_type": "stream",
          "name": "stdout",
          "text": [
            "Iteration 1\n"
          ]
        },
        {
          "output_type": "stream",
          "name": "stderr",
          "text": [
            "\rGenerating Data...:  26%|██▌       | 22/84 [08:25<14:32, 14.07s/it]"
          ]
        },
        {
          "output_type": "stream",
          "name": "stdout",
          "text": [
            "Iteration 1\n",
            "Error: Extra data: line 1 column 4055 (char 4054)\n",
            "Iteration 2\n",
            "Error: Extra data: line 1 column 6307 (char 6306)\n",
            "Iteration 3\n",
            "Sleeping for 60 seconds...\n"
          ]
        },
        {
          "output_type": "stream",
          "name": "stderr",
          "text": [
            "\rGenerating Data...:  27%|██▋       | 23/84 [10:00<38:55, 38.29s/it]"
          ]
        },
        {
          "output_type": "stream",
          "name": "stdout",
          "text": [
            "Saving CSV...\n",
            "Iteration 1\n",
            "Error: Extra data: line 1 column 5501 (char 5500)\n",
            "Iteration 2\n"
          ]
        },
        {
          "output_type": "stream",
          "name": "stderr",
          "text": [
            "\rGenerating Data...:  29%|██▊       | 24/84 [10:24<34:02, 34.04s/it]"
          ]
        },
        {
          "output_type": "stream",
          "name": "stdout",
          "text": [
            "Iteration 1\n"
          ]
        },
        {
          "output_type": "stream",
          "name": "stderr",
          "text": [
            "\rGenerating Data...:  30%|██▉       | 25/84 [10:42<28:32, 29.02s/it]"
          ]
        },
        {
          "output_type": "stream",
          "name": "stdout",
          "text": [
            "Iteration 1\n"
          ]
        },
        {
          "output_type": "stream",
          "name": "stderr",
          "text": [
            "\rGenerating Data...:  31%|███       | 26/84 [10:52<22:34, 23.35s/it]"
          ]
        },
        {
          "output_type": "stream",
          "name": "stdout",
          "text": [
            "Iteration 1\n"
          ]
        },
        {
          "output_type": "stream",
          "name": "stderr",
          "text": [
            "\rGenerating Data...:  32%|███▏      | 27/84 [11:06<19:41, 20.72s/it]"
          ]
        },
        {
          "output_type": "stream",
          "name": "stdout",
          "text": [
            "Iteration 1\n",
            "Error: Extra data: line 1 column 7295 (char 7294)\n",
            "Iteration 2\n",
            "Error: Extra data: line 1 column 3696 (char 3695)\n",
            "Iteration 3\n"
          ]
        },
        {
          "output_type": "stream",
          "name": "stderr",
          "text": [
            "\rGenerating Data...:  33%|███▎      | 28/84 [11:39<22:47, 24.42s/it]"
          ]
        },
        {
          "output_type": "stream",
          "name": "stdout",
          "text": [
            "Iteration 1\n"
          ]
        },
        {
          "output_type": "stream",
          "name": "stderr",
          "text": [
            "\rGenerating Data...:  35%|███▍      | 29/84 [11:57<20:22, 22.23s/it]"
          ]
        },
        {
          "output_type": "stream",
          "name": "stdout",
          "text": [
            "Iteration 1\n",
            "Error: Extra data: line 1 column 5119 (char 5118)\n",
            "Iteration 2\n",
            "Error: Extra data: line 1 column 6871 (char 6870)\n",
            "Iteration 3\n",
            "Error: Extra data: line 1 column 6733 (char 6732)\n"
          ]
        },
        {
          "output_type": "stream",
          "name": "stderr",
          "text": [
            "\rGenerating Data...:  36%|███▌      | 30/84 [13:21<36:54, 41.01s/it]"
          ]
        },
        {
          "output_type": "stream",
          "name": "stdout",
          "text": [
            "Iteration 1\n",
            "Error: Extra data: line 1 column 4374 (char 4373)\n",
            "Iteration 2\n"
          ]
        },
        {
          "output_type": "stream",
          "name": "stderr",
          "text": [
            "\rGenerating Data...:  37%|███▋      | 31/84 [13:50<32:49, 37.16s/it]"
          ]
        },
        {
          "output_type": "stream",
          "name": "stdout",
          "text": [
            "Iteration 1\n"
          ]
        },
        {
          "output_type": "stream",
          "name": "stderr",
          "text": [
            "\rGenerating Data...:  38%|███▊      | 32/84 [14:14<28:51, 33.30s/it]"
          ]
        },
        {
          "output_type": "stream",
          "name": "stdout",
          "text": [
            "Iteration 1\n"
          ]
        },
        {
          "output_type": "stream",
          "name": "stderr",
          "text": [
            "\rGenerating Data...:  39%|███▉      | 33/84 [14:23<22:06, 26.01s/it]"
          ]
        },
        {
          "output_type": "stream",
          "name": "stdout",
          "text": [
            "Iteration 1\n"
          ]
        },
        {
          "output_type": "stream",
          "name": "stderr",
          "text": [
            "\rGenerating Data...:  40%|████      | 34/84 [14:33<17:35, 21.10s/it]"
          ]
        },
        {
          "output_type": "stream",
          "name": "stdout",
          "text": [
            "Iteration 1\n",
            "Sleeping for 60 seconds...\n"
          ]
        },
        {
          "output_type": "stream",
          "name": "stderr",
          "text": [
            "\rGenerating Data...:  42%|████▏     | 35/84 [15:48<30:31, 37.37s/it]"
          ]
        },
        {
          "output_type": "stream",
          "name": "stdout",
          "text": [
            "Saving CSV...\n",
            "Iteration 1\n"
          ]
        },
        {
          "output_type": "stream",
          "name": "stderr",
          "text": [
            "\rGenerating Data...:  43%|████▎     | 36/84 [16:10<26:15, 32.82s/it]"
          ]
        },
        {
          "output_type": "stream",
          "name": "stdout",
          "text": [
            "Iteration 1\n"
          ]
        },
        {
          "output_type": "stream",
          "name": "stderr",
          "text": [
            "\rGenerating Data...:  44%|████▍     | 37/84 [16:20<20:18, 25.93s/it]"
          ]
        },
        {
          "output_type": "stream",
          "name": "stdout",
          "text": [
            "Iteration 1\n",
            "Error: Extra data: line 1 column 3800 (char 3799)\n",
            "Iteration 2\n"
          ]
        },
        {
          "output_type": "stream",
          "name": "stderr",
          "text": [
            "\rGenerating Data...:  45%|████▌     | 38/84 [16:43<19:18, 25.20s/it]"
          ]
        },
        {
          "output_type": "stream",
          "name": "stdout",
          "text": [
            "Iteration 1\n",
            "Error: Extra data: line 1 column 6392 (char 6391)\n",
            "Iteration 2\n"
          ]
        },
        {
          "output_type": "stream",
          "name": "stderr",
          "text": [
            "\rGenerating Data...:  46%|████▋     | 39/84 [17:24<22:25, 29.91s/it]"
          ]
        },
        {
          "output_type": "stream",
          "name": "stdout",
          "text": [
            "Iteration 1\n"
          ]
        },
        {
          "output_type": "stream",
          "name": "stderr",
          "text": [
            "\rGenerating Data...:  48%|████▊     | 40/84 [17:44<19:39, 26.80s/it]"
          ]
        },
        {
          "output_type": "stream",
          "name": "stdout",
          "text": [
            "Iteration 1\n"
          ]
        },
        {
          "output_type": "stream",
          "name": "stderr",
          "text": [
            "\rGenerating Data...:  49%|████▉     | 41/84 [18:00<17:01, 23.75s/it]"
          ]
        },
        {
          "output_type": "stream",
          "name": "stdout",
          "text": [
            "Iteration 1\n",
            "Error: Extra data: line 1 column 5890 (char 5889)\n",
            "Iteration 2\n",
            "Error: Extra data: line 1 column 7988 (char 7987)\n",
            "Iteration 3\n",
            "Error: Extra data: line 1 column 7543 (char 7542)\n"
          ]
        },
        {
          "output_type": "stream",
          "name": "stderr",
          "text": [
            "\rGenerating Data...:  50%|█████     | 42/84 [19:04<25:05, 35.83s/it]"
          ]
        },
        {
          "output_type": "stream",
          "name": "stdout",
          "text": [
            "Iteration 1\n",
            "Error: Extra data: line 1 column 3406 (char 3405)\n",
            "Iteration 2\n"
          ]
        },
        {
          "output_type": "stream",
          "name": "stderr",
          "text": [
            "\rGenerating Data...:  51%|█████     | 43/84 [19:23<20:59, 30.71s/it]"
          ]
        },
        {
          "output_type": "stream",
          "name": "stdout",
          "text": [
            "Iteration 1\n",
            "Error: Extra data: line 1 column 6795 (char 6794)\n",
            "Iteration 2\n"
          ]
        },
        {
          "output_type": "stream",
          "name": "stderr",
          "text": [
            "\rGenerating Data...:  52%|█████▏    | 44/84 [20:15<24:39, 36.98s/it]"
          ]
        },
        {
          "output_type": "stream",
          "name": "stdout",
          "text": [
            "Iteration 1\n"
          ]
        },
        {
          "output_type": "stream",
          "name": "stderr",
          "text": [
            "\rGenerating Data...:  54%|█████▎    | 45/84 [20:26<18:58, 29.20s/it]"
          ]
        },
        {
          "output_type": "stream",
          "name": "stdout",
          "text": [
            "Iteration 1\n"
          ]
        },
        {
          "output_type": "stream",
          "name": "stderr",
          "text": [
            "\rGenerating Data...:  55%|█████▍    | 46/84 [20:45<16:34, 26.17s/it]"
          ]
        },
        {
          "output_type": "stream",
          "name": "stdout",
          "text": [
            "Iteration 1\n",
            "Sleeping for 60 seconds...\n"
          ]
        },
        {
          "output_type": "stream",
          "name": "stderr",
          "text": [
            "\rGenerating Data...:  56%|█████▌    | 47/84 [21:57<24:32, 39.81s/it]"
          ]
        },
        {
          "output_type": "stream",
          "name": "stdout",
          "text": [
            "Saving CSV...\n",
            "Iteration 1\n"
          ]
        },
        {
          "output_type": "stream",
          "name": "stderr",
          "text": [
            "\rGenerating Data...:  57%|█████▋    | 48/84 [22:09<18:57, 31.59s/it]"
          ]
        },
        {
          "output_type": "stream",
          "name": "stdout",
          "text": [
            "Iteration 1\n"
          ]
        },
        {
          "output_type": "stream",
          "name": "stderr",
          "text": [
            "\rGenerating Data...:  58%|█████▊    | 49/84 [22:29<16:25, 28.16s/it]"
          ]
        },
        {
          "output_type": "stream",
          "name": "stdout",
          "text": [
            "Iteration 1\n"
          ]
        },
        {
          "output_type": "stream",
          "name": "stderr",
          "text": [
            "\rGenerating Data...:  60%|█████▉    | 50/84 [22:43<13:31, 23.86s/it]"
          ]
        },
        {
          "output_type": "stream",
          "name": "stdout",
          "text": [
            "Iteration 1\n"
          ]
        },
        {
          "output_type": "stream",
          "name": "stderr",
          "text": [
            "\rGenerating Data...:  61%|██████    | 51/84 [22:58<11:41, 21.25s/it]"
          ]
        },
        {
          "output_type": "stream",
          "name": "stdout",
          "text": [
            "Iteration 1\n"
          ]
        },
        {
          "output_type": "stream",
          "name": "stderr",
          "text": [
            "\rGenerating Data...:  62%|██████▏   | 52/84 [23:47<15:47, 29.62s/it]"
          ]
        },
        {
          "output_type": "stream",
          "name": "stdout",
          "text": [
            "Iteration 1\n"
          ]
        },
        {
          "output_type": "stream",
          "name": "stderr",
          "text": [
            "\rGenerating Data...:  63%|██████▎   | 53/84 [24:07<13:45, 26.63s/it]"
          ]
        },
        {
          "output_type": "stream",
          "name": "stdout",
          "text": [
            "Iteration 1\n"
          ]
        },
        {
          "output_type": "stream",
          "name": "stderr",
          "text": [
            "\rGenerating Data...:  64%|██████▍   | 54/84 [24:21<11:27, 22.91s/it]"
          ]
        },
        {
          "output_type": "stream",
          "name": "stdout",
          "text": [
            "Iteration 1\n"
          ]
        },
        {
          "output_type": "stream",
          "name": "stderr",
          "text": [
            "\rGenerating Data...:  65%|██████▌   | 55/84 [24:42<10:41, 22.13s/it]"
          ]
        },
        {
          "output_type": "stream",
          "name": "stdout",
          "text": [
            "Iteration 1\n",
            "Error: Extra data: line 1 column 3133 (char 3132)\n",
            "Iteration 2\n"
          ]
        },
        {
          "output_type": "stream",
          "name": "stderr",
          "text": [
            "\rGenerating Data...:  67%|██████▋   | 56/84 [25:04<10:20, 22.16s/it]"
          ]
        },
        {
          "output_type": "stream",
          "name": "stdout",
          "text": [
            "Iteration 1\n"
          ]
        },
        {
          "output_type": "stream",
          "name": "stderr",
          "text": [
            "\rGenerating Data...:  68%|██████▊   | 57/84 [25:24<09:44, 21.66s/it]"
          ]
        },
        {
          "output_type": "stream",
          "name": "stdout",
          "text": [
            "Iteration 1\n",
            "Sleeping for 60 seconds...\n"
          ]
        },
        {
          "output_type": "stream",
          "name": "stderr",
          "text": [
            "\rGenerating Data...:  69%|██████▉   | 58/84 [26:38<16:10, 37.31s/it]"
          ]
        },
        {
          "output_type": "stream",
          "name": "stdout",
          "text": [
            "Saving CSV...\n",
            "Iteration 1\n"
          ]
        },
        {
          "output_type": "stream",
          "name": "stderr",
          "text": [
            "\rGenerating Data...:  70%|███████   | 59/84 [26:57<13:17, 31.91s/it]"
          ]
        },
        {
          "output_type": "stream",
          "name": "stdout",
          "text": [
            "Iteration 1\n"
          ]
        },
        {
          "output_type": "stream",
          "name": "stderr",
          "text": [
            "\rGenerating Data...:  71%|███████▏  | 60/84 [27:10<10:29, 26.24s/it]"
          ]
        },
        {
          "output_type": "stream",
          "name": "stdout",
          "text": [
            "Iteration 1\n"
          ]
        },
        {
          "output_type": "stream",
          "name": "stderr",
          "text": [
            "\rGenerating Data...:  73%|███████▎  | 61/84 [27:32<09:33, 24.92s/it]"
          ]
        },
        {
          "output_type": "stream",
          "name": "stdout",
          "text": [
            "Iteration 1\n",
            "Error: Extra data: line 1 column 5713 (char 5712)\n",
            "Iteration 2\n",
            "Error: Extra data: line 1 column 5026 (char 5025)\n",
            "Iteration 3\n",
            "Error: Extra data: line 1 column 5070 (char 5069)\n"
          ]
        },
        {
          "output_type": "stream",
          "name": "stderr",
          "text": [
            "\rGenerating Data...:  74%|███████▍  | 62/84 [28:28<12:34, 34.30s/it]"
          ]
        },
        {
          "output_type": "stream",
          "name": "stdout",
          "text": [
            "Iteration 1\n"
          ]
        },
        {
          "output_type": "stream",
          "name": "stderr",
          "text": [
            "\rGenerating Data...:  75%|███████▌  | 63/84 [28:42<09:52, 28.19s/it]"
          ]
        },
        {
          "output_type": "stream",
          "name": "stdout",
          "text": [
            "Iteration 1\n"
          ]
        },
        {
          "output_type": "stream",
          "name": "stderr",
          "text": [
            "\rGenerating Data...:  76%|███████▌  | 64/84 [28:53<07:38, 22.92s/it]"
          ]
        },
        {
          "output_type": "stream",
          "name": "stdout",
          "text": [
            "Iteration 1\n",
            "Error: Extra data: line 1 column 5870 (char 5869)\n",
            "Iteration 2\n"
          ]
        },
        {
          "output_type": "stream",
          "name": "stderr",
          "text": [
            "\rGenerating Data...:  77%|███████▋  | 65/84 [29:25<08:08, 25.71s/it]"
          ]
        },
        {
          "output_type": "stream",
          "name": "stdout",
          "text": [
            "Iteration 1\n",
            "Error: Extra data: line 1 column 2969 (char 2968)\n",
            "Iteration 2\n"
          ]
        },
        {
          "output_type": "stream",
          "name": "stderr",
          "text": [
            "\rGenerating Data...:  79%|███████▊  | 66/84 [29:50<07:40, 25.57s/it]"
          ]
        },
        {
          "output_type": "stream",
          "name": "stdout",
          "text": [
            "Iteration 1\n"
          ]
        },
        {
          "output_type": "stream",
          "name": "stderr",
          "text": [
            "\rGenerating Data...:  80%|███████▉  | 67/84 [30:07<06:30, 22.95s/it]"
          ]
        },
        {
          "output_type": "stream",
          "name": "stdout",
          "text": [
            "Iteration 1\n"
          ]
        },
        {
          "output_type": "stream",
          "name": "stderr",
          "text": [
            "\rGenerating Data...:  81%|████████  | 68/84 [30:17<05:02, 18.93s/it]"
          ]
        },
        {
          "output_type": "stream",
          "name": "stdout",
          "text": [
            "Iteration 1\n",
            "Error: Extra data: line 1 column 3939 (char 3938)\n",
            "Iteration 2\n"
          ]
        },
        {
          "output_type": "stream",
          "name": "stderr",
          "text": [
            "\rGenerating Data...:  82%|████████▏ | 69/84 [30:43<05:16, 21.10s/it]"
          ]
        },
        {
          "output_type": "stream",
          "name": "stdout",
          "text": [
            "Iteration 1\n",
            "Sleeping for 60 seconds...\n"
          ]
        },
        {
          "output_type": "stream",
          "name": "stderr",
          "text": [
            "\rGenerating Data...:  83%|████████▎ | 70/84 [31:57<08:39, 37.11s/it]"
          ]
        },
        {
          "output_type": "stream",
          "name": "stdout",
          "text": [
            "Saving CSV...\n",
            "Iteration 1\n"
          ]
        },
        {
          "output_type": "stream",
          "name": "stderr",
          "text": [
            "\rGenerating Data...:  85%|████████▍ | 71/84 [32:19<07:03, 32.55s/it]"
          ]
        },
        {
          "output_type": "stream",
          "name": "stdout",
          "text": [
            "Iteration 1\n"
          ]
        },
        {
          "output_type": "stream",
          "name": "stderr",
          "text": [
            "\rGenerating Data...:  86%|████████▌ | 72/84 [32:31<05:16, 26.39s/it]"
          ]
        },
        {
          "output_type": "stream",
          "name": "stdout",
          "text": [
            "Iteration 1\n"
          ]
        },
        {
          "output_type": "stream",
          "name": "stderr",
          "text": [
            "\rGenerating Data...:  87%|████████▋ | 73/84 [32:41<03:53, 21.24s/it]"
          ]
        },
        {
          "output_type": "stream",
          "name": "stdout",
          "text": [
            "Iteration 1\n",
            "Error: Extra data: line 1 column 6458 (char 6457)\n",
            "Iteration 2\n"
          ]
        },
        {
          "output_type": "stream",
          "name": "stderr",
          "text": [
            "\rGenerating Data...:  88%|████████▊ | 74/84 [33:10<03:56, 23.64s/it]"
          ]
        },
        {
          "output_type": "stream",
          "name": "stdout",
          "text": [
            "Iteration 1\n"
          ]
        },
        {
          "output_type": "stream",
          "name": "stderr",
          "text": [
            "\rGenerating Data...:  89%|████████▉ | 75/84 [33:32<03:29, 23.28s/it]"
          ]
        },
        {
          "output_type": "stream",
          "name": "stdout",
          "text": [
            "Iteration 1\n"
          ]
        },
        {
          "output_type": "stream",
          "name": "stderr",
          "text": [
            "\rGenerating Data...:  90%|█████████ | 76/84 [33:45<02:40, 20.01s/it]"
          ]
        },
        {
          "output_type": "stream",
          "name": "stdout",
          "text": [
            "Iteration 1\n"
          ]
        },
        {
          "output_type": "stream",
          "name": "stderr",
          "text": [
            "\rGenerating Data...:  92%|█████████▏| 77/84 [34:12<02:35, 22.19s/it]"
          ]
        },
        {
          "output_type": "stream",
          "name": "stdout",
          "text": [
            "Iteration 1\n",
            "Error: Extra data: line 1 column 4204 (char 4203)\n",
            "Iteration 2\n",
            "Error: Extra data: line 1 column 3662 (char 3661)\n",
            "Iteration 3\n",
            "Error: Extra data: line 1 column 4150 (char 4149)\n"
          ]
        },
        {
          "output_type": "stream",
          "name": "stderr",
          "text": [
            "\rGenerating Data...:  93%|█████████▎| 78/84 [34:44<02:31, 25.22s/it]"
          ]
        },
        {
          "output_type": "stream",
          "name": "stdout",
          "text": [
            "Iteration 1\n",
            "Error: Extra data: line 1 column 8788 (char 8787)\n",
            "Iteration 2\n",
            "Error: Extra data: line 1 column 3030 (char 3029)\n",
            "Iteration 3\n"
          ]
        },
        {
          "output_type": "stream",
          "name": "stderr",
          "text": [
            "\rGenerating Data...:  94%|█████████▍| 79/84 [35:52<03:09, 37.99s/it]"
          ]
        },
        {
          "output_type": "stream",
          "name": "stdout",
          "text": [
            "Iteration 1\n",
            "Error: Extra data: line 1 column 4841 (char 4840)\n",
            "Iteration 2\n"
          ]
        },
        {
          "output_type": "stream",
          "name": "stderr",
          "text": [
            "\rGenerating Data...:  95%|█████████▌| 80/84 [36:18<02:17, 34.39s/it]"
          ]
        },
        {
          "output_type": "stream",
          "name": "stdout",
          "text": [
            "Iteration 1\n"
          ]
        },
        {
          "output_type": "stream",
          "name": "stderr",
          "text": [
            "\rGenerating Data...:  96%|█████████▋| 81/84 [36:35<01:27, 29.25s/it]"
          ]
        },
        {
          "output_type": "stream",
          "name": "stdout",
          "text": [
            "Iteration 1\n",
            "Sleeping for 60 seconds...\n"
          ]
        },
        {
          "output_type": "stream",
          "name": "stderr",
          "text": [
            "\rGenerating Data...:  98%|█████████▊| 82/84 [38:01<01:32, 46.24s/it]"
          ]
        },
        {
          "output_type": "stream",
          "name": "stdout",
          "text": [
            "Saving CSV...\n",
            "Iteration 1\n"
          ]
        },
        {
          "output_type": "stream",
          "name": "stderr",
          "text": [
            "\rGenerating Data...:  99%|█████████▉| 83/84 [38:14<00:36, 36.36s/it]"
          ]
        },
        {
          "output_type": "stream",
          "name": "stdout",
          "text": [
            "Iteration 1\n"
          ]
        },
        {
          "output_type": "stream",
          "name": "stderr",
          "text": [
            "Generating Data...: 100%|██████████| 84/84 [38:26<00:00, 27.45s/it]\n"
          ]
        },
        {
          "output_type": "execute_result",
          "data": {
            "text/plain": [
              "                                                 anchor  \\\n",
              "0     Une entreprise de services a engagé un avocat ...   \n",
              "1     Un entrepreneur a dû payer un notaire 3 000 di...   \n",
              "2     Pour répondre aux exigences légales, une socié...   \n",
              "3     L'immatriculation de l'entreprise au registre ...   \n",
              "4     Un expert-comptable a été engagé pour établir ...   \n",
              "...                                                 ...   \n",
              "1668  Un café doit évaluer la valeur de ses stocks a...   \n",
              "1669  Un distributeur de produits cosmétiques consta...   \n",
              "1670  Une entreprise de nettoyage doit évaluer ses c...   \n",
              "1671  Un vendeur de voitures d'occasion doit ajuster...   \n",
              "1672  Une société de télécommunications évalue les c...   \n",
              "\n",
              "                                               positive  \\\n",
              "0     Les frais de constitution sont les dépenses li...   \n",
              "1     Les frais de constitution sont les dépenses li...   \n",
              "2     Les frais de constitution sont les dépenses li...   \n",
              "3     Les frais de constitution sont les dépenses li...   \n",
              "4     Les frais de constitution sont les dépenses li...   \n",
              "...                                                 ...   \n",
              "1668  Les dotations d'exploitation aux provisions po...   \n",
              "1669  Les dotations d'exploitation aux provisions po...   \n",
              "1670  Les dotations d'exploitation aux provisions po...   \n",
              "1671  Les dotations d'exploitation aux provisions po...   \n",
              "1672  Les dotations d'exploitation aux provisions po...   \n",
              "\n",
              "                                               negative  \n",
              "0     Les avances et acomptes sur immobilisations co...  \n",
              "1     Les pertes sur créances irrécouvrables représe...  \n",
              "2     Les immobilisations corporelles en cours compr...  \n",
              "3     Les terrains bâtis désignent les parcelles de ...  \n",
              "4     Les impôts et taxes directs sont des prélèveme...  \n",
              "...                                                 ...  \n",
              "1668  Les ouvrages d'infrastructure sont des constru...  \n",
              "1669  Les frais d'acquisition des immobilisations so...  \n",
              "1670  Les redevances de crédit-bail sont les paiemen...  \n",
              "1671  Les charges sociales désignent les contributio...  \n",
              "1672  Le transfert de profits sur opérations commune...  \n",
              "\n",
              "[1673 rows x 3 columns]"
            ],
            "text/html": [
              "\n",
              "  <div id=\"df-9146aedf-52e3-444b-9611-41511261ebe7\" class=\"colab-df-container\">\n",
              "    <div>\n",
              "<style scoped>\n",
              "    .dataframe tbody tr th:only-of-type {\n",
              "        vertical-align: middle;\n",
              "    }\n",
              "\n",
              "    .dataframe tbody tr th {\n",
              "        vertical-align: top;\n",
              "    }\n",
              "\n",
              "    .dataframe thead th {\n",
              "        text-align: right;\n",
              "    }\n",
              "</style>\n",
              "<table border=\"1\" class=\"dataframe\">\n",
              "  <thead>\n",
              "    <tr style=\"text-align: right;\">\n",
              "      <th></th>\n",
              "      <th>anchor</th>\n",
              "      <th>positive</th>\n",
              "      <th>negative</th>\n",
              "    </tr>\n",
              "  </thead>\n",
              "  <tbody>\n",
              "    <tr>\n",
              "      <th>0</th>\n",
              "      <td>Une entreprise de services a engagé un avocat ...</td>\n",
              "      <td>Les frais de constitution sont les dépenses li...</td>\n",
              "      <td>Les avances et acomptes sur immobilisations co...</td>\n",
              "    </tr>\n",
              "    <tr>\n",
              "      <th>1</th>\n",
              "      <td>Un entrepreneur a dû payer un notaire 3 000 di...</td>\n",
              "      <td>Les frais de constitution sont les dépenses li...</td>\n",
              "      <td>Les pertes sur créances irrécouvrables représe...</td>\n",
              "    </tr>\n",
              "    <tr>\n",
              "      <th>2</th>\n",
              "      <td>Pour répondre aux exigences légales, une socié...</td>\n",
              "      <td>Les frais de constitution sont les dépenses li...</td>\n",
              "      <td>Les immobilisations corporelles en cours compr...</td>\n",
              "    </tr>\n",
              "    <tr>\n",
              "      <th>3</th>\n",
              "      <td>L'immatriculation de l'entreprise au registre ...</td>\n",
              "      <td>Les frais de constitution sont les dépenses li...</td>\n",
              "      <td>Les terrains bâtis désignent les parcelles de ...</td>\n",
              "    </tr>\n",
              "    <tr>\n",
              "      <th>4</th>\n",
              "      <td>Un expert-comptable a été engagé pour établir ...</td>\n",
              "      <td>Les frais de constitution sont les dépenses li...</td>\n",
              "      <td>Les impôts et taxes directs sont des prélèveme...</td>\n",
              "    </tr>\n",
              "    <tr>\n",
              "      <th>...</th>\n",
              "      <td>...</td>\n",
              "      <td>...</td>\n",
              "      <td>...</td>\n",
              "    </tr>\n",
              "    <tr>\n",
              "      <th>1668</th>\n",
              "      <td>Un café doit évaluer la valeur de ses stocks a...</td>\n",
              "      <td>Les dotations d'exploitation aux provisions po...</td>\n",
              "      <td>Les ouvrages d'infrastructure sont des constru...</td>\n",
              "    </tr>\n",
              "    <tr>\n",
              "      <th>1669</th>\n",
              "      <td>Un distributeur de produits cosmétiques consta...</td>\n",
              "      <td>Les dotations d'exploitation aux provisions po...</td>\n",
              "      <td>Les frais d'acquisition des immobilisations so...</td>\n",
              "    </tr>\n",
              "    <tr>\n",
              "      <th>1670</th>\n",
              "      <td>Une entreprise de nettoyage doit évaluer ses c...</td>\n",
              "      <td>Les dotations d'exploitation aux provisions po...</td>\n",
              "      <td>Les redevances de crédit-bail sont les paiemen...</td>\n",
              "    </tr>\n",
              "    <tr>\n",
              "      <th>1671</th>\n",
              "      <td>Un vendeur de voitures d'occasion doit ajuster...</td>\n",
              "      <td>Les dotations d'exploitation aux provisions po...</td>\n",
              "      <td>Les charges sociales désignent les contributio...</td>\n",
              "    </tr>\n",
              "    <tr>\n",
              "      <th>1672</th>\n",
              "      <td>Une société de télécommunications évalue les c...</td>\n",
              "      <td>Les dotations d'exploitation aux provisions po...</td>\n",
              "      <td>Le transfert de profits sur opérations commune...</td>\n",
              "    </tr>\n",
              "  </tbody>\n",
              "</table>\n",
              "<p>1673 rows × 3 columns</p>\n",
              "</div>\n",
              "    <div class=\"colab-df-buttons\">\n",
              "\n",
              "  <div class=\"colab-df-container\">\n",
              "    <button class=\"colab-df-convert\" onclick=\"convertToInteractive('df-9146aedf-52e3-444b-9611-41511261ebe7')\"\n",
              "            title=\"Convert this dataframe to an interactive table.\"\n",
              "            style=\"display:none;\">\n",
              "\n",
              "  <svg xmlns=\"http://www.w3.org/2000/svg\" height=\"24px\" viewBox=\"0 -960 960 960\">\n",
              "    <path d=\"M120-120v-720h720v720H120Zm60-500h600v-160H180v160Zm220 220h160v-160H400v160Zm0 220h160v-160H400v160ZM180-400h160v-160H180v160Zm440 0h160v-160H620v160ZM180-180h160v-160H180v160Zm440 0h160v-160H620v160Z\"/>\n",
              "  </svg>\n",
              "    </button>\n",
              "\n",
              "  <style>\n",
              "    .colab-df-container {\n",
              "      display:flex;\n",
              "      gap: 12px;\n",
              "    }\n",
              "\n",
              "    .colab-df-convert {\n",
              "      background-color: #E8F0FE;\n",
              "      border: none;\n",
              "      border-radius: 50%;\n",
              "      cursor: pointer;\n",
              "      display: none;\n",
              "      fill: #1967D2;\n",
              "      height: 32px;\n",
              "      padding: 0 0 0 0;\n",
              "      width: 32px;\n",
              "    }\n",
              "\n",
              "    .colab-df-convert:hover {\n",
              "      background-color: #E2EBFA;\n",
              "      box-shadow: 0px 1px 2px rgba(60, 64, 67, 0.3), 0px 1px 3px 1px rgba(60, 64, 67, 0.15);\n",
              "      fill: #174EA6;\n",
              "    }\n",
              "\n",
              "    .colab-df-buttons div {\n",
              "      margin-bottom: 4px;\n",
              "    }\n",
              "\n",
              "    [theme=dark] .colab-df-convert {\n",
              "      background-color: #3B4455;\n",
              "      fill: #D2E3FC;\n",
              "    }\n",
              "\n",
              "    [theme=dark] .colab-df-convert:hover {\n",
              "      background-color: #434B5C;\n",
              "      box-shadow: 0px 1px 3px 1px rgba(0, 0, 0, 0.15);\n",
              "      filter: drop-shadow(0px 1px 2px rgba(0, 0, 0, 0.3));\n",
              "      fill: #FFFFFF;\n",
              "    }\n",
              "  </style>\n",
              "\n",
              "    <script>\n",
              "      const buttonEl =\n",
              "        document.querySelector('#df-9146aedf-52e3-444b-9611-41511261ebe7 button.colab-df-convert');\n",
              "      buttonEl.style.display =\n",
              "        google.colab.kernel.accessAllowed ? 'block' : 'none';\n",
              "\n",
              "      async function convertToInteractive(key) {\n",
              "        const element = document.querySelector('#df-9146aedf-52e3-444b-9611-41511261ebe7');\n",
              "        const dataTable =\n",
              "          await google.colab.kernel.invokeFunction('convertToInteractive',\n",
              "                                                    [key], {});\n",
              "        if (!dataTable) return;\n",
              "\n",
              "        const docLinkHtml = 'Like what you see? Visit the ' +\n",
              "          '<a target=\"_blank\" href=https://colab.research.google.com/notebooks/data_table.ipynb>data table notebook</a>'\n",
              "          + ' to learn more about interactive tables.';\n",
              "        element.innerHTML = '';\n",
              "        dataTable['output_type'] = 'display_data';\n",
              "        await google.colab.output.renderOutput(dataTable, element);\n",
              "        const docLink = document.createElement('div');\n",
              "        docLink.innerHTML = docLinkHtml;\n",
              "        element.appendChild(docLink);\n",
              "      }\n",
              "    </script>\n",
              "  </div>\n",
              "\n",
              "\n",
              "<div id=\"df-25524cc8-016b-4e1f-93b0-861fa9c4cde0\">\n",
              "  <button class=\"colab-df-quickchart\" onclick=\"quickchart('df-25524cc8-016b-4e1f-93b0-861fa9c4cde0')\"\n",
              "            title=\"Suggest charts\"\n",
              "            style=\"display:none;\">\n",
              "\n",
              "<svg xmlns=\"http://www.w3.org/2000/svg\" height=\"24px\"viewBox=\"0 0 24 24\"\n",
              "     width=\"24px\">\n",
              "    <g>\n",
              "        <path d=\"M19 3H5c-1.1 0-2 .9-2 2v14c0 1.1.9 2 2 2h14c1.1 0 2-.9 2-2V5c0-1.1-.9-2-2-2zM9 17H7v-7h2v7zm4 0h-2V7h2v10zm4 0h-2v-4h2v4z\"/>\n",
              "    </g>\n",
              "</svg>\n",
              "  </button>\n",
              "\n",
              "<style>\n",
              "  .colab-df-quickchart {\n",
              "      --bg-color: #E8F0FE;\n",
              "      --fill-color: #1967D2;\n",
              "      --hover-bg-color: #E2EBFA;\n",
              "      --hover-fill-color: #174EA6;\n",
              "      --disabled-fill-color: #AAA;\n",
              "      --disabled-bg-color: #DDD;\n",
              "  }\n",
              "\n",
              "  [theme=dark] .colab-df-quickchart {\n",
              "      --bg-color: #3B4455;\n",
              "      --fill-color: #D2E3FC;\n",
              "      --hover-bg-color: #434B5C;\n",
              "      --hover-fill-color: #FFFFFF;\n",
              "      --disabled-bg-color: #3B4455;\n",
              "      --disabled-fill-color: #666;\n",
              "  }\n",
              "\n",
              "  .colab-df-quickchart {\n",
              "    background-color: var(--bg-color);\n",
              "    border: none;\n",
              "    border-radius: 50%;\n",
              "    cursor: pointer;\n",
              "    display: none;\n",
              "    fill: var(--fill-color);\n",
              "    height: 32px;\n",
              "    padding: 0;\n",
              "    width: 32px;\n",
              "  }\n",
              "\n",
              "  .colab-df-quickchart:hover {\n",
              "    background-color: var(--hover-bg-color);\n",
              "    box-shadow: 0 1px 2px rgba(60, 64, 67, 0.3), 0 1px 3px 1px rgba(60, 64, 67, 0.15);\n",
              "    fill: var(--button-hover-fill-color);\n",
              "  }\n",
              "\n",
              "  .colab-df-quickchart-complete:disabled,\n",
              "  .colab-df-quickchart-complete:disabled:hover {\n",
              "    background-color: var(--disabled-bg-color);\n",
              "    fill: var(--disabled-fill-color);\n",
              "    box-shadow: none;\n",
              "  }\n",
              "\n",
              "  .colab-df-spinner {\n",
              "    border: 2px solid var(--fill-color);\n",
              "    border-color: transparent;\n",
              "    border-bottom-color: var(--fill-color);\n",
              "    animation:\n",
              "      spin 1s steps(1) infinite;\n",
              "  }\n",
              "\n",
              "  @keyframes spin {\n",
              "    0% {\n",
              "      border-color: transparent;\n",
              "      border-bottom-color: var(--fill-color);\n",
              "      border-left-color: var(--fill-color);\n",
              "    }\n",
              "    20% {\n",
              "      border-color: transparent;\n",
              "      border-left-color: var(--fill-color);\n",
              "      border-top-color: var(--fill-color);\n",
              "    }\n",
              "    30% {\n",
              "      border-color: transparent;\n",
              "      border-left-color: var(--fill-color);\n",
              "      border-top-color: var(--fill-color);\n",
              "      border-right-color: var(--fill-color);\n",
              "    }\n",
              "    40% {\n",
              "      border-color: transparent;\n",
              "      border-right-color: var(--fill-color);\n",
              "      border-top-color: var(--fill-color);\n",
              "    }\n",
              "    60% {\n",
              "      border-color: transparent;\n",
              "      border-right-color: var(--fill-color);\n",
              "    }\n",
              "    80% {\n",
              "      border-color: transparent;\n",
              "      border-right-color: var(--fill-color);\n",
              "      border-bottom-color: var(--fill-color);\n",
              "    }\n",
              "    90% {\n",
              "      border-color: transparent;\n",
              "      border-bottom-color: var(--fill-color);\n",
              "    }\n",
              "  }\n",
              "</style>\n",
              "\n",
              "  <script>\n",
              "    async function quickchart(key) {\n",
              "      const quickchartButtonEl =\n",
              "        document.querySelector('#' + key + ' button');\n",
              "      quickchartButtonEl.disabled = true;  // To prevent multiple clicks.\n",
              "      quickchartButtonEl.classList.add('colab-df-spinner');\n",
              "      try {\n",
              "        const charts = await google.colab.kernel.invokeFunction(\n",
              "            'suggestCharts', [key], {});\n",
              "      } catch (error) {\n",
              "        console.error('Error during call to suggestCharts:', error);\n",
              "      }\n",
              "      quickchartButtonEl.classList.remove('colab-df-spinner');\n",
              "      quickchartButtonEl.classList.add('colab-df-quickchart-complete');\n",
              "    }\n",
              "    (() => {\n",
              "      let quickchartButtonEl =\n",
              "        document.querySelector('#df-25524cc8-016b-4e1f-93b0-861fa9c4cde0 button');\n",
              "      quickchartButtonEl.style.display =\n",
              "        google.colab.kernel.accessAllowed ? 'block' : 'none';\n",
              "    })();\n",
              "  </script>\n",
              "</div>\n",
              "\n",
              "    </div>\n",
              "  </div>\n"
            ],
            "application/vnd.google.colaboratory.intrinsic+json": {
              "type": "dataframe",
              "summary": "{\n  \"name\": \"Run_ALL(PCG_Refined)\",\n  \"rows\": 1673,\n  \"fields\": [\n    {\n      \"column\": \"anchor\",\n      \"properties\": {\n        \"dtype\": \"string\",\n        \"num_unique_values\": 1673,\n        \"samples\": [\n          \"Dans une scierie, des scies \\u00e0 cha\\u00eene sont achet\\u00e9es pour augmenter l'efficacit\\u00e9 dans la coupe du bois. Ces machines permettent de traiter de grandes quantit\\u00e9s de bois en peu de temps, ce qui optimise le rendement de l'entreprise.\",\n          \"Une librairie \\u00e0 Oujda acquiert 300 ouvrages d'auteurs marocains pour un montant de 45 000 dirhams. Ces livres seront mis en avant lors d'une foire litt\\u00e9raire locale.\",\n          \"Lors d'une discussion pour un partenariat, l'entreprise organise un repas d'affaires pour 1 000 dirhams. Les frais sont enregistr\\u00e9s dans le compte des r\\u00e9ceptions, soulignant l'importance de la collaboration.\"\n        ],\n        \"semantic_type\": \"\",\n        \"description\": \"\"\n      }\n    },\n    {\n      \"column\": \"positive\",\n      \"properties\": {\n        \"dtype\": \"category\",\n        \"num_unique_values\": 79,\n        \"samples\": [\n          \"Les immobilisations corporelles en cours comprennent les d\\u00e9penses engag\\u00e9es par une entreprise pour cr\\u00e9er des installations techniques ou des \\u00e9quipements mat\\u00e9riels qui ne sont pas encore termin\\u00e9s. Ce compte refl\\u00e8te les co\\u00fbts associ\\u00e9s \\u00e0 la construction ou \\u00e0 l'acquisition de ces actifs jusqu'\\u00e0 leur mise en service.\\n\\n1. Une entreprise construit une nouvelle usine et enregistre les co\\u00fbts de construction.  \\n2. Une soci\\u00e9t\\u00e9 ach\\u00e8te des machines, mais elles ne sont pas encore install\\u00e9es, donc les frais sont enregistr\\u00e9s ici.  \\n3. Un projet de r\\u00e9novation d'un b\\u00e2timent en cours est financ\\u00e9 et les co\\u00fbts sont enregistr\\u00e9s comme immobilisations corporelles en cours.  \\n4. Des d\\u00e9penses li\\u00e9es \\u00e0 l'achat de nouveaux \\u00e9quipements de laboratoire pour une recherche en cours.  \\n5. La fabrication d'un prototype de produit avant sa commercialisation.  \\n6. Co\\u00fbts d'installation de nouveaux syst\\u00e8mes informatiques qui ne sont pas encore op\\u00e9rationnels.  \\n7. Une entreprise de construction accumule les frais li\\u00e9s \\u00e0 un chantier non achev\\u00e9.  \\n8. Les co\\u00fbts d'acquisition de logiciels en d\\u00e9veloppement par une entreprise informatique.  \\n9. Une soci\\u00e9t\\u00e9 d'\\u00e9nergie investissant dans une nouvelle centrale \\u00e9lectrique qui n'est pas encore op\\u00e9rationnelle.  \\n10. Les d\\u00e9penses li\\u00e9es \\u00e0 l'am\\u00e9nagement d'un nouveau bureau qui n'est pas encore ouvert.  \\n11. Les co\\u00fbts de mise \\u00e0 jour d'\\u00e9quipements de production qui sont en phase de test.  \\n12. Une \\u00e9cole qui construit un gymnase, enregistrant les frais de construction jusqu'\\u00e0 la fin des travaux.  \\n13. Les co\\u00fbts associ\\u00e9s \\u00e0 l'achat de mat\\u00e9riel de s\\u00e9curit\\u00e9 qui n'est pas encore install\\u00e9.  \\n14. Une entreprise de transport qui ach\\u00e8te de nouveaux camions en attente d'immatriculation.  \\n15. Les investissements dans la modernisation d'un parc de machines qui est en cours.\",\n          \"Les frais de constitution sont les d\\u00e9penses li\\u00e9es \\u00e0 la cr\\u00e9ation d'une entreprise, incluant des honoraires, des formalit\\u00e9s l\\u00e9gales, des droits d'enregistrement et des frais de publicit\\u00e9.\\n\\n1. Honoraires d'un avocat pour la r\\u00e9daction des statuts de l'entreprise.\\n2. Co\\u00fbt d'un notaire pour l'enregistrement des documents l\\u00e9gaux.\\n3. Frais de publication d'une annonce l\\u00e9gale dans un journal.\\n4. Paiement pour l'immatriculation de l'entreprise au registre du commerce.\\n5. Co\\u00fbt d'un expert-comptable pour \\u00e9tablir le bilan d'ouverture.\\n6. Frais li\\u00e9s \\u00e0 la cr\\u00e9ation d'un logo et d'une identit\\u00e9 visuelle.\\n7. D\\u00e9penses pour l'achat de fournitures de bureau initiales.\\n8. Frais de location d'un local pour les premiers mois d'activit\\u00e9.\\n9. Co\\u00fbt des services d'une soci\\u00e9t\\u00e9 de conseil pour l'\\u00e9laboration d'un business plan.\\n10. D\\u00e9penses pour l'obtention de licences ou permis n\\u00e9cessaires \\u00e0 l'activit\\u00e9.\\n11. Frais de formation pour les dirigeants sur les obligations l\\u00e9gales.\\n12. Co\\u00fbt de l'achat de mat\\u00e9riel informatique pour le d\\u00e9marrage.\\n13. D\\u00e9penses pour la cr\\u00e9ation d'un site internet.\\n14. Frais pour des services de marketing pour la promotion de l'entreprise.\\n15. Co\\u00fbt de l'assurance professionnelle pour couvrir les risques li\\u00e9s \\u00e0 l'activit\\u00e9.\",\n          \"Les installations techniques sont des ensembles de biens, mat\\u00e9riels et constructions, qui fonctionnent ensemble. La s\\u00e9paration de l'un d'eux compromet l'utilit\\u00e9 des autres. Par exemple, une salle de serveurs est une installation technique si elle est sp\\u00e9cialement con\\u00e7ue pour accueillir des \\u00e9quipements informatiques, et retirer ces \\u00e9quipements rend la salle inutile.\\n\\n1. Une salle de serveurs d\\u00e9di\\u00e9e \\u00e0 des ordinateurs.\\n2. Un syst\\u00e8me de climatisation install\\u00e9 pour maintenir la temp\\u00e9rature dans une usine.\\n3. Un ascenseur con\\u00e7u uniquement pour desservir un b\\u00e2timent commercial.\\n4. Un r\\u00e9seau de plomberie dans un immeuble r\\u00e9sidentiel.\\n5. Un syst\\u00e8me \\u00e9lectrique sp\\u00e9cifique \\u00e0 une cha\\u00eene de production.\\n6. Un laboratoire \\u00e9quip\\u00e9 de mat\\u00e9riels scientifiques sp\\u00e9cialis\\u00e9s.\\n7. Une cuisine professionnelle int\\u00e9gr\\u00e9e dans un restaurant.\\n8. Un parc de stationnement construit uniquement pour les v\\u00e9hicules d'une entreprise.\\n9. Un syst\\u00e8me de s\\u00e9curit\\u00e9 install\\u00e9 pour prot\\u00e9ger un site industriel.\\n10. Une ligne de production automatis\\u00e9e dans une usine.\\n11. Un r\\u00e9servoir de stockage de produits chimiques dans une usine.\\n12. Une salle de conf\\u00e9rence \\u00e9quip\\u00e9e de mat\\u00e9riel audiovisuel.\\n13. Un entrep\\u00f4t con\\u00e7u pour stocker des marchandises avec des \\u00e9tag\\u00e8res fixes.\\n14. Un \\u00e9quipement de filtration dans une station d'\\u00e9puration.\\n15. Une centrale \\u00e9lectrique d\\u00e9di\\u00e9e \\u00e0 alimenter un quartier en \\u00e9nergie.\"\n        ],\n        \"semantic_type\": \"\",\n        \"description\": \"\"\n      }\n    },\n    {\n      \"column\": \"negative\",\n      \"properties\": {\n        \"dtype\": \"category\",\n        \"num_unique_values\": 84,\n        \"samples\": [\n          \"Les transports regroupent les frais li\\u00e9s au d\\u00e9placement du personnel et au transport des marchandises lors des achats et des ventes. Ces co\\u00fbts s'ajoutent aux frais d'acquisition d'immobilisations si le transport est li\\u00e9 \\u00e0 leur achat.\\n\\n1. Frais de taxi pour des employ\\u00e9s se rendant \\u00e0 une r\\u00e9union. 2. Co\\u00fbt du transport de marchandises depuis un entrep\\u00f4t jusqu'\\u00e0 un client. 3. D\\u00e9penses de livraison pour des produits achet\\u00e9s en gros. 4. Frais de transport pour un salon professionnel. 5. Co\\u00fbt d'envoi d'\\u00e9chantillons \\u00e0 des clients potentiels. 6. Remboursement des frais de transport pour des d\\u00e9placements professionnels. 7. Paiement pour le transport de mat\\u00e9riel lors d'un d\\u00e9m\\u00e9nagement de bureau. 8. Co\\u00fbt de livraison d'une commande en ligne. 9. Frais de transport pour des produits retourn\\u00e9s par des clients. 10. D\\u00e9penses li\\u00e9es au transport de fournitures de bureau. 11. Co\\u00fbt de transport pour des marchandises import\\u00e9es. 12. Remboursement des frais de carburant pour des trajets professionnels. 13. Paiement pour le transport de produits p\\u00e9rissables n\\u00e9cessitant une livraison rapide. 14. Frais de transport pour une exposition commerciale. 15. Co\\u00fbt du transport de personnel pour un voyage d'affaires.\",\n          \"Les avances et acomptes sur immobilisations corporelles repr\\u00e9sentent des paiements anticip\\u00e9s effectu\\u00e9s pour des biens durables, comme des \\u00e9quipements ou des b\\u00e2timents, avant leur r\\u00e9ception.\\n\\n1. Paiement d'un acompte pour l'achat d'une machine de production. 2. Versement d'une avance pour la construction d'un nouveau b\\u00e2timent. 3. Acompte pay\\u00e9 pour un v\\u00e9hicule utilitaire. 4. Avance vers\\u00e9e pour des travaux de r\\u00e9novation d'un local commercial. 5. Paiement anticip\\u00e9 pour l'achat de mat\\u00e9riel informatique. 6. Acompte pour une commande de mobilier de bureau. 7. Versement d'une avance pour une installation de panneaux solaires. 8. Paiement d'acompte pour des \\u00e9quipements de s\\u00e9curit\\u00e9. 9. Avance vers\\u00e9e pour la commande de mat\\u00e9riel de laboratoire. 10. Acompte pour l'achat de machines agricoles. 11. Paiement anticip\\u00e9 pour des \\u00e9quipements sportifs. 12. Versement d'une avance pour des travaux d'am\\u00e9nagement paysager. 13. Acompte pour l'achat de mat\\u00e9riel m\\u00e9dical. 14. Paiement d'une avance pour des installations \\u00e9lectriques. 15. Versement d'un acompte pour un projet de construction de routes.\",\n          \"Les autres frais pr\\u00e9liminaires sont des d\\u00e9penses n\\u00e9cessaires pour \\u00e9tablir ou d\\u00e9velopper une entreprise, engag\\u00e9es lors de sa cr\\u00e9ation ou par la suite.\\n\\n1. Frais de notaire pour la cr\\u00e9ation de l'entreprise. 2. Co\\u00fbt des \\u00e9tudes de march\\u00e9 avant le lancement d'un produit. 3. Honoraires d'un consultant pour un plan d'affaires. 4. D\\u00e9penses li\\u00e9es \\u00e0 la recherche de locaux commerciaux. 5. Frais pour l'enregistrement d'une marque. 6. Co\\u00fbt de la publicit\\u00e9 avant l'ouverture d'un magasin. 7. D\\u00e9penses pour des formations initiales des employ\\u00e9s. 8. Frais de cr\\u00e9ation de site internet. 9. Co\\u00fbt des licences n\\u00e9cessaires pour exercer une activit\\u00e9. 10. D\\u00e9penses pour l'achat de mat\\u00e9riel de bureau avant le d\\u00e9marrage. 11. Frais de r\\u00e9daction des statuts juridiques de l'entreprise. 12. D\\u00e9penses de voyage pour rencontrer des partenaires commerciaux potentiels. 13. Co\\u00fbt des services d'un comptable pour pr\\u00e9parer les documents fiscaux. 14. Frais de participation \\u00e0 des salons professionnels pour se faire conna\\u00eetre. 15. Co\\u00fbt de l'assurance entreprise pour d\\u00e9marrer en toute s\\u00e9curit\\u00e9.\"\n        ],\n        \"semantic_type\": \"\",\n        \"description\": \"\"\n      }\n    }\n  ]\n}"
            }
          },
          "metadata": {},
          "execution_count": 72
        }
      ]
    },
    {
      "cell_type": "markdown",
      "source": [
        "## Push your data to HuggingFace"
      ],
      "metadata": {
        "id": "3jXGy07zMtUO"
      }
    },
    {
      "cell_type": "code",
      "source": [
        "!pip install datasets"
      ],
      "metadata": {
        "id": "Wvz0u61rNkrx"
      },
      "execution_count": null,
      "outputs": []
    },
    {
      "cell_type": "code",
      "source": [
        "Final = pd.read_csv(\"Final.csv\")\n",
        "Final.shape"
      ],
      "metadata": {
        "colab": {
          "base_uri": "https://localhost:8080/"
        },
        "id": "7QIc8PuwMfLy",
        "outputId": "8d767c25-22e7-41d7-a77d-dc9ae8bbd0fe"
      },
      "execution_count": null,
      "outputs": [
        {
          "output_type": "execute_result",
          "data": {
            "text/plain": [
              "(1643, 3)"
            ]
          },
          "metadata": {},
          "execution_count": 79
        }
      ]
    },
    {
      "cell_type": "markdown",
      "source": [
        "- You need a HuggingFace acces token, to push your data .\n",
        "  - Go to your Huggingface profile\n",
        "  - Settings\n",
        "  - Acces Tokens\n",
        "  - Create a new token\n",
        "  - Write\n",
        "  - Copy the generated token"
      ],
      "metadata": {
        "id": "siZ1wqsElYze"
      }
    },
    {
      "cell_type": "code",
      "source": [
        "from datasets import Dataset, DatasetDict\n",
        "from huggingface_hub import HfFolder\n",
        "\n",
        "\n",
        "repo_id = \"username/Reponame\"\n",
        "auth_token = \"hf_xxxxxxxxxxxxxxxxxxxxxxxxxxxxx\""
      ],
      "metadata": {
        "id": "k8Mbenk4NiKY"
      },
      "execution_count": null,
      "outputs": []
    },
    {
      "cell_type": "code",
      "source": [
        "#To shuffle the rows of the Final DataFrame before splitting\n",
        "\n",
        "Final = Final.sample(frac=1, random_state=42).reset_index(drop=True)\n",
        "\n",
        "test_size = 0.2\n",
        "val_size = 0.1\n",
        "\n",
        "test_split = int(len(Final) * test_size)\n",
        "val_split = int(len(Final) * val_size)\n",
        "\n",
        "train_df = Final.iloc[:-test_split-val_split]\n",
        "test_df = Final.iloc[-test_split:]\n",
        "val_df = Final.iloc[-test_split-val_split:-test_split]\n",
        "\n",
        "dataset = DatasetDict({\n",
        "    \"train\": Dataset.from_pandas(train_df),\n",
        "    \"test\": Dataset.from_pandas(test_df),\n",
        "    \"validation\": Dataset.from_pandas(val_df)\n",
        "})\n",
        "\n",
        "dataset.push_to_hub(repo_id, token=auth_token)\n"
      ],
      "metadata": {
        "colab": {
          "base_uri": "https://localhost:8080/",
          "height": 316,
          "referenced_widgets": [
            "63485918756040e7bb956192ec3e5493",
            "c8a927c424d74791a7e973f6a34c992e",
            "4cbfb3b9c5d243338d05a23f6e39573d",
            "6bca018f25394966b9643c7727268843",
            "bb28908c90a04da08b9a1d7e776ca9a0",
            "d68a181dc67d41d3a71e95d37fe57ffc",
            "35bb87e6226342789692189548d79972",
            "5339fc3490474f53be1ec7a828f8690f",
            "cb4a432912a8496387fda71cceb9005f",
            "322147ffb50d4d7a99d25f246c067d8e",
            "48d5fc2294e44c79978e3caedf9dab12",
            "c69478af0a034c329440af23b906bae7",
            "18ad8ad29af14e07b328b94715717784",
            "9502579ee9024a6eb252fa433d7c335f",
            "19cf42aa81a54809af225b5b846e4eb7",
            "297a248d233746cba6c6cff31410c39d",
            "07e7e982a9c04ccd878ed70173146223",
            "8bbd42b9af8e441bbd16812a4cab754f",
            "6e5f4b12ef12439cb55f0f03d1e38a13",
            "e8c46cc88aba4769836b80294289ba87",
            "292cbda37b614ad3981587251b0d4266",
            "349a696103e2417493a0d94c8fb3bab5",
            "2e4affc06a7e4639b2a2d5147d1c826e",
            "f441d40cb15d46faad3dc42fa18fb702",
            "931fe40c638742948b37c60c86859ca9",
            "98f18de872864e0e9983afcb2883b6b2",
            "309d260907b0432f8e7f3812f1bdb0b8",
            "5310611db22c49d7a12ac269f303c01b",
            "91738699bb6842d09dabd7d44da7458c",
            "2520b51d1222417c807fa82c6411aa83",
            "5c09ffa52d4f4bd9aa5c8f47e5d925c8",
            "3ea5ab1d6fff41c7b91e315f3ef28490",
            "e26d182a030a4cbe92f000e19ae511dd",
            "35b4c506a65b417099ec51dbadc608b9",
            "0ed76514c17a4690a6b6c552aeb831d9",
            "28d04eca6434463fab798b68a05a51e9",
            "602827a702a0441eaa36e8f71700e3b2",
            "6ae34ab05bc645dbb6f5b086e4fe54c3",
            "3f09a75a6e5f46689cd54cf5df8f7e52",
            "c63ab6a7aacc445dbf7614899a1bed22",
            "c660b290657040a2adeae023e45913bd",
            "0f128a58cb8a4038b73507628d9eebcc",
            "460fa89ff9624ce3a77de71c9749c99a",
            "544680d701de4c69a90fd04560ef75d8",
            "e8358e1c8fbc4fea872f8497ecf9edd0",
            "67f1a8e281744f4194844a53ff0d23d4",
            "50e415b2812d481b9edba6f0afef4f31",
            "6ef8fdb5632b416286a0ed7c7d163a3f",
            "e24588e8374e462e88d87ea200a3507a",
            "117aad1b9b6d449ab3cce7427e311ae4",
            "8d04b7e6cb3248ed987a1fa64ca1a371",
            "a842bac2d9d045509ac852892d855ce2",
            "906e573609d840a38b6c5f7e51b3feaa",
            "41e73d10d58346c091dbb266f110ac9c",
            "b2ec5457133d4150b5a059ebf5ab196c",
            "ee23fdff9a1042c98c0698a835f9b4d1",
            "1c10b59604f84dd8a2dcd25809b1d1a8",
            "db70a85771794f0989a16129ff853eec",
            "51dad3bc6f5d4c8cb55250286a8a874c",
            "18497fd3a44d40c594cff0f6b32a5b01",
            "6ee377d4c29d42f99cb79e17c3556e8d",
            "a2db7b7218884a33a78cf3700f12c4ad",
            "dd724dc9ad2f4227ba3cfa28760d09ee",
            "7ea26c26c39940d6bd9eac76c3330f84",
            "b99a5ab3e5b943b7a8190bcb7b3537ed",
            "9de62bce92f84f0589fa7ddd8ed0c514"
          ]
        },
        "id": "VMscTmg3NQek",
        "outputId": "4d706046-268e-4825-c102-70ef5c4be4db"
      },
      "execution_count": null,
      "outputs": [
        {
          "output_type": "display_data",
          "data": {
            "text/plain": [
              "Uploading the dataset shards:   0%|          | 0/1 [00:00<?, ?it/s]"
            ],
            "application/vnd.jupyter.widget-view+json": {
              "version_major": 2,
              "version_minor": 0,
              "model_id": "63485918756040e7bb956192ec3e5493"
            }
          },
          "metadata": {}
        },
        {
          "output_type": "display_data",
          "data": {
            "text/plain": [
              "Creating parquet from Arrow format:   0%|          | 0/2 [00:00<?, ?ba/s]"
            ],
            "application/vnd.jupyter.widget-view+json": {
              "version_major": 2,
              "version_minor": 0,
              "model_id": "c69478af0a034c329440af23b906bae7"
            }
          },
          "metadata": {}
        },
        {
          "output_type": "display_data",
          "data": {
            "text/plain": [
              "Uploading the dataset shards:   0%|          | 0/1 [00:00<?, ?it/s]"
            ],
            "application/vnd.jupyter.widget-view+json": {
              "version_major": 2,
              "version_minor": 0,
              "model_id": "2e4affc06a7e4639b2a2d5147d1c826e"
            }
          },
          "metadata": {}
        },
        {
          "output_type": "display_data",
          "data": {
            "text/plain": [
              "Creating parquet from Arrow format:   0%|          | 0/1 [00:00<?, ?ba/s]"
            ],
            "application/vnd.jupyter.widget-view+json": {
              "version_major": 2,
              "version_minor": 0,
              "model_id": "35b4c506a65b417099ec51dbadc608b9"
            }
          },
          "metadata": {}
        },
        {
          "output_type": "display_data",
          "data": {
            "text/plain": [
              "Uploading the dataset shards:   0%|          | 0/1 [00:00<?, ?it/s]"
            ],
            "application/vnd.jupyter.widget-view+json": {
              "version_major": 2,
              "version_minor": 0,
              "model_id": "e8358e1c8fbc4fea872f8497ecf9edd0"
            }
          },
          "metadata": {}
        },
        {
          "output_type": "display_data",
          "data": {
            "text/plain": [
              "Creating parquet from Arrow format:   0%|          | 0/1 [00:00<?, ?ba/s]"
            ],
            "application/vnd.jupyter.widget-view+json": {
              "version_major": 2,
              "version_minor": 0,
              "model_id": "ee23fdff9a1042c98c0698a835f9b4d1"
            }
          },
          "metadata": {}
        },
        {
          "output_type": "execute_result",
          "data": {
            "text/plain": [
              "CommitInfo(commit_url='https://huggingface.co/datasets/Noureddinesa/Invoices_embedding_3/commit/16dc23eadb0daa82573a6dc1a2c4321fa9bc727e', commit_message='Upload dataset', commit_description='', oid='16dc23eadb0daa82573a6dc1a2c4321fa9bc727e', pr_url=None, repo_url=RepoUrl('https://huggingface.co/datasets/Noureddinesa/Invoices_embedding_3', endpoint='https://huggingface.co', repo_type='dataset', repo_id='Noureddinesa/Invoices_embedding_3'), pr_revision=None, pr_num=None)"
            ],
            "application/vnd.google.colaboratory.intrinsic+json": {
              "type": "string"
            }
          },
          "metadata": {},
          "execution_count": 84
        }
      ]
    },
    {
      "cell_type": "markdown",
      "metadata": {
        "id": "TN5HPbKt64J2"
      },
      "source": [
        "# Install Necessary Packages"
      ]
    },
    {
      "cell_type": "code",
      "execution_count": 1,
      "metadata": {
        "id": "mLuct2FUSK4_",
        "colab": {
          "base_uri": "https://localhost:8080/"
        },
        "outputId": "0a3f1aa3-e5d0-466b-f3b1-34da73314cca"
      },
      "outputs": [
        {
          "output_type": "stream",
          "name": "stdout",
          "text": [
            "Requirement already satisfied: transformers[torch] in /usr/local/lib/python3.10/dist-packages (4.46.3)\n",
            "Requirement already satisfied: filelock in /usr/local/lib/python3.10/dist-packages (from transformers[torch]) (3.16.1)\n",
            "Requirement already satisfied: huggingface-hub<1.0,>=0.23.2 in /usr/local/lib/python3.10/dist-packages (from transformers[torch]) (0.26.5)\n",
            "Requirement already satisfied: numpy>=1.17 in /usr/local/lib/python3.10/dist-packages (from transformers[torch]) (1.26.4)\n",
            "Requirement already satisfied: packaging>=20.0 in /usr/local/lib/python3.10/dist-packages (from transformers[torch]) (24.2)\n",
            "Requirement already satisfied: pyyaml>=5.1 in /usr/local/lib/python3.10/dist-packages (from transformers[torch]) (6.0.2)\n",
            "Requirement already satisfied: regex!=2019.12.17 in /usr/local/lib/python3.10/dist-packages (from transformers[torch]) (2024.9.11)\n",
            "Requirement already satisfied: requests in /usr/local/lib/python3.10/dist-packages (from transformers[torch]) (2.32.3)\n",
            "Requirement already satisfied: tokenizers<0.21,>=0.20 in /usr/local/lib/python3.10/dist-packages (from transformers[torch]) (0.20.3)\n",
            "Requirement already satisfied: safetensors>=0.4.1 in /usr/local/lib/python3.10/dist-packages (from transformers[torch]) (0.4.5)\n",
            "Requirement already satisfied: tqdm>=4.27 in /usr/local/lib/python3.10/dist-packages (from transformers[torch]) (4.66.6)\n",
            "Requirement already satisfied: torch in /usr/local/lib/python3.10/dist-packages (from transformers[torch]) (2.5.1+cu121)\n",
            "Requirement already satisfied: accelerate>=0.26.0 in /usr/local/lib/python3.10/dist-packages (from transformers[torch]) (1.1.1)\n",
            "Requirement already satisfied: psutil in /usr/local/lib/python3.10/dist-packages (from accelerate>=0.26.0->transformers[torch]) (5.9.5)\n",
            "Requirement already satisfied: fsspec>=2023.5.0 in /usr/local/lib/python3.10/dist-packages (from huggingface-hub<1.0,>=0.23.2->transformers[torch]) (2024.9.0)\n",
            "Requirement already satisfied: typing-extensions>=3.7.4.3 in /usr/local/lib/python3.10/dist-packages (from huggingface-hub<1.0,>=0.23.2->transformers[torch]) (4.12.2)\n",
            "Requirement already satisfied: networkx in /usr/local/lib/python3.10/dist-packages (from torch->transformers[torch]) (3.4.2)\n",
            "Requirement already satisfied: jinja2 in /usr/local/lib/python3.10/dist-packages (from torch->transformers[torch]) (3.1.4)\n",
            "Requirement already satisfied: sympy==1.13.1 in /usr/local/lib/python3.10/dist-packages (from torch->transformers[torch]) (1.13.1)\n",
            "Requirement already satisfied: mpmath<1.4,>=1.1.0 in /usr/local/lib/python3.10/dist-packages (from sympy==1.13.1->torch->transformers[torch]) (1.3.0)\n",
            "Requirement already satisfied: charset-normalizer<4,>=2 in /usr/local/lib/python3.10/dist-packages (from requests->transformers[torch]) (3.4.0)\n",
            "Requirement already satisfied: idna<4,>=2.5 in /usr/local/lib/python3.10/dist-packages (from requests->transformers[torch]) (3.10)\n",
            "Requirement already satisfied: urllib3<3,>=1.21.1 in /usr/local/lib/python3.10/dist-packages (from requests->transformers[torch]) (2.2.3)\n",
            "Requirement already satisfied: certifi>=2017.4.17 in /usr/local/lib/python3.10/dist-packages (from requests->transformers[torch]) (2024.8.30)\n",
            "Requirement already satisfied: MarkupSafe>=2.0 in /usr/local/lib/python3.10/dist-packages (from jinja2->torch->transformers[torch]) (3.0.2)\n"
          ]
        }
      ],
      "source": [
        "!pip install transformers[torch]"
      ]
    },
    {
      "cell_type": "code",
      "execution_count": 2,
      "metadata": {
        "id": "nHmvTs8rn_nl",
        "colab": {
          "base_uri": "https://localhost:8080/"
        },
        "outputId": "d9540d89-607a-4549-ecb2-001b51c7a53d"
      },
      "outputs": [
        {
          "output_type": "stream",
          "name": "stdout",
          "text": [
            "Requirement already satisfied: sentence-transformers in /usr/local/lib/python3.10/dist-packages (3.3.1)\n",
            "Requirement already satisfied: transformers<5.0.0,>=4.41.0 in /usr/local/lib/python3.10/dist-packages (from sentence-transformers) (4.46.3)\n",
            "Requirement already satisfied: tqdm in /usr/local/lib/python3.10/dist-packages (from sentence-transformers) (4.66.6)\n",
            "Requirement already satisfied: torch>=1.11.0 in /usr/local/lib/python3.10/dist-packages (from sentence-transformers) (2.5.1+cu121)\n",
            "Requirement already satisfied: scikit-learn in /usr/local/lib/python3.10/dist-packages (from sentence-transformers) (1.5.2)\n",
            "Requirement already satisfied: scipy in /usr/local/lib/python3.10/dist-packages (from sentence-transformers) (1.13.1)\n",
            "Requirement already satisfied: huggingface-hub>=0.20.0 in /usr/local/lib/python3.10/dist-packages (from sentence-transformers) (0.26.5)\n",
            "Requirement already satisfied: Pillow in /usr/local/lib/python3.10/dist-packages (from sentence-transformers) (11.0.0)\n",
            "Requirement already satisfied: filelock in /usr/local/lib/python3.10/dist-packages (from huggingface-hub>=0.20.0->sentence-transformers) (3.16.1)\n",
            "Requirement already satisfied: fsspec>=2023.5.0 in /usr/local/lib/python3.10/dist-packages (from huggingface-hub>=0.20.0->sentence-transformers) (2024.9.0)\n",
            "Requirement already satisfied: packaging>=20.9 in /usr/local/lib/python3.10/dist-packages (from huggingface-hub>=0.20.0->sentence-transformers) (24.2)\n",
            "Requirement already satisfied: pyyaml>=5.1 in /usr/local/lib/python3.10/dist-packages (from huggingface-hub>=0.20.0->sentence-transformers) (6.0.2)\n",
            "Requirement already satisfied: requests in /usr/local/lib/python3.10/dist-packages (from huggingface-hub>=0.20.0->sentence-transformers) (2.32.3)\n",
            "Requirement already satisfied: typing-extensions>=3.7.4.3 in /usr/local/lib/python3.10/dist-packages (from huggingface-hub>=0.20.0->sentence-transformers) (4.12.2)\n",
            "Requirement already satisfied: networkx in /usr/local/lib/python3.10/dist-packages (from torch>=1.11.0->sentence-transformers) (3.4.2)\n",
            "Requirement already satisfied: jinja2 in /usr/local/lib/python3.10/dist-packages (from torch>=1.11.0->sentence-transformers) (3.1.4)\n",
            "Requirement already satisfied: sympy==1.13.1 in /usr/local/lib/python3.10/dist-packages (from torch>=1.11.0->sentence-transformers) (1.13.1)\n",
            "Requirement already satisfied: mpmath<1.4,>=1.1.0 in /usr/local/lib/python3.10/dist-packages (from sympy==1.13.1->torch>=1.11.0->sentence-transformers) (1.3.0)\n",
            "Requirement already satisfied: numpy>=1.17 in /usr/local/lib/python3.10/dist-packages (from transformers<5.0.0,>=4.41.0->sentence-transformers) (1.26.4)\n",
            "Requirement already satisfied: regex!=2019.12.17 in /usr/local/lib/python3.10/dist-packages (from transformers<5.0.0,>=4.41.0->sentence-transformers) (2024.9.11)\n",
            "Requirement already satisfied: tokenizers<0.21,>=0.20 in /usr/local/lib/python3.10/dist-packages (from transformers<5.0.0,>=4.41.0->sentence-transformers) (0.20.3)\n",
            "Requirement already satisfied: safetensors>=0.4.1 in /usr/local/lib/python3.10/dist-packages (from transformers<5.0.0,>=4.41.0->sentence-transformers) (0.4.5)\n",
            "Requirement already satisfied: joblib>=1.2.0 in /usr/local/lib/python3.10/dist-packages (from scikit-learn->sentence-transformers) (1.4.2)\n",
            "Requirement already satisfied: threadpoolctl>=3.1.0 in /usr/local/lib/python3.10/dist-packages (from scikit-learn->sentence-transformers) (3.5.0)\n",
            "Requirement already satisfied: MarkupSafe>=2.0 in /usr/local/lib/python3.10/dist-packages (from jinja2->torch>=1.11.0->sentence-transformers) (3.0.2)\n",
            "Requirement already satisfied: charset-normalizer<4,>=2 in /usr/local/lib/python3.10/dist-packages (from requests->huggingface-hub>=0.20.0->sentence-transformers) (3.4.0)\n",
            "Requirement already satisfied: idna<4,>=2.5 in /usr/local/lib/python3.10/dist-packages (from requests->huggingface-hub>=0.20.0->sentence-transformers) (3.10)\n",
            "Requirement already satisfied: urllib3<3,>=1.21.1 in /usr/local/lib/python3.10/dist-packages (from requests->huggingface-hub>=0.20.0->sentence-transformers) (2.2.3)\n",
            "Requirement already satisfied: certifi>=2017.4.17 in /usr/local/lib/python3.10/dist-packages (from requests->huggingface-hub>=0.20.0->sentence-transformers) (2024.8.30)\n"
          ]
        }
      ],
      "source": [
        "!pip install -U sentence-transformers"
      ]
    },
    {
      "cell_type": "code",
      "source": [
        "!pip install datasets"
      ],
      "metadata": {
        "id": "gkFWZxAaqTjN",
        "colab": {
          "base_uri": "https://localhost:8080/"
        },
        "outputId": "d2cccbef-872c-40fd-c357-14163997cb81"
      },
      "execution_count": 3,
      "outputs": [
        {
          "output_type": "stream",
          "name": "stdout",
          "text": [
            "Requirement already satisfied: datasets in /usr/local/lib/python3.10/dist-packages (3.2.0)\n",
            "Requirement already satisfied: filelock in /usr/local/lib/python3.10/dist-packages (from datasets) (3.16.1)\n",
            "Requirement already satisfied: numpy>=1.17 in /usr/local/lib/python3.10/dist-packages (from datasets) (1.26.4)\n",
            "Requirement already satisfied: pyarrow>=15.0.0 in /usr/local/lib/python3.10/dist-packages (from datasets) (17.0.0)\n",
            "Requirement already satisfied: dill<0.3.9,>=0.3.0 in /usr/local/lib/python3.10/dist-packages (from datasets) (0.3.8)\n",
            "Requirement already satisfied: pandas in /usr/local/lib/python3.10/dist-packages (from datasets) (2.2.2)\n",
            "Requirement already satisfied: requests>=2.32.2 in /usr/local/lib/python3.10/dist-packages (from datasets) (2.32.3)\n",
            "Requirement already satisfied: tqdm>=4.66.3 in /usr/local/lib/python3.10/dist-packages (from datasets) (4.66.6)\n",
            "Requirement already satisfied: xxhash in /usr/local/lib/python3.10/dist-packages (from datasets) (3.5.0)\n",
            "Requirement already satisfied: multiprocess<0.70.17 in /usr/local/lib/python3.10/dist-packages (from datasets) (0.70.16)\n",
            "Requirement already satisfied: fsspec<=2024.9.0,>=2023.1.0 in /usr/local/lib/python3.10/dist-packages (from fsspec[http]<=2024.9.0,>=2023.1.0->datasets) (2024.9.0)\n",
            "Requirement already satisfied: aiohttp in /usr/local/lib/python3.10/dist-packages (from datasets) (3.11.10)\n",
            "Requirement already satisfied: huggingface-hub>=0.23.0 in /usr/local/lib/python3.10/dist-packages (from datasets) (0.26.5)\n",
            "Requirement already satisfied: packaging in /usr/local/lib/python3.10/dist-packages (from datasets) (24.2)\n",
            "Requirement already satisfied: pyyaml>=5.1 in /usr/local/lib/python3.10/dist-packages (from datasets) (6.0.2)\n",
            "Requirement already satisfied: aiohappyeyeballs>=2.3.0 in /usr/local/lib/python3.10/dist-packages (from aiohttp->datasets) (2.4.4)\n",
            "Requirement already satisfied: aiosignal>=1.1.2 in /usr/local/lib/python3.10/dist-packages (from aiohttp->datasets) (1.3.1)\n",
            "Requirement already satisfied: async-timeout<6.0,>=4.0 in /usr/local/lib/python3.10/dist-packages (from aiohttp->datasets) (4.0.3)\n",
            "Requirement already satisfied: attrs>=17.3.0 in /usr/local/lib/python3.10/dist-packages (from aiohttp->datasets) (24.2.0)\n",
            "Requirement already satisfied: frozenlist>=1.1.1 in /usr/local/lib/python3.10/dist-packages (from aiohttp->datasets) (1.5.0)\n",
            "Requirement already satisfied: multidict<7.0,>=4.5 in /usr/local/lib/python3.10/dist-packages (from aiohttp->datasets) (6.1.0)\n",
            "Requirement already satisfied: propcache>=0.2.0 in /usr/local/lib/python3.10/dist-packages (from aiohttp->datasets) (0.2.1)\n",
            "Requirement already satisfied: yarl<2.0,>=1.17.0 in /usr/local/lib/python3.10/dist-packages (from aiohttp->datasets) (1.18.3)\n",
            "Requirement already satisfied: typing-extensions>=3.7.4.3 in /usr/local/lib/python3.10/dist-packages (from huggingface-hub>=0.23.0->datasets) (4.12.2)\n",
            "Requirement already satisfied: charset-normalizer<4,>=2 in /usr/local/lib/python3.10/dist-packages (from requests>=2.32.2->datasets) (3.4.0)\n",
            "Requirement already satisfied: idna<4,>=2.5 in /usr/local/lib/python3.10/dist-packages (from requests>=2.32.2->datasets) (3.10)\n",
            "Requirement already satisfied: urllib3<3,>=1.21.1 in /usr/local/lib/python3.10/dist-packages (from requests>=2.32.2->datasets) (2.2.3)\n",
            "Requirement already satisfied: certifi>=2017.4.17 in /usr/local/lib/python3.10/dist-packages (from requests>=2.32.2->datasets) (2024.8.30)\n",
            "Requirement already satisfied: python-dateutil>=2.8.2 in /usr/local/lib/python3.10/dist-packages (from pandas->datasets) (2.8.2)\n",
            "Requirement already satisfied: pytz>=2020.1 in /usr/local/lib/python3.10/dist-packages (from pandas->datasets) (2024.2)\n",
            "Requirement already satisfied: tzdata>=2022.7 in /usr/local/lib/python3.10/dist-packages (from pandas->datasets) (2024.2)\n",
            "Requirement already satisfied: six>=1.5 in /usr/local/lib/python3.10/dist-packages (from python-dateutil>=2.8.2->pandas->datasets) (1.17.0)\n"
          ]
        }
      ]
    },
    {
      "cell_type": "code",
      "execution_count": 4,
      "metadata": {
        "id": "Q4qtl34uwpWu"
      },
      "outputs": [],
      "source": [
        "#https://sbert.net/docs/sentence_transformer/training_overview.html\n",
        "#https://huggingface.co/BAAI/bge-large-en\n"
      ]
    },
    {
      "cell_type": "code",
      "execution_count": 5,
      "metadata": {
        "id": "4Nnfq4f6rEt7"
      },
      "outputs": [],
      "source": [
        "from sentence_transformers import SentenceTransformer\n",
        "import torch\n"
      ]
    },
    {
      "cell_type": "markdown",
      "metadata": {
        "id": "A5dAu5gZ7RGN"
      },
      "source": [
        "#   Load Dataset"
      ]
    },
    {
      "cell_type": "code",
      "execution_count": 6,
      "metadata": {
        "id": "tL2_uY2jsJNG",
        "colab": {
          "base_uri": "https://localhost:8080/"
        },
        "outputId": "176d9cd7-2828-4524-9d4c-11ef38ba07a6"
      },
      "outputs": [
        {
          "output_type": "stream",
          "name": "stderr",
          "text": [
            "/usr/local/lib/python3.10/dist-packages/huggingface_hub/utils/_auth.py:94: UserWarning: \n",
            "The secret `HF_TOKEN` does not exist in your Colab secrets.\n",
            "To authenticate with the Hugging Face Hub, create a token in your settings tab (https://huggingface.co/settings/tokens), set it as secret in your Google Colab and restart your session.\n",
            "You will be able to reuse this secret in all of your notebooks.\n",
            "Please note that authentication is recommended but still optional to access public models or datasets.\n",
            "  warnings.warn(\n"
          ]
        }
      ],
      "source": [
        "from datasets import load_dataset\n",
        "\n",
        "# Load the dataset\n",
        "dataset = load_dataset(\"username/datasetname\")\n",
        "train_dataset = dataset[\"train\"]\n",
        "eval_dataset = dataset[\"validation\"]\n",
        "test_dataset = dataset[\"test\"]"
      ]
    },
    {
      "cell_type": "markdown",
      "metadata": {
        "id": "CdkIgJruHIDF"
      },
      "source": [
        "More infromation about the dataset over here: # https://sbert.net/docs/sentence_transformer/training_overview.html#dataset\n"
      ]
    },
    {
      "cell_type": "code",
      "execution_count": 7,
      "metadata": {
        "colab": {
          "base_uri": "https://localhost:8080/"
        },
        "id": "vtszC6uCUcAq",
        "outputId": "d1dbb5bb-5a0c-4e3e-c179-ea69c175088b"
      },
      "outputs": [
        {
          "output_type": "execute_result",
          "data": {
            "text/plain": [
              "Dataset({\n",
              "    features: ['anchor', 'positive', 'negative'],\n",
              "    num_rows: 1151\n",
              "})"
            ]
          },
          "metadata": {},
          "execution_count": 7
        }
      ],
      "source": [
        "train_dataset"
      ]
    },
    {
      "cell_type": "code",
      "execution_count": 8,
      "metadata": {
        "id": "L-Ce3j6oGTwt",
        "colab": {
          "base_uri": "https://localhost:8080/",
          "height": 597
        },
        "outputId": "385b52b0-ac6d-4031-baa1-e68c761b15be"
      },
      "outputs": [
        {
          "output_type": "execute_result",
          "data": {
            "text/plain": [
              "                                                 anchor  \\\n",
              "0     Une collectivité locale verse un acompte de 1 ...   \n",
              "1     Une société de sécurité engage un service de t...   \n",
              "2     Lors de l'importation de boissons gazeuses, l'...   \n",
              "3     Une entreprise technologique développe un prot...   \n",
              "4     Une entreprise de construction à Essaouira res...   \n",
              "...                                                 ...   \n",
              "1146  Un terrain pour un centre culturel a été aména...   \n",
              "1147  Une société de distribution lance un projet de...   \n",
              "1148  Un cabinet d'architecture verse une avance de ...   \n",
              "1149  Un hôtel doit payer des taxes sur les spectacl...   \n",
              "1150  Dans une société de coentreprise entre une ent...   \n",
              "\n",
              "                                               positive  \\\n",
              "0     Les avances et acomptes sur immobilisations co...   \n",
              "1     Les transports regroupent les frais liés au dé...   \n",
              "2     Les impôts et taxes indirects sont des prélève...   \n",
              "3     Les immobilisations corporelles en cours compr...   \n",
              "4     Les charges sociales désignent les contributio...   \n",
              "...                                                 ...   \n",
              "1146  Les terrains aménagés représentent des parcell...   \n",
              "1147  Le compte \"6141. Etudes, recherches et documen...   \n",
              "1148  Les avances et acomptes sur immobilisations co...   \n",
              "1149  Les impôts, taxes et droits assimilés sont des...   \n",
              "1150  Le transfert de profits sur opérations commune...   \n",
              "\n",
              "                                               negative  \n",
              "0     Les achats de matières et fournitures consomma...  \n",
              "1     Les redevances de crédit-bail sont les paiemen...  \n",
              "2     Le mobilier de bureau désigne l'ensemble des m...  \n",
              "3     Le compte \"6141. Etudes, recherches et documen...  \n",
              "4     L'achat de marchandises du groupe B désigne l'...  \n",
              "...                                                 ...  \n",
              "1146  Les services bancaires désignent les frais ass...  \n",
              "1147  Les entretiens et réparations désignent les dé...  \n",
              "1148  Les frais d'acquisition des immobilisations so...  \n",
              "1149  Les frais liés aux opérations de fusion, sciss...  \n",
              "1150  Les terrains de gisement sont des parcelles de...  \n",
              "\n",
              "[1151 rows x 3 columns]"
            ],
            "text/html": [
              "\n",
              "  <div id=\"df-f2af6045-f4d3-4272-8eda-675e40567c75\" class=\"colab-df-container\">\n",
              "    <div>\n",
              "<style scoped>\n",
              "    .dataframe tbody tr th:only-of-type {\n",
              "        vertical-align: middle;\n",
              "    }\n",
              "\n",
              "    .dataframe tbody tr th {\n",
              "        vertical-align: top;\n",
              "    }\n",
              "\n",
              "    .dataframe thead th {\n",
              "        text-align: right;\n",
              "    }\n",
              "</style>\n",
              "<table border=\"1\" class=\"dataframe\">\n",
              "  <thead>\n",
              "    <tr style=\"text-align: right;\">\n",
              "      <th></th>\n",
              "      <th>anchor</th>\n",
              "      <th>positive</th>\n",
              "      <th>negative</th>\n",
              "    </tr>\n",
              "  </thead>\n",
              "  <tbody>\n",
              "    <tr>\n",
              "      <th>0</th>\n",
              "      <td>Une collectivité locale verse un acompte de 1 ...</td>\n",
              "      <td>Les avances et acomptes sur immobilisations co...</td>\n",
              "      <td>Les achats de matières et fournitures consomma...</td>\n",
              "    </tr>\n",
              "    <tr>\n",
              "      <th>1</th>\n",
              "      <td>Une société de sécurité engage un service de t...</td>\n",
              "      <td>Les transports regroupent les frais liés au dé...</td>\n",
              "      <td>Les redevances de crédit-bail sont les paiemen...</td>\n",
              "    </tr>\n",
              "    <tr>\n",
              "      <th>2</th>\n",
              "      <td>Lors de l'importation de boissons gazeuses, l'...</td>\n",
              "      <td>Les impôts et taxes indirects sont des prélève...</td>\n",
              "      <td>Le mobilier de bureau désigne l'ensemble des m...</td>\n",
              "    </tr>\n",
              "    <tr>\n",
              "      <th>3</th>\n",
              "      <td>Une entreprise technologique développe un prot...</td>\n",
              "      <td>Les immobilisations corporelles en cours compr...</td>\n",
              "      <td>Le compte \"6141. Etudes, recherches et documen...</td>\n",
              "    </tr>\n",
              "    <tr>\n",
              "      <th>4</th>\n",
              "      <td>Une entreprise de construction à Essaouira res...</td>\n",
              "      <td>Les charges sociales désignent les contributio...</td>\n",
              "      <td>L'achat de marchandises du groupe B désigne l'...</td>\n",
              "    </tr>\n",
              "    <tr>\n",
              "      <th>...</th>\n",
              "      <td>...</td>\n",
              "      <td>...</td>\n",
              "      <td>...</td>\n",
              "    </tr>\n",
              "    <tr>\n",
              "      <th>1146</th>\n",
              "      <td>Un terrain pour un centre culturel a été aména...</td>\n",
              "      <td>Les terrains aménagés représentent des parcell...</td>\n",
              "      <td>Les services bancaires désignent les frais ass...</td>\n",
              "    </tr>\n",
              "    <tr>\n",
              "      <th>1147</th>\n",
              "      <td>Une société de distribution lance un projet de...</td>\n",
              "      <td>Le compte \"6141. Etudes, recherches et documen...</td>\n",
              "      <td>Les entretiens et réparations désignent les dé...</td>\n",
              "    </tr>\n",
              "    <tr>\n",
              "      <th>1148</th>\n",
              "      <td>Un cabinet d'architecture verse une avance de ...</td>\n",
              "      <td>Les avances et acomptes sur immobilisations co...</td>\n",
              "      <td>Les frais d'acquisition des immobilisations so...</td>\n",
              "    </tr>\n",
              "    <tr>\n",
              "      <th>1149</th>\n",
              "      <td>Un hôtel doit payer des taxes sur les spectacl...</td>\n",
              "      <td>Les impôts, taxes et droits assimilés sont des...</td>\n",
              "      <td>Les frais liés aux opérations de fusion, sciss...</td>\n",
              "    </tr>\n",
              "    <tr>\n",
              "      <th>1150</th>\n",
              "      <td>Dans une société de coentreprise entre une ent...</td>\n",
              "      <td>Le transfert de profits sur opérations commune...</td>\n",
              "      <td>Les terrains de gisement sont des parcelles de...</td>\n",
              "    </tr>\n",
              "  </tbody>\n",
              "</table>\n",
              "<p>1151 rows × 3 columns</p>\n",
              "</div>\n",
              "    <div class=\"colab-df-buttons\">\n",
              "\n",
              "  <div class=\"colab-df-container\">\n",
              "    <button class=\"colab-df-convert\" onclick=\"convertToInteractive('df-f2af6045-f4d3-4272-8eda-675e40567c75')\"\n",
              "            title=\"Convert this dataframe to an interactive table.\"\n",
              "            style=\"display:none;\">\n",
              "\n",
              "  <svg xmlns=\"http://www.w3.org/2000/svg\" height=\"24px\" viewBox=\"0 -960 960 960\">\n",
              "    <path d=\"M120-120v-720h720v720H120Zm60-500h600v-160H180v160Zm220 220h160v-160H400v160Zm0 220h160v-160H400v160ZM180-400h160v-160H180v160Zm440 0h160v-160H620v160ZM180-180h160v-160H180v160Zm440 0h160v-160H620v160Z\"/>\n",
              "  </svg>\n",
              "    </button>\n",
              "\n",
              "  <style>\n",
              "    .colab-df-container {\n",
              "      display:flex;\n",
              "      gap: 12px;\n",
              "    }\n",
              "\n",
              "    .colab-df-convert {\n",
              "      background-color: #E8F0FE;\n",
              "      border: none;\n",
              "      border-radius: 50%;\n",
              "      cursor: pointer;\n",
              "      display: none;\n",
              "      fill: #1967D2;\n",
              "      height: 32px;\n",
              "      padding: 0 0 0 0;\n",
              "      width: 32px;\n",
              "    }\n",
              "\n",
              "    .colab-df-convert:hover {\n",
              "      background-color: #E2EBFA;\n",
              "      box-shadow: 0px 1px 2px rgba(60, 64, 67, 0.3), 0px 1px 3px 1px rgba(60, 64, 67, 0.15);\n",
              "      fill: #174EA6;\n",
              "    }\n",
              "\n",
              "    .colab-df-buttons div {\n",
              "      margin-bottom: 4px;\n",
              "    }\n",
              "\n",
              "    [theme=dark] .colab-df-convert {\n",
              "      background-color: #3B4455;\n",
              "      fill: #D2E3FC;\n",
              "    }\n",
              "\n",
              "    [theme=dark] .colab-df-convert:hover {\n",
              "      background-color: #434B5C;\n",
              "      box-shadow: 0px 1px 3px 1px rgba(0, 0, 0, 0.15);\n",
              "      filter: drop-shadow(0px 1px 2px rgba(0, 0, 0, 0.3));\n",
              "      fill: #FFFFFF;\n",
              "    }\n",
              "  </style>\n",
              "\n",
              "    <script>\n",
              "      const buttonEl =\n",
              "        document.querySelector('#df-f2af6045-f4d3-4272-8eda-675e40567c75 button.colab-df-convert');\n",
              "      buttonEl.style.display =\n",
              "        google.colab.kernel.accessAllowed ? 'block' : 'none';\n",
              "\n",
              "      async function convertToInteractive(key) {\n",
              "        const element = document.querySelector('#df-f2af6045-f4d3-4272-8eda-675e40567c75');\n",
              "        const dataTable =\n",
              "          await google.colab.kernel.invokeFunction('convertToInteractive',\n",
              "                                                    [key], {});\n",
              "        if (!dataTable) return;\n",
              "\n",
              "        const docLinkHtml = 'Like what you see? Visit the ' +\n",
              "          '<a target=\"_blank\" href=https://colab.research.google.com/notebooks/data_table.ipynb>data table notebook</a>'\n",
              "          + ' to learn more about interactive tables.';\n",
              "        element.innerHTML = '';\n",
              "        dataTable['output_type'] = 'display_data';\n",
              "        await google.colab.output.renderOutput(dataTable, element);\n",
              "        const docLink = document.createElement('div');\n",
              "        docLink.innerHTML = docLinkHtml;\n",
              "        element.appendChild(docLink);\n",
              "      }\n",
              "    </script>\n",
              "  </div>\n",
              "\n",
              "\n",
              "<div id=\"df-c9e2b652-1568-45a5-9c2a-b74d3ee2ff8e\">\n",
              "  <button class=\"colab-df-quickchart\" onclick=\"quickchart('df-c9e2b652-1568-45a5-9c2a-b74d3ee2ff8e')\"\n",
              "            title=\"Suggest charts\"\n",
              "            style=\"display:none;\">\n",
              "\n",
              "<svg xmlns=\"http://www.w3.org/2000/svg\" height=\"24px\"viewBox=\"0 0 24 24\"\n",
              "     width=\"24px\">\n",
              "    <g>\n",
              "        <path d=\"M19 3H5c-1.1 0-2 .9-2 2v14c0 1.1.9 2 2 2h14c1.1 0 2-.9 2-2V5c0-1.1-.9-2-2-2zM9 17H7v-7h2v7zm4 0h-2V7h2v10zm4 0h-2v-4h2v4z\"/>\n",
              "    </g>\n",
              "</svg>\n",
              "  </button>\n",
              "\n",
              "<style>\n",
              "  .colab-df-quickchart {\n",
              "      --bg-color: #E8F0FE;\n",
              "      --fill-color: #1967D2;\n",
              "      --hover-bg-color: #E2EBFA;\n",
              "      --hover-fill-color: #174EA6;\n",
              "      --disabled-fill-color: #AAA;\n",
              "      --disabled-bg-color: #DDD;\n",
              "  }\n",
              "\n",
              "  [theme=dark] .colab-df-quickchart {\n",
              "      --bg-color: #3B4455;\n",
              "      --fill-color: #D2E3FC;\n",
              "      --hover-bg-color: #434B5C;\n",
              "      --hover-fill-color: #FFFFFF;\n",
              "      --disabled-bg-color: #3B4455;\n",
              "      --disabled-fill-color: #666;\n",
              "  }\n",
              "\n",
              "  .colab-df-quickchart {\n",
              "    background-color: var(--bg-color);\n",
              "    border: none;\n",
              "    border-radius: 50%;\n",
              "    cursor: pointer;\n",
              "    display: none;\n",
              "    fill: var(--fill-color);\n",
              "    height: 32px;\n",
              "    padding: 0;\n",
              "    width: 32px;\n",
              "  }\n",
              "\n",
              "  .colab-df-quickchart:hover {\n",
              "    background-color: var(--hover-bg-color);\n",
              "    box-shadow: 0 1px 2px rgba(60, 64, 67, 0.3), 0 1px 3px 1px rgba(60, 64, 67, 0.15);\n",
              "    fill: var(--button-hover-fill-color);\n",
              "  }\n",
              "\n",
              "  .colab-df-quickchart-complete:disabled,\n",
              "  .colab-df-quickchart-complete:disabled:hover {\n",
              "    background-color: var(--disabled-bg-color);\n",
              "    fill: var(--disabled-fill-color);\n",
              "    box-shadow: none;\n",
              "  }\n",
              "\n",
              "  .colab-df-spinner {\n",
              "    border: 2px solid var(--fill-color);\n",
              "    border-color: transparent;\n",
              "    border-bottom-color: var(--fill-color);\n",
              "    animation:\n",
              "      spin 1s steps(1) infinite;\n",
              "  }\n",
              "\n",
              "  @keyframes spin {\n",
              "    0% {\n",
              "      border-color: transparent;\n",
              "      border-bottom-color: var(--fill-color);\n",
              "      border-left-color: var(--fill-color);\n",
              "    }\n",
              "    20% {\n",
              "      border-color: transparent;\n",
              "      border-left-color: var(--fill-color);\n",
              "      border-top-color: var(--fill-color);\n",
              "    }\n",
              "    30% {\n",
              "      border-color: transparent;\n",
              "      border-left-color: var(--fill-color);\n",
              "      border-top-color: var(--fill-color);\n",
              "      border-right-color: var(--fill-color);\n",
              "    }\n",
              "    40% {\n",
              "      border-color: transparent;\n",
              "      border-right-color: var(--fill-color);\n",
              "      border-top-color: var(--fill-color);\n",
              "    }\n",
              "    60% {\n",
              "      border-color: transparent;\n",
              "      border-right-color: var(--fill-color);\n",
              "    }\n",
              "    80% {\n",
              "      border-color: transparent;\n",
              "      border-right-color: var(--fill-color);\n",
              "      border-bottom-color: var(--fill-color);\n",
              "    }\n",
              "    90% {\n",
              "      border-color: transparent;\n",
              "      border-bottom-color: var(--fill-color);\n",
              "    }\n",
              "  }\n",
              "</style>\n",
              "\n",
              "  <script>\n",
              "    async function quickchart(key) {\n",
              "      const quickchartButtonEl =\n",
              "        document.querySelector('#' + key + ' button');\n",
              "      quickchartButtonEl.disabled = true;  // To prevent multiple clicks.\n",
              "      quickchartButtonEl.classList.add('colab-df-spinner');\n",
              "      try {\n",
              "        const charts = await google.colab.kernel.invokeFunction(\n",
              "            'suggestCharts', [key], {});\n",
              "      } catch (error) {\n",
              "        console.error('Error during call to suggestCharts:', error);\n",
              "      }\n",
              "      quickchartButtonEl.classList.remove('colab-df-spinner');\n",
              "      quickchartButtonEl.classList.add('colab-df-quickchart-complete');\n",
              "    }\n",
              "    (() => {\n",
              "      let quickchartButtonEl =\n",
              "        document.querySelector('#df-c9e2b652-1568-45a5-9c2a-b74d3ee2ff8e button');\n",
              "      quickchartButtonEl.style.display =\n",
              "        google.colab.kernel.accessAllowed ? 'block' : 'none';\n",
              "    })();\n",
              "  </script>\n",
              "</div>\n",
              "\n",
              "    </div>\n",
              "  </div>\n"
            ],
            "application/vnd.google.colaboratory.intrinsic+json": {
              "type": "dataframe",
              "summary": "{\n  \"name\": \"# Negative answer: An incorrect or irrelevant response to the anchor\",\n  \"rows\": 1151,\n  \"fields\": [\n    {\n      \"column\": \"anchor\",\n      \"properties\": {\n        \"dtype\": \"string\",\n        \"num_unique_values\": 1151,\n        \"samples\": [\n          \"Une soci\\u00e9t\\u00e9 d'exploitation foresti\\u00e8re acquiert une parcelle de for\\u00eat de 10 hectares dans le Moyen Atlas pour la gestion durable des ressources foresti\\u00e8res. Le prix d'achat est de 300 000 dirhams, et le terrain est class\\u00e9 sous 'autres terrains' dans les actifs de l'entreprise.\",\n          \"En septembre, une soci\\u00e9t\\u00e9 de construction s'acquitte d'une taxe d'am\\u00e9nagement de 20 000 MAD pour un nouveau projet immobilier.\",\n          \"Un op\\u00e9rateur de location de voitures, constatant que son parc automobile vieillit, d\\u00e9cide de cr\\u00e9er une provision pour d\\u00e9pr\\u00e9ciation. Apr\\u00e8s une analyse des valeurs de march\\u00e9, il d\\u00e9cide de provisionner 250 000 dirhams sur une valeur totale de 1,5 million de dirhams pour ses v\\u00e9hicules.\"\n        ],\n        \"semantic_type\": \"\",\n        \"description\": \"\"\n      }\n    },\n    {\n      \"column\": \"positive\",\n      \"properties\": {\n        \"dtype\": \"category\",\n        \"num_unique_values\": 77,\n        \"samples\": [\n          \"Les charges sociales d\\u00e9signent les contributions financi\\u00e8res qu'une entreprise doit verser pour le bien-\\u00eatre de ses employ\\u00e9s. Cela inclut les cotisations \\u00e0 la s\\u00e9curit\\u00e9 sociale, aux caisses de retraite, aux mutuelles, les prestations familiales et les assurances contre les accidents du travail.\\n\\n1. Une entreprise paie des cotisations \\u00e0 la s\\u00e9curit\\u00e9 sociale pour couvrir les soins m\\u00e9dicaux de ses employ\\u00e9s. 2. Les entreprises versent des cotisations aux caisses de retraite pour assurer des pensions \\u00e0 leurs travailleurs. 3. Une soci\\u00e9t\\u00e9 rembourse les frais de sant\\u00e9 de ses employ\\u00e9s via une mutuelle. 4. Une entreprise offre des aides familiales pour les employ\\u00e9s ayant des enfants. 5. Une compagnie paie une assurance pour couvrir les blessures de ses employ\\u00e9s au travail. 6. Les frais de s\\u00e9curit\\u00e9 sociale sont d\\u00e9duits des salaires pour financer des services publics. 7. Les cotisations \\u00e0 la retraite garantissent que les employ\\u00e9s auront des revenus apr\\u00e8s leur carri\\u00e8re. 8. Une entreprise peut choisir de verser des primes d'assurance suppl\\u00e9mentaires pour ses employ\\u00e9s. 9. Les cotisations aux mutuelles peuvent varier en fonction de la taille de l'entreprise. 10. Les prestations familiales peuvent inclure des cong\\u00e9s parentaux pay\\u00e9s. 11. Une entreprise peut offrir des programmes de sant\\u00e9 mentale en utilisant ses cotisations sociales. 12. Des entreprises multinationales doivent se conformer aux lois sur les cotisations sociales dans chaque pays. 13. Les charges sociales sont souvent un pourcentage du salaire brut des employ\\u00e9s. 14. Les travailleurs ind\\u00e9pendants doivent \\u00e9galement payer des charges sociales pour b\\u00e9n\\u00e9ficier de protections similaires. 15. Une entreprise peut \\u00eatre p\\u00e9nalis\\u00e9e si elle ne respecte pas ses obligations en mati\\u00e8re de charges sociales.\",\n          \"Les emballages r\\u00e9cup\\u00e9rables identifiables sont des contenants marqu\\u00e9s par des num\\u00e9ros uniques, permettant leur tra\\u00e7abilit\\u00e9 et leur retour apr\\u00e8s utilisation, comme des citernes ou des conteneurs.\\n\\n1. Une grande citerne de vin avec un num\\u00e9ro d'identification pour le retour. 2. Un conteneur de marchandise maritime, facilement rep\\u00e9rable gr\\u00e2ce \\u00e0 son matricule. 3. Des palettes en bois num\\u00e9rot\\u00e9es pour le transport de denr\\u00e9es alimentaires. 4. Des bouteilles consign\\u00e9es de soda identifi\\u00e9es individuellement. 5. Des f\\u00fbts de bi\\u00e8re marqu\\u00e9s pour \\u00eatre retourn\\u00e9s au brasseur. 6. Des caisses en plastique pour fruits et l\\u00e9gumes, avec des codes uniques pour le suivi. 7. Des r\\u00e9servoirs de gaz identifiables et r\\u00e9cup\\u00e9rables. 8. Des emballages de produits pharmaceutiques avec un identifiant unique pour le retour. 9. Des sacs de ciment num\\u00e9rot\\u00e9s pour faciliter leur r\\u00e9cup\\u00e9ration. 10. Des cuves de stockage de liquide industriel, marqu\\u00e9es pour le retour. 11. Des bouteilles de lait consign\\u00e9es avec un matricule. 12. Des cartons de livraison marqu\\u00e9s pour le retour au fournisseur. 13. Des bidons d'huile avec un num\\u00e9ro d'identification pour le recyclage. 14. Des barils de produits chimiques identifiables pour la r\\u00e9cup\\u00e9ration. 15. Des bocaux de confiture consign\\u00e9s, avec des codes pour le retour.\",\n          \"Le mat\\u00e9riel et outillage d\\u00e9signent les machines et outils utilis\\u00e9s dans l'industrie pour extraire, transformer et conditionner des mati\\u00e8res premi\\u00e8res. Ils permettent d'effectuer des t\\u00e2ches sp\\u00e9cifiques et d'am\\u00e9liorer l'efficacit\\u00e9 des op\\u00e9rations.\\n\\n1. Une presse hydraulique utilis\\u00e9e pour fa\\u00e7onner des m\\u00e9taux. 2. Des scies \\u00e0 cha\\u00eene pour couper du bois dans une scierie. 3. Des machines \\u00e0 coudre dans une usine de textile. 4. Un four industriel pour cuire des produits alimentaires. 5. Des chariots \\u00e9l\\u00e9vateurs pour d\\u00e9placer des palettes en entrep\\u00f4t. 6. Un compresseur d'air utilis\\u00e9 pour alimenter des outils pneumatiques. 7. Une ligne de production automatis\\u00e9e pour assembler des appareils \\u00e9lectroniques. 8. Des \\u00e9quipements de laboratoire pour analyser des \\u00e9chantillons. 9. Des outils de jardinage comme des tondeuses et des d\\u00e9broussailleuses. 10. Un scanner 3D utilis\\u00e9 dans la fabrication additive. 11. Des machines \\u00e0 imprimer dans une imprimerie. 12. Un broyeur pour r\\u00e9duire la taille des mati\\u00e8res premi\\u00e8res. 13. Des \\u00e9quipements de conditionnement pour emballer des produits. 14. Un pont roulant pour soulever des charges lourdes dans une usine. 15. Des outils manuels comme des tournevis et des cl\\u00e9s \\u00e0 molette utilis\\u00e9s par des techniciens.\"\n        ],\n        \"semantic_type\": \"\",\n        \"description\": \"\"\n      }\n    },\n    {\n      \"column\": \"negative\",\n      \"properties\": {\n        \"dtype\": \"category\",\n        \"num_unique_values\": 84,\n        \"samples\": [\n          \"Les achats non stock\\u00e9s de mati\\u00e8res et de fournitures concernent les biens et services que l'entreprise utilise directement sans les conserver en stock, comme l'eau, l'\\u00e9lectricit\\u00e9 et d'autres fournitures jug\\u00e9es non n\\u00e9cessaires \\u00e0 stocker.\\n\\n1. Achat d'eau pour les besoins d'une cantine d'entreprise. 2. Facture d'\\u00e9lectricit\\u00e9 pour le fonctionnement des bureaux. 3. Achat de papier et fournitures de bureau pour des projets ponctuels. 4. Achat de services de nettoyage pour les locaux de l'entreprise. 5. Paiement d'un abonnement \\u00e0 un service de cloud pour le stockage de donn\\u00e9es. 6. Achat de carburant pour les v\\u00e9hicules de l'entreprise. 7. Co\\u00fbt des services de t\\u00e9l\\u00e9communication pour les employ\\u00e9s. 8. Achat de petits outils utilis\\u00e9s lors de r\\u00e9parations, sans gestion de stock. 9. Frais d'entretien d'\\u00e9quipements sans pi\\u00e8ces de rechange stock\\u00e9es. 10. Achat de mat\\u00e9riel de s\\u00e9curit\\u00e9 pour un \\u00e9v\\u00e9nement sp\\u00e9cifique. 11. Co\\u00fbt de la publicit\\u00e9 sur les r\\u00e9seaux sociaux. 12. Paiement pour des services de conseil ponctuels. 13. Achat de billets de transport pour des d\\u00e9placements professionnels. 14. D\\u00e9penses pour des formations professionnelles non pr\\u00e9vues \\u00e0 long terme. 15. Achat de supports de communication pour un \\u00e9v\\u00e9nement temporaire.\",\n          \"Les achats de mati\\u00e8res et fournitures consommables concernent l'acquisition de biens qui sont utilis\\u00e9s ou consomm\\u00e9s dans le cadre d'activit\\u00e9s professionnelles. Cela inclut des produits qui ne sont pas destin\\u00e9s \\u00e0 \\u00eatre revendus mais \\u00e0 soutenir l'exploitation d'une entreprise.\\n\\n1. Achat de papier pour imprimante pour le bureau. 2. Achat de produits de nettoyage pour entretenir les locaux. 3. Achat de vis et boulons pour des r\\u00e9parations en atelier. 4. Achat de produits alimentaires pour la cantine d'entreprise. 5. Achat de fournitures m\\u00e9dicales pour un cabinet de sant\\u00e9. 6. Achat de mat\\u00e9riel de jardinage pour l'entretien d'espaces verts. 7. Achat de mat\\u00e9riel informatique (souris, claviers) pour les employ\\u00e9s. 8. Achat de peinture pour rafra\\u00eechir les bureaux. 9. Achat de v\\u00eatements de travail pour les employ\\u00e9s. 10. Achat de fournitures scolaires pour une \\u00e9cole. 11. Achat de mat\\u00e9riel de s\\u00e9curit\\u00e9 (casques, gants) pour un chantier. 12. Achat de r\\u00e9cipients pour stocker des produits chimiques. 13. Achat de fournitures artistiques pour un atelier cr\\u00e9atif. 14. Achat de sacs poubelles pour le nettoyage. 15. Achat de pi\\u00e8ces de rechange pour des machines.\",\n          \"Les cotisations et dons sont des sommes d'argent vers\\u00e9es \\u00e0 des associations, groupements ou individus pour soutenir leurs activit\\u00e9s ou projets. Ces contributions peuvent \\u00eatre r\\u00e9guli\\u00e8res (cotisations) ou ponctuelles (dons).\\n\\n1. Un membre d'une association sportive paie sa cotisation annuelle pour participer aux activit\\u00e9s. 2. Un particulier fait un don \\u00e0 un refuge animalier pour aider \\u00e0 couvrir les frais de soins. 3. Une entreprise verse une cotisation \\u00e0 une chambre de commerce pour soutenir le d\\u00e9veloppement \\u00e9conomique local. 4. Un \\u00e9tudiant organise une collecte de fonds pour financer un projet humanitaire et re\\u00e7oit des dons de ses camarades. 5. Un club de lecture demande des cotisations pour acheter des livres \\u00e0 partager entre ses membres. 6. Un musicien fait un appel aux dons pour financer son prochain album. 7. Une ONG re\\u00e7oit des cotisations mensuelles de ses membres pour soutenir ses actions. 8. Un voisin fait un don \\u00e0 une association caritative lors d'un \\u00e9v\\u00e9nement local. 9. Un parrainage d'enfants implique le versement de cotisations pour assurer leur \\u00e9ducation. 10. Un festival local demande des dons pour organiser des activit\\u00e9s culturelles. 11. Une \\u00e9cole collecte des cotisations pour financer des sorties p\\u00e9dagogiques. 12. Un groupe de b\\u00e9n\\u00e9voles re\\u00e7oit des dons pour acheter des fournitures pour une action sociale. 13. Un projet communautaire recueille des cotisations pour r\\u00e9nover un parc local. 14. Une campagne de crowdfunding permet de rassembler des dons pour un projet artistique. 15. Une association de parents d'\\u00e9l\\u00e8ves collecte des cotisations pour financer des activit\\u00e9s scolaires.\"\n        ],\n        \"semantic_type\": \"\",\n        \"description\": \"\"\n      }\n    }\n  ]\n}"
            }
          },
          "metadata": {},
          "execution_count": 8
        }
      ],
      "source": [
        "train_dataset.to_pandas()\n",
        "# Anchor: The original sentence or query.\n",
        "# Positive answer: A correct or relevant response to the anchor.\n",
        "# Negative answer: An incorrect or irrelevant response to the anchor"
      ]
    },
    {
      "cell_type": "markdown",
      "metadata": {
        "id": "aZgCeehu6_CP"
      },
      "source": [
        "# Load Model"
      ]
    },
    {
      "cell_type": "code",
      "execution_count": 9,
      "metadata": {
        "id": "R4ZjdV80oKky",
        "colab": {
          "base_uri": "https://localhost:8080/"
        },
        "outputId": "8d97d975-d77b-4a4a-fc83-b0af8fcc90a9"
      },
      "outputs": [
        {
          "output_type": "stream",
          "name": "stderr",
          "text": [
            "Some weights of the model checkpoint at Alibaba-NLP/gte-multilingual-base were not used when initializing NewModel: ['classifier.bias', 'classifier.weight']\n",
            "- This IS expected if you are initializing NewModel from the checkpoint of a model trained on another task or with another architecture (e.g. initializing a BertForSequenceClassification model from a BertForPreTraining model).\n",
            "- This IS NOT expected if you are initializing NewModel from the checkpoint of a model that you expect to be exactly identical (initializing a BertForSequenceClassification model from a BertForSequenceClassification model).\n"
          ]
        }
      ],
      "source": [
        "# 1. Load a model to finetune with 2. (Optional) model card data\n",
        "\n",
        "#popular embedding models:\n",
        "#https://huggingface.co/nomic-ai/nomic-embed-text-v1\n",
        "#https://huggingface.co/BAAI/bge-large-en\n",
        "\n",
        "model = SentenceTransformer(\"Alibaba-NLP/gte-multilingual-base\",trust_remote_code=True)"
      ]
    },
    {
      "cell_type": "markdown",
      "metadata": {
        "id": "48NiNq8LTBTx"
      },
      "source": [
        "# Setting up Training Arguments"
      ]
    },
    {
      "cell_type": "code",
      "execution_count": 10,
      "metadata": {
        "id": "vFUlH9_DsJmI"
      },
      "outputs": [],
      "source": [
        "from sentence_transformers import SentenceTransformerTrainer, SentenceTransformerTrainingArguments\n",
        "from sentence_transformers.losses import MultipleNegativesRankingLoss\n",
        "from sentence_transformers.training_args import BatchSamplers\n",
        "\n"
      ]
    },
    {
      "cell_type": "code",
      "execution_count": 11,
      "metadata": {
        "id": "TdQXmrKcCVZw"
      },
      "outputs": [],
      "source": [
        "# 3. Define a loss function\n",
        "loss = MultipleNegativesRankingLoss(model)\n"
      ]
    },
    {
      "cell_type": "code",
      "execution_count": 12,
      "metadata": {
        "id": "FZxTYL7TCX6a"
      },
      "outputs": [],
      "source": [
        "args = SentenceTransformerTrainingArguments(\n",
        "    # Required parameter:\n",
        "    output_dir=\"models/mpnet-base-all-nli-triplet\",\n",
        "    # Optional training parameters:\n",
        "    num_train_epochs=3,\n",
        "    per_device_train_batch_size=4,\n",
        "    per_device_eval_batch_size=4,\n",
        "    warmup_ratio=0.1,\n",
        "    fp16=True,  # Set to False if you get an error that your GPU can't run on FP16\n",
        "    bf16=False,  # Set to True if you have a GPU that supports BF16\n",
        "    batch_sampler=BatchSamplers.NO_DUPLICATES,  # MultipleNegativesRankingLoss benefits from no duplicate samples in a batch\n",
        "    # Optional tracking/debugging parameters:\n",
        "    eval_strategy=\"steps\",\n",
        "    eval_steps=50,\n",
        "    save_strategy=\"steps\",\n",
        "    save_steps=50,\n",
        "    save_total_limit=100,\n",
        "    logging_steps=50,\n",
        "    run_name=\"mpnet-base-all-nli-triplet\",  # Will be used in W&B if `wandb` is installed\n",
        ")"
      ]
    },
    {
      "cell_type": "markdown",
      "metadata": {
        "id": "yOYmM33EWM9z"
      },
      "source": [
        "# Train"
      ]
    },
    {
      "cell_type": "code",
      "execution_count": 13,
      "metadata": {
        "id": "LpiKhye7rC9s"
      },
      "outputs": [],
      "source": [
        "trainer = SentenceTransformerTrainer(\n",
        "    model=model,\n",
        "    args=args,\n",
        "    train_dataset=train_dataset,\n",
        "    eval_dataset=eval_dataset,\n",
        "    loss=loss\n",
        ")\n"
      ]
    },
    {
      "cell_type": "code",
      "execution_count": 14,
      "metadata": {
        "colab": {
          "base_uri": "https://localhost:8080/",
          "height": 782,
          "referenced_widgets": [
            "1b7dc3c87a244e4bb6bcbc9f8f7dbed2",
            "b2fce0663c8346c3b5201710236c91a8",
            "4d80c18d977b494d860e57d4f7e429ab",
            "56db588378a84f33a6e461c429acb889",
            "b530ee90f2fd444db7eef2f1e6bcc9ed",
            "c26e86f4222c44b9a873aab074ff5dc7",
            "edb4acd958874184b5ec9848e402e822",
            "67379c354b8643e184ca6f815046b3d3",
            "f163c005575d466295f795703fdbfa46",
            "572b13f4972043f08e9176055fa218ae",
            "0afe5a681dc34292b4296e2a585e1415"
          ]
        },
        "id": "ySeNtQ8ZCmk6",
        "outputId": "7ca59807-9a02-4543-bf14-f4b7cc51748a"
      },
      "outputs": [
        {
          "output_type": "stream",
          "name": "stderr",
          "text": [
            "\u001b[34m\u001b[1mwandb\u001b[0m: Using wandb-core as the SDK backend.  Please refer to https://wandb.me/wandb-core for more information.\n",
            "\u001b[34m\u001b[1mwandb\u001b[0m: Currently logged in as: \u001b[33mmonojob111\u001b[0m (\u001b[33mmonojob111-jjbnnmn\u001b[0m). Use \u001b[1m`wandb login --relogin`\u001b[0m to force relogin\n"
          ]
        },
        {
          "output_type": "display_data",
          "data": {
            "text/plain": [
              "<IPython.core.display.HTML object>"
            ],
            "text/html": [
              "Tracking run with wandb version 0.18.7"
            ]
          },
          "metadata": {}
        },
        {
          "output_type": "display_data",
          "data": {
            "text/plain": [
              "<IPython.core.display.HTML object>"
            ],
            "text/html": [
              "Run data is saved locally in <code>/content/wandb/run-20241215_233634-yt58e0vt</code>"
            ]
          },
          "metadata": {}
        },
        {
          "output_type": "display_data",
          "data": {
            "text/plain": [
              "<IPython.core.display.HTML object>"
            ],
            "text/html": [
              "Syncing run <strong><a href='https://wandb.ai/monojob111-jjbnnmn/sentence-transformers/runs/yt58e0vt' target=\"_blank\">mpnet-base-all-nli-triplet</a></strong> to <a href='https://wandb.ai/monojob111-jjbnnmn/sentence-transformers' target=\"_blank\">Weights & Biases</a> (<a href='https://wandb.me/developer-guide' target=\"_blank\">docs</a>)<br/>"
            ]
          },
          "metadata": {}
        },
        {
          "output_type": "display_data",
          "data": {
            "text/plain": [
              "<IPython.core.display.HTML object>"
            ],
            "text/html": [
              " View project at <a href='https://wandb.ai/monojob111-jjbnnmn/sentence-transformers' target=\"_blank\">https://wandb.ai/monojob111-jjbnnmn/sentence-transformers</a>"
            ]
          },
          "metadata": {}
        },
        {
          "output_type": "display_data",
          "data": {
            "text/plain": [
              "<IPython.core.display.HTML object>"
            ],
            "text/html": [
              " View run at <a href='https://wandb.ai/monojob111-jjbnnmn/sentence-transformers/runs/yt58e0vt' target=\"_blank\">https://wandb.ai/monojob111-jjbnnmn/sentence-transformers/runs/yt58e0vt</a>"
            ]
          },
          "metadata": {}
        },
        {
          "output_type": "display_data",
          "data": {
            "text/plain": [
              "<IPython.core.display.HTML object>"
            ],
            "text/html": [
              "\n",
              "    <div>\n",
              "      \n",
              "      <progress value='864' max='864' style='width:300px; height:20px; vertical-align: middle;'></progress>\n",
              "      [864/864 25:51, Epoch 3/3]\n",
              "    </div>\n",
              "    <table border=\"1\" class=\"dataframe\">\n",
              "  <thead>\n",
              " <tr style=\"text-align: left;\">\n",
              "      <th>Step</th>\n",
              "      <th>Training Loss</th>\n",
              "      <th>Validation Loss</th>\n",
              "    </tr>\n",
              "  </thead>\n",
              "  <tbody>\n",
              "    <tr>\n",
              "      <td>50</td>\n",
              "      <td>0.466500</td>\n",
              "      <td>0.122677</td>\n",
              "    </tr>\n",
              "    <tr>\n",
              "      <td>100</td>\n",
              "      <td>0.140700</td>\n",
              "      <td>0.099875</td>\n",
              "    </tr>\n",
              "    <tr>\n",
              "      <td>150</td>\n",
              "      <td>0.083900</td>\n",
              "      <td>0.065370</td>\n",
              "    </tr>\n",
              "    <tr>\n",
              "      <td>200</td>\n",
              "      <td>0.060700</td>\n",
              "      <td>0.092077</td>\n",
              "    </tr>\n",
              "    <tr>\n",
              "      <td>250</td>\n",
              "      <td>0.038300</td>\n",
              "      <td>0.060587</td>\n",
              "    </tr>\n",
              "    <tr>\n",
              "      <td>300</td>\n",
              "      <td>0.056700</td>\n",
              "      <td>0.046577</td>\n",
              "    </tr>\n",
              "    <tr>\n",
              "      <td>350</td>\n",
              "      <td>0.018000</td>\n",
              "      <td>0.054437</td>\n",
              "    </tr>\n",
              "    <tr>\n",
              "      <td>400</td>\n",
              "      <td>0.014300</td>\n",
              "      <td>0.050594</td>\n",
              "    </tr>\n",
              "    <tr>\n",
              "      <td>450</td>\n",
              "      <td>0.003700</td>\n",
              "      <td>0.049877</td>\n",
              "    </tr>\n",
              "    <tr>\n",
              "      <td>500</td>\n",
              "      <td>0.004400</td>\n",
              "      <td>0.059414</td>\n",
              "    </tr>\n",
              "    <tr>\n",
              "      <td>550</td>\n",
              "      <td>0.005100</td>\n",
              "      <td>0.063038</td>\n",
              "    </tr>\n",
              "    <tr>\n",
              "      <td>600</td>\n",
              "      <td>0.001000</td>\n",
              "      <td>0.053020</td>\n",
              "    </tr>\n",
              "    <tr>\n",
              "      <td>650</td>\n",
              "      <td>0.000900</td>\n",
              "      <td>0.049131</td>\n",
              "    </tr>\n",
              "    <tr>\n",
              "      <td>700</td>\n",
              "      <td>0.000600</td>\n",
              "      <td>0.050648</td>\n",
              "    </tr>\n",
              "    <tr>\n",
              "      <td>750</td>\n",
              "      <td>0.000600</td>\n",
              "      <td>0.050352</td>\n",
              "    </tr>\n",
              "    <tr>\n",
              "      <td>800</td>\n",
              "      <td>0.000700</td>\n",
              "      <td>0.050774</td>\n",
              "    </tr>\n",
              "    <tr>\n",
              "      <td>850</td>\n",
              "      <td>0.000600</td>\n",
              "      <td>0.050407</td>\n",
              "    </tr>\n",
              "  </tbody>\n",
              "</table><p>"
            ]
          },
          "metadata": {}
        },
        {
          "output_type": "display_data",
          "data": {
            "text/plain": [
              "Computing widget examples:   0%|          | 0/1 [00:00<?, ?example/s]"
            ],
            "application/vnd.jupyter.widget-view+json": {
              "version_major": 2,
              "version_minor": 0,
              "model_id": "1b7dc3c87a244e4bb6bcbc9f8f7dbed2"
            }
          },
          "metadata": {}
        },
        {
          "output_type": "execute_result",
          "data": {
            "text/plain": [
              "TrainOutput(global_step=864, training_loss=0.051894362208528305, metrics={'train_runtime': 1557.2924, 'train_samples_per_second': 2.217, 'train_steps_per_second': 0.555, 'total_flos': 0.0, 'train_loss': 0.051894362208528305, 'epoch': 3.0})"
            ]
          },
          "metadata": {},
          "execution_count": 14
        }
      ],
      "source": [
        "trainer.train()"
      ]
    },
    {
      "cell_type": "markdown",
      "metadata": {
        "id": "_e-z3jSnV2X-"
      },
      "source": [
        "# Test - Model any good?"
      ]
    },
    {
      "cell_type": "code",
      "execution_count": null,
      "metadata": {
        "colab": {
          "base_uri": "https://localhost:8080/"
        },
        "id": "zyQa1PQjTQiF",
        "outputId": "edde22fb-8d00-4e7b-a1fa-3e2b5741a773"
      },
      "outputs": [
        {
          "output_type": "execute_result",
          "data": {
            "text/plain": [
              "{'all-nli-test_cosine_accuracy': 1.0}"
            ]
          },
          "metadata": {},
          "execution_count": 15
        }
      ],
      "source": [
        "from sentence_transformers.evaluation import TripletEvaluator\n",
        "\n",
        "test_evaluator = TripletEvaluator(\n",
        "    anchors=test_dataset[\"anchor\"],\n",
        "    positives=test_dataset[\"positive\"],\n",
        "    negatives=test_dataset[\"negative\"],\n",
        "    name=\"all-nli-test\",\n",
        ")\n",
        "\n",
        "test_evaluator(model)\n"
      ]
    },
    {
      "cell_type": "code",
      "execution_count": 15,
      "metadata": {
        "id": "Qwe46tY-Wh5w",
        "colab": {
          "base_uri": "https://localhost:8080/",
          "height": 148,
          "referenced_widgets": [
            "e9b7d728e0ae4c90bdb203f0bb0c4929",
            "a9d33a87c5b5429d8ab705dcb165260f",
            "55a35f86e60342008f1e0d708134cad5",
            "eac9629ecd9a4576bf958596a2431d82",
            "1353f5336d4e4d8685323c380d9dff0b",
            "27f866f2ec0c497d8a252f8cf57dc95d",
            "fa3221d2582043dcb7e7a2a614d4704e",
            "a4a3585d5fcf4093bd6c1d6e60fb405f",
            "19d73de7dc4a47d283d0f8d02973527f",
            "b6ca450d03404b20bbf9c110cf3de281",
            "e274d00c69c64528a3e448be903db746",
            "447ebfa8067b4505adcc49fb43f8c6b0",
            "1d8e5a3aec2f49ea908f6c2f753514ab",
            "02c5105ecf0b49bb9205080865f08f00",
            "2e716888a5c94208b4b24e2c7fa38792",
            "2717619b94534f7d8558b7a95716c1ce",
            "331c384ee7b0432c8b78749db10ecdb4",
            "e5a80b493c2043e982f529fdd6300526",
            "35796b6c723b42238989e53605f5f04f",
            "964d519e387e43aa9aaee922f39b5474",
            "38b6faf77d54467f8adebb3635d9698a",
            "24a6c913652c46ff9e8a786c80655fcf",
            "e62bee0b22f944dbbb02a076a09bceee",
            "a17ab335a99140b2a3c62fe41a8a5c4c",
            "a0ff59d7b23d4e58837e0e52ef307ca4",
            "2646c2c0b341440e999c62486b524e1e",
            "d6ca5bc963d844dab9c9f3299e467420",
            "7197c8844a64467d856382a0e31783a0",
            "aa516ad5fdbd450884baad599c664502",
            "d112feadf82843b48a2a5fae6b21efad",
            "e3ff1fe5fc16454aabd82ae2e0b268e1",
            "c5391955c2f34d9d9a2ea4335592b345",
            "058ab40882dd4fb09ffe47b5bced90c1"
          ]
        },
        "outputId": "cb6316c7-a5e4-492e-8401-a212ef8bf40e"
      },
      "outputs": [
        {
          "output_type": "display_data",
          "data": {
            "text/plain": [
              "model.safetensors:   0%|          | 0.00/1.22G [00:00<?, ?B/s]"
            ],
            "application/vnd.jupyter.widget-view+json": {
              "version_major": 2,
              "version_minor": 0,
              "model_id": "e9b7d728e0ae4c90bdb203f0bb0c4929"
            }
          },
          "metadata": {}
        },
        {
          "output_type": "display_data",
          "data": {
            "text/plain": [
              "tokenizer.json:   0%|          | 0.00/17.1M [00:00<?, ?B/s]"
            ],
            "application/vnd.jupyter.widget-view+json": {
              "version_major": 2,
              "version_minor": 0,
              "model_id": "447ebfa8067b4505adcc49fb43f8c6b0"
            }
          },
          "metadata": {}
        },
        {
          "output_type": "display_data",
          "data": {
            "text/plain": [
              "Upload 2 LFS files:   0%|          | 0/2 [00:00<?, ?it/s]"
            ],
            "application/vnd.jupyter.widget-view+json": {
              "version_major": 2,
              "version_minor": 0,
              "model_id": "e62bee0b22f944dbbb02a076a09bceee"
            }
          },
          "metadata": {}
        },
        {
          "output_type": "execute_result",
          "data": {
            "text/plain": [
              "'https://huggingface.co/Noureddinesa/Invoices_gte-multilingual-base/commit/b0b85eb8671baa926cb4fa2b96e6727655da6629'"
            ],
            "application/vnd.google.colaboratory.intrinsic+json": {
              "type": "string"
            }
          },
          "metadata": {},
          "execution_count": 15
        }
      ],
      "source": [
        "\n",
        "# 8. Save the trained model\n",
        "model.save_pretrained(\"models/mpnet-base-all-nli-triplet/checkpoint-864\")\n",
        "auth_token = \"hf_xxxxxxxxxxxxxxxxxxxxxxxxxxxxx\"\n",
        "# 9. (Optional) Push it to the Hugging Face Hub\n",
        "model.push_to_hub(\"Model_Name\",token=auth_token)"
      ]
    }
  ],
  "metadata": {
    "accelerator": "GPU",
    "colab": {
      "collapsed_sections": [
        "48NiNq8LTBTx"
      ],
      "gpuType": "T4",
      "provenance": []
    },
    "kernelspec": {
      "display_name": "Python 3",
      "name": "python3"
    },
    "language_info": {
      "name": "python"
    },
    "widgets": {
      "application/vnd.jupyter.widget-state+json": {
        "63485918756040e7bb956192ec3e5493": {
          "model_module": "@jupyter-widgets/controls",
          "model_name": "HBoxModel",
          "model_module_version": "1.5.0",
          "state": {
            "_dom_classes": [],
            "_model_module": "@jupyter-widgets/controls",
            "_model_module_version": "1.5.0",
            "_model_name": "HBoxModel",
            "_view_count": null,
            "_view_module": "@jupyter-widgets/controls",
            "_view_module_version": "1.5.0",
            "_view_name": "HBoxView",
            "box_style": "",
            "children": [
              "IPY_MODEL_c8a927c424d74791a7e973f6a34c992e",
              "IPY_MODEL_4cbfb3b9c5d243338d05a23f6e39573d",
              "IPY_MODEL_6bca018f25394966b9643c7727268843"
            ],
            "layout": "IPY_MODEL_bb28908c90a04da08b9a1d7e776ca9a0"
          }
        },
        "c8a927c424d74791a7e973f6a34c992e": {
          "model_module": "@jupyter-widgets/controls",
          "model_name": "HTMLModel",
          "model_module_version": "1.5.0",
          "state": {
            "_dom_classes": [],
            "_model_module": "@jupyter-widgets/controls",
            "_model_module_version": "1.5.0",
            "_model_name": "HTMLModel",
            "_view_count": null,
            "_view_module": "@jupyter-widgets/controls",
            "_view_module_version": "1.5.0",
            "_view_name": "HTMLView",
            "description": "",
            "description_tooltip": null,
            "layout": "IPY_MODEL_d68a181dc67d41d3a71e95d37fe57ffc",
            "placeholder": "​",
            "style": "IPY_MODEL_35bb87e6226342789692189548d79972",
            "value": "Uploading the dataset shards: 100%"
          }
        },
        "4cbfb3b9c5d243338d05a23f6e39573d": {
          "model_module": "@jupyter-widgets/controls",
          "model_name": "FloatProgressModel",
          "model_module_version": "1.5.0",
          "state": {
            "_dom_classes": [],
            "_model_module": "@jupyter-widgets/controls",
            "_model_module_version": "1.5.0",
            "_model_name": "FloatProgressModel",
            "_view_count": null,
            "_view_module": "@jupyter-widgets/controls",
            "_view_module_version": "1.5.0",
            "_view_name": "ProgressView",
            "bar_style": "success",
            "description": "",
            "description_tooltip": null,
            "layout": "IPY_MODEL_5339fc3490474f53be1ec7a828f8690f",
            "max": 1,
            "min": 0,
            "orientation": "horizontal",
            "style": "IPY_MODEL_cb4a432912a8496387fda71cceb9005f",
            "value": 1
          }
        },
        "6bca018f25394966b9643c7727268843": {
          "model_module": "@jupyter-widgets/controls",
          "model_name": "HTMLModel",
          "model_module_version": "1.5.0",
          "state": {
            "_dom_classes": [],
            "_model_module": "@jupyter-widgets/controls",
            "_model_module_version": "1.5.0",
            "_model_name": "HTMLModel",
            "_view_count": null,
            "_view_module": "@jupyter-widgets/controls",
            "_view_module_version": "1.5.0",
            "_view_name": "HTMLView",
            "description": "",
            "description_tooltip": null,
            "layout": "IPY_MODEL_322147ffb50d4d7a99d25f246c067d8e",
            "placeholder": "​",
            "style": "IPY_MODEL_48d5fc2294e44c79978e3caedf9dab12",
            "value": " 1/1 [00:00&lt;00:00,  1.64it/s]"
          }
        },
        "bb28908c90a04da08b9a1d7e776ca9a0": {
          "model_module": "@jupyter-widgets/base",
          "model_name": "LayoutModel",
          "model_module_version": "1.2.0",
          "state": {
            "_model_module": "@jupyter-widgets/base",
            "_model_module_version": "1.2.0",
            "_model_name": "LayoutModel",
            "_view_count": null,
            "_view_module": "@jupyter-widgets/base",
            "_view_module_version": "1.2.0",
            "_view_name": "LayoutView",
            "align_content": null,
            "align_items": null,
            "align_self": null,
            "border": null,
            "bottom": null,
            "display": null,
            "flex": null,
            "flex_flow": null,
            "grid_area": null,
            "grid_auto_columns": null,
            "grid_auto_flow": null,
            "grid_auto_rows": null,
            "grid_column": null,
            "grid_gap": null,
            "grid_row": null,
            "grid_template_areas": null,
            "grid_template_columns": null,
            "grid_template_rows": null,
            "height": null,
            "justify_content": null,
            "justify_items": null,
            "left": null,
            "margin": null,
            "max_height": null,
            "max_width": null,
            "min_height": null,
            "min_width": null,
            "object_fit": null,
            "object_position": null,
            "order": null,
            "overflow": null,
            "overflow_x": null,
            "overflow_y": null,
            "padding": null,
            "right": null,
            "top": null,
            "visibility": null,
            "width": null
          }
        },
        "d68a181dc67d41d3a71e95d37fe57ffc": {
          "model_module": "@jupyter-widgets/base",
          "model_name": "LayoutModel",
          "model_module_version": "1.2.0",
          "state": {
            "_model_module": "@jupyter-widgets/base",
            "_model_module_version": "1.2.0",
            "_model_name": "LayoutModel",
            "_view_count": null,
            "_view_module": "@jupyter-widgets/base",
            "_view_module_version": "1.2.0",
            "_view_name": "LayoutView",
            "align_content": null,
            "align_items": null,
            "align_self": null,
            "border": null,
            "bottom": null,
            "display": null,
            "flex": null,
            "flex_flow": null,
            "grid_area": null,
            "grid_auto_columns": null,
            "grid_auto_flow": null,
            "grid_auto_rows": null,
            "grid_column": null,
            "grid_gap": null,
            "grid_row": null,
            "grid_template_areas": null,
            "grid_template_columns": null,
            "grid_template_rows": null,
            "height": null,
            "justify_content": null,
            "justify_items": null,
            "left": null,
            "margin": null,
            "max_height": null,
            "max_width": null,
            "min_height": null,
            "min_width": null,
            "object_fit": null,
            "object_position": null,
            "order": null,
            "overflow": null,
            "overflow_x": null,
            "overflow_y": null,
            "padding": null,
            "right": null,
            "top": null,
            "visibility": null,
            "width": null
          }
        },
        "35bb87e6226342789692189548d79972": {
          "model_module": "@jupyter-widgets/controls",
          "model_name": "DescriptionStyleModel",
          "model_module_version": "1.5.0",
          "state": {
            "_model_module": "@jupyter-widgets/controls",
            "_model_module_version": "1.5.0",
            "_model_name": "DescriptionStyleModel",
            "_view_count": null,
            "_view_module": "@jupyter-widgets/base",
            "_view_module_version": "1.2.0",
            "_view_name": "StyleView",
            "description_width": ""
          }
        },
        "5339fc3490474f53be1ec7a828f8690f": {
          "model_module": "@jupyter-widgets/base",
          "model_name": "LayoutModel",
          "model_module_version": "1.2.0",
          "state": {
            "_model_module": "@jupyter-widgets/base",
            "_model_module_version": "1.2.0",
            "_model_name": "LayoutModel",
            "_view_count": null,
            "_view_module": "@jupyter-widgets/base",
            "_view_module_version": "1.2.0",
            "_view_name": "LayoutView",
            "align_content": null,
            "align_items": null,
            "align_self": null,
            "border": null,
            "bottom": null,
            "display": null,
            "flex": null,
            "flex_flow": null,
            "grid_area": null,
            "grid_auto_columns": null,
            "grid_auto_flow": null,
            "grid_auto_rows": null,
            "grid_column": null,
            "grid_gap": null,
            "grid_row": null,
            "grid_template_areas": null,
            "grid_template_columns": null,
            "grid_template_rows": null,
            "height": null,
            "justify_content": null,
            "justify_items": null,
            "left": null,
            "margin": null,
            "max_height": null,
            "max_width": null,
            "min_height": null,
            "min_width": null,
            "object_fit": null,
            "object_position": null,
            "order": null,
            "overflow": null,
            "overflow_x": null,
            "overflow_y": null,
            "padding": null,
            "right": null,
            "top": null,
            "visibility": null,
            "width": null
          }
        },
        "cb4a432912a8496387fda71cceb9005f": {
          "model_module": "@jupyter-widgets/controls",
          "model_name": "ProgressStyleModel",
          "model_module_version": "1.5.0",
          "state": {
            "_model_module": "@jupyter-widgets/controls",
            "_model_module_version": "1.5.0",
            "_model_name": "ProgressStyleModel",
            "_view_count": null,
            "_view_module": "@jupyter-widgets/base",
            "_view_module_version": "1.2.0",
            "_view_name": "StyleView",
            "bar_color": null,
            "description_width": ""
          }
        },
        "322147ffb50d4d7a99d25f246c067d8e": {
          "model_module": "@jupyter-widgets/base",
          "model_name": "LayoutModel",
          "model_module_version": "1.2.0",
          "state": {
            "_model_module": "@jupyter-widgets/base",
            "_model_module_version": "1.2.0",
            "_model_name": "LayoutModel",
            "_view_count": null,
            "_view_module": "@jupyter-widgets/base",
            "_view_module_version": "1.2.0",
            "_view_name": "LayoutView",
            "align_content": null,
            "align_items": null,
            "align_self": null,
            "border": null,
            "bottom": null,
            "display": null,
            "flex": null,
            "flex_flow": null,
            "grid_area": null,
            "grid_auto_columns": null,
            "grid_auto_flow": null,
            "grid_auto_rows": null,
            "grid_column": null,
            "grid_gap": null,
            "grid_row": null,
            "grid_template_areas": null,
            "grid_template_columns": null,
            "grid_template_rows": null,
            "height": null,
            "justify_content": null,
            "justify_items": null,
            "left": null,
            "margin": null,
            "max_height": null,
            "max_width": null,
            "min_height": null,
            "min_width": null,
            "object_fit": null,
            "object_position": null,
            "order": null,
            "overflow": null,
            "overflow_x": null,
            "overflow_y": null,
            "padding": null,
            "right": null,
            "top": null,
            "visibility": null,
            "width": null
          }
        },
        "48d5fc2294e44c79978e3caedf9dab12": {
          "model_module": "@jupyter-widgets/controls",
          "model_name": "DescriptionStyleModel",
          "model_module_version": "1.5.0",
          "state": {
            "_model_module": "@jupyter-widgets/controls",
            "_model_module_version": "1.5.0",
            "_model_name": "DescriptionStyleModel",
            "_view_count": null,
            "_view_module": "@jupyter-widgets/base",
            "_view_module_version": "1.2.0",
            "_view_name": "StyleView",
            "description_width": ""
          }
        },
        "c69478af0a034c329440af23b906bae7": {
          "model_module": "@jupyter-widgets/controls",
          "model_name": "HBoxModel",
          "model_module_version": "1.5.0",
          "state": {
            "_dom_classes": [],
            "_model_module": "@jupyter-widgets/controls",
            "_model_module_version": "1.5.0",
            "_model_name": "HBoxModel",
            "_view_count": null,
            "_view_module": "@jupyter-widgets/controls",
            "_view_module_version": "1.5.0",
            "_view_name": "HBoxView",
            "box_style": "",
            "children": [
              "IPY_MODEL_18ad8ad29af14e07b328b94715717784",
              "IPY_MODEL_9502579ee9024a6eb252fa433d7c335f",
              "IPY_MODEL_19cf42aa81a54809af225b5b846e4eb7"
            ],
            "layout": "IPY_MODEL_297a248d233746cba6c6cff31410c39d"
          }
        },
        "18ad8ad29af14e07b328b94715717784": {
          "model_module": "@jupyter-widgets/controls",
          "model_name": "HTMLModel",
          "model_module_version": "1.5.0",
          "state": {
            "_dom_classes": [],
            "_model_module": "@jupyter-widgets/controls",
            "_model_module_version": "1.5.0",
            "_model_name": "HTMLModel",
            "_view_count": null,
            "_view_module": "@jupyter-widgets/controls",
            "_view_module_version": "1.5.0",
            "_view_name": "HTMLView",
            "description": "",
            "description_tooltip": null,
            "layout": "IPY_MODEL_07e7e982a9c04ccd878ed70173146223",
            "placeholder": "​",
            "style": "IPY_MODEL_8bbd42b9af8e441bbd16812a4cab754f",
            "value": "Creating parquet from Arrow format: 100%"
          }
        },
        "9502579ee9024a6eb252fa433d7c335f": {
          "model_module": "@jupyter-widgets/controls",
          "model_name": "FloatProgressModel",
          "model_module_version": "1.5.0",
          "state": {
            "_dom_classes": [],
            "_model_module": "@jupyter-widgets/controls",
            "_model_module_version": "1.5.0",
            "_model_name": "FloatProgressModel",
            "_view_count": null,
            "_view_module": "@jupyter-widgets/controls",
            "_view_module_version": "1.5.0",
            "_view_name": "ProgressView",
            "bar_style": "success",
            "description": "",
            "description_tooltip": null,
            "layout": "IPY_MODEL_6e5f4b12ef12439cb55f0f03d1e38a13",
            "max": 2,
            "min": 0,
            "orientation": "horizontal",
            "style": "IPY_MODEL_e8c46cc88aba4769836b80294289ba87",
            "value": 2
          }
        },
        "19cf42aa81a54809af225b5b846e4eb7": {
          "model_module": "@jupyter-widgets/controls",
          "model_name": "HTMLModel",
          "model_module_version": "1.5.0",
          "state": {
            "_dom_classes": [],
            "_model_module": "@jupyter-widgets/controls",
            "_model_module_version": "1.5.0",
            "_model_name": "HTMLModel",
            "_view_count": null,
            "_view_module": "@jupyter-widgets/controls",
            "_view_module_version": "1.5.0",
            "_view_name": "HTMLView",
            "description": "",
            "description_tooltip": null,
            "layout": "IPY_MODEL_292cbda37b614ad3981587251b0d4266",
            "placeholder": "​",
            "style": "IPY_MODEL_349a696103e2417493a0d94c8fb3bab5",
            "value": " 2/2 [00:00&lt;00:00, 53.22ba/s]"
          }
        },
        "297a248d233746cba6c6cff31410c39d": {
          "model_module": "@jupyter-widgets/base",
          "model_name": "LayoutModel",
          "model_module_version": "1.2.0",
          "state": {
            "_model_module": "@jupyter-widgets/base",
            "_model_module_version": "1.2.0",
            "_model_name": "LayoutModel",
            "_view_count": null,
            "_view_module": "@jupyter-widgets/base",
            "_view_module_version": "1.2.0",
            "_view_name": "LayoutView",
            "align_content": null,
            "align_items": null,
            "align_self": null,
            "border": null,
            "bottom": null,
            "display": null,
            "flex": null,
            "flex_flow": null,
            "grid_area": null,
            "grid_auto_columns": null,
            "grid_auto_flow": null,
            "grid_auto_rows": null,
            "grid_column": null,
            "grid_gap": null,
            "grid_row": null,
            "grid_template_areas": null,
            "grid_template_columns": null,
            "grid_template_rows": null,
            "height": null,
            "justify_content": null,
            "justify_items": null,
            "left": null,
            "margin": null,
            "max_height": null,
            "max_width": null,
            "min_height": null,
            "min_width": null,
            "object_fit": null,
            "object_position": null,
            "order": null,
            "overflow": null,
            "overflow_x": null,
            "overflow_y": null,
            "padding": null,
            "right": null,
            "top": null,
            "visibility": null,
            "width": null
          }
        },
        "07e7e982a9c04ccd878ed70173146223": {
          "model_module": "@jupyter-widgets/base",
          "model_name": "LayoutModel",
          "model_module_version": "1.2.0",
          "state": {
            "_model_module": "@jupyter-widgets/base",
            "_model_module_version": "1.2.0",
            "_model_name": "LayoutModel",
            "_view_count": null,
            "_view_module": "@jupyter-widgets/base",
            "_view_module_version": "1.2.0",
            "_view_name": "LayoutView",
            "align_content": null,
            "align_items": null,
            "align_self": null,
            "border": null,
            "bottom": null,
            "display": null,
            "flex": null,
            "flex_flow": null,
            "grid_area": null,
            "grid_auto_columns": null,
            "grid_auto_flow": null,
            "grid_auto_rows": null,
            "grid_column": null,
            "grid_gap": null,
            "grid_row": null,
            "grid_template_areas": null,
            "grid_template_columns": null,
            "grid_template_rows": null,
            "height": null,
            "justify_content": null,
            "justify_items": null,
            "left": null,
            "margin": null,
            "max_height": null,
            "max_width": null,
            "min_height": null,
            "min_width": null,
            "object_fit": null,
            "object_position": null,
            "order": null,
            "overflow": null,
            "overflow_x": null,
            "overflow_y": null,
            "padding": null,
            "right": null,
            "top": null,
            "visibility": null,
            "width": null
          }
        },
        "8bbd42b9af8e441bbd16812a4cab754f": {
          "model_module": "@jupyter-widgets/controls",
          "model_name": "DescriptionStyleModel",
          "model_module_version": "1.5.0",
          "state": {
            "_model_module": "@jupyter-widgets/controls",
            "_model_module_version": "1.5.0",
            "_model_name": "DescriptionStyleModel",
            "_view_count": null,
            "_view_module": "@jupyter-widgets/base",
            "_view_module_version": "1.2.0",
            "_view_name": "StyleView",
            "description_width": ""
          }
        },
        "6e5f4b12ef12439cb55f0f03d1e38a13": {
          "model_module": "@jupyter-widgets/base",
          "model_name": "LayoutModel",
          "model_module_version": "1.2.0",
          "state": {
            "_model_module": "@jupyter-widgets/base",
            "_model_module_version": "1.2.0",
            "_model_name": "LayoutModel",
            "_view_count": null,
            "_view_module": "@jupyter-widgets/base",
            "_view_module_version": "1.2.0",
            "_view_name": "LayoutView",
            "align_content": null,
            "align_items": null,
            "align_self": null,
            "border": null,
            "bottom": null,
            "display": null,
            "flex": null,
            "flex_flow": null,
            "grid_area": null,
            "grid_auto_columns": null,
            "grid_auto_flow": null,
            "grid_auto_rows": null,
            "grid_column": null,
            "grid_gap": null,
            "grid_row": null,
            "grid_template_areas": null,
            "grid_template_columns": null,
            "grid_template_rows": null,
            "height": null,
            "justify_content": null,
            "justify_items": null,
            "left": null,
            "margin": null,
            "max_height": null,
            "max_width": null,
            "min_height": null,
            "min_width": null,
            "object_fit": null,
            "object_position": null,
            "order": null,
            "overflow": null,
            "overflow_x": null,
            "overflow_y": null,
            "padding": null,
            "right": null,
            "top": null,
            "visibility": null,
            "width": null
          }
        },
        "e8c46cc88aba4769836b80294289ba87": {
          "model_module": "@jupyter-widgets/controls",
          "model_name": "ProgressStyleModel",
          "model_module_version": "1.5.0",
          "state": {
            "_model_module": "@jupyter-widgets/controls",
            "_model_module_version": "1.5.0",
            "_model_name": "ProgressStyleModel",
            "_view_count": null,
            "_view_module": "@jupyter-widgets/base",
            "_view_module_version": "1.2.0",
            "_view_name": "StyleView",
            "bar_color": null,
            "description_width": ""
          }
        },
        "292cbda37b614ad3981587251b0d4266": {
          "model_module": "@jupyter-widgets/base",
          "model_name": "LayoutModel",
          "model_module_version": "1.2.0",
          "state": {
            "_model_module": "@jupyter-widgets/base",
            "_model_module_version": "1.2.0",
            "_model_name": "LayoutModel",
            "_view_count": null,
            "_view_module": "@jupyter-widgets/base",
            "_view_module_version": "1.2.0",
            "_view_name": "LayoutView",
            "align_content": null,
            "align_items": null,
            "align_self": null,
            "border": null,
            "bottom": null,
            "display": null,
            "flex": null,
            "flex_flow": null,
            "grid_area": null,
            "grid_auto_columns": null,
            "grid_auto_flow": null,
            "grid_auto_rows": null,
            "grid_column": null,
            "grid_gap": null,
            "grid_row": null,
            "grid_template_areas": null,
            "grid_template_columns": null,
            "grid_template_rows": null,
            "height": null,
            "justify_content": null,
            "justify_items": null,
            "left": null,
            "margin": null,
            "max_height": null,
            "max_width": null,
            "min_height": null,
            "min_width": null,
            "object_fit": null,
            "object_position": null,
            "order": null,
            "overflow": null,
            "overflow_x": null,
            "overflow_y": null,
            "padding": null,
            "right": null,
            "top": null,
            "visibility": null,
            "width": null
          }
        },
        "349a696103e2417493a0d94c8fb3bab5": {
          "model_module": "@jupyter-widgets/controls",
          "model_name": "DescriptionStyleModel",
          "model_module_version": "1.5.0",
          "state": {
            "_model_module": "@jupyter-widgets/controls",
            "_model_module_version": "1.5.0",
            "_model_name": "DescriptionStyleModel",
            "_view_count": null,
            "_view_module": "@jupyter-widgets/base",
            "_view_module_version": "1.2.0",
            "_view_name": "StyleView",
            "description_width": ""
          }
        },
        "2e4affc06a7e4639b2a2d5147d1c826e": {
          "model_module": "@jupyter-widgets/controls",
          "model_name": "HBoxModel",
          "model_module_version": "1.5.0",
          "state": {
            "_dom_classes": [],
            "_model_module": "@jupyter-widgets/controls",
            "_model_module_version": "1.5.0",
            "_model_name": "HBoxModel",
            "_view_count": null,
            "_view_module": "@jupyter-widgets/controls",
            "_view_module_version": "1.5.0",
            "_view_name": "HBoxView",
            "box_style": "",
            "children": [
              "IPY_MODEL_f441d40cb15d46faad3dc42fa18fb702",
              "IPY_MODEL_931fe40c638742948b37c60c86859ca9",
              "IPY_MODEL_98f18de872864e0e9983afcb2883b6b2"
            ],
            "layout": "IPY_MODEL_309d260907b0432f8e7f3812f1bdb0b8"
          }
        },
        "f441d40cb15d46faad3dc42fa18fb702": {
          "model_module": "@jupyter-widgets/controls",
          "model_name": "HTMLModel",
          "model_module_version": "1.5.0",
          "state": {
            "_dom_classes": [],
            "_model_module": "@jupyter-widgets/controls",
            "_model_module_version": "1.5.0",
            "_model_name": "HTMLModel",
            "_view_count": null,
            "_view_module": "@jupyter-widgets/controls",
            "_view_module_version": "1.5.0",
            "_view_name": "HTMLView",
            "description": "",
            "description_tooltip": null,
            "layout": "IPY_MODEL_5310611db22c49d7a12ac269f303c01b",
            "placeholder": "​",
            "style": "IPY_MODEL_91738699bb6842d09dabd7d44da7458c",
            "value": "Uploading the dataset shards: 100%"
          }
        },
        "931fe40c638742948b37c60c86859ca9": {
          "model_module": "@jupyter-widgets/controls",
          "model_name": "FloatProgressModel",
          "model_module_version": "1.5.0",
          "state": {
            "_dom_classes": [],
            "_model_module": "@jupyter-widgets/controls",
            "_model_module_version": "1.5.0",
            "_model_name": "FloatProgressModel",
            "_view_count": null,
            "_view_module": "@jupyter-widgets/controls",
            "_view_module_version": "1.5.0",
            "_view_name": "ProgressView",
            "bar_style": "success",
            "description": "",
            "description_tooltip": null,
            "layout": "IPY_MODEL_2520b51d1222417c807fa82c6411aa83",
            "max": 1,
            "min": 0,
            "orientation": "horizontal",
            "style": "IPY_MODEL_5c09ffa52d4f4bd9aa5c8f47e5d925c8",
            "value": 1
          }
        },
        "98f18de872864e0e9983afcb2883b6b2": {
          "model_module": "@jupyter-widgets/controls",
          "model_name": "HTMLModel",
          "model_module_version": "1.5.0",
          "state": {
            "_dom_classes": [],
            "_model_module": "@jupyter-widgets/controls",
            "_model_module_version": "1.5.0",
            "_model_name": "HTMLModel",
            "_view_count": null,
            "_view_module": "@jupyter-widgets/controls",
            "_view_module_version": "1.5.0",
            "_view_name": "HTMLView",
            "description": "",
            "description_tooltip": null,
            "layout": "IPY_MODEL_3ea5ab1d6fff41c7b91e315f3ef28490",
            "placeholder": "​",
            "style": "IPY_MODEL_e26d182a030a4cbe92f000e19ae511dd",
            "value": " 1/1 [00:00&lt;00:00,  2.42it/s]"
          }
        },
        "309d260907b0432f8e7f3812f1bdb0b8": {
          "model_module": "@jupyter-widgets/base",
          "model_name": "LayoutModel",
          "model_module_version": "1.2.0",
          "state": {
            "_model_module": "@jupyter-widgets/base",
            "_model_module_version": "1.2.0",
            "_model_name": "LayoutModel",
            "_view_count": null,
            "_view_module": "@jupyter-widgets/base",
            "_view_module_version": "1.2.0",
            "_view_name": "LayoutView",
            "align_content": null,
            "align_items": null,
            "align_self": null,
            "border": null,
            "bottom": null,
            "display": null,
            "flex": null,
            "flex_flow": null,
            "grid_area": null,
            "grid_auto_columns": null,
            "grid_auto_flow": null,
            "grid_auto_rows": null,
            "grid_column": null,
            "grid_gap": null,
            "grid_row": null,
            "grid_template_areas": null,
            "grid_template_columns": null,
            "grid_template_rows": null,
            "height": null,
            "justify_content": null,
            "justify_items": null,
            "left": null,
            "margin": null,
            "max_height": null,
            "max_width": null,
            "min_height": null,
            "min_width": null,
            "object_fit": null,
            "object_position": null,
            "order": null,
            "overflow": null,
            "overflow_x": null,
            "overflow_y": null,
            "padding": null,
            "right": null,
            "top": null,
            "visibility": null,
            "width": null
          }
        },
        "5310611db22c49d7a12ac269f303c01b": {
          "model_module": "@jupyter-widgets/base",
          "model_name": "LayoutModel",
          "model_module_version": "1.2.0",
          "state": {
            "_model_module": "@jupyter-widgets/base",
            "_model_module_version": "1.2.0",
            "_model_name": "LayoutModel",
            "_view_count": null,
            "_view_module": "@jupyter-widgets/base",
            "_view_module_version": "1.2.0",
            "_view_name": "LayoutView",
            "align_content": null,
            "align_items": null,
            "align_self": null,
            "border": null,
            "bottom": null,
            "display": null,
            "flex": null,
            "flex_flow": null,
            "grid_area": null,
            "grid_auto_columns": null,
            "grid_auto_flow": null,
            "grid_auto_rows": null,
            "grid_column": null,
            "grid_gap": null,
            "grid_row": null,
            "grid_template_areas": null,
            "grid_template_columns": null,
            "grid_template_rows": null,
            "height": null,
            "justify_content": null,
            "justify_items": null,
            "left": null,
            "margin": null,
            "max_height": null,
            "max_width": null,
            "min_height": null,
            "min_width": null,
            "object_fit": null,
            "object_position": null,
            "order": null,
            "overflow": null,
            "overflow_x": null,
            "overflow_y": null,
            "padding": null,
            "right": null,
            "top": null,
            "visibility": null,
            "width": null
          }
        },
        "91738699bb6842d09dabd7d44da7458c": {
          "model_module": "@jupyter-widgets/controls",
          "model_name": "DescriptionStyleModel",
          "model_module_version": "1.5.0",
          "state": {
            "_model_module": "@jupyter-widgets/controls",
            "_model_module_version": "1.5.0",
            "_model_name": "DescriptionStyleModel",
            "_view_count": null,
            "_view_module": "@jupyter-widgets/base",
            "_view_module_version": "1.2.0",
            "_view_name": "StyleView",
            "description_width": ""
          }
        },
        "2520b51d1222417c807fa82c6411aa83": {
          "model_module": "@jupyter-widgets/base",
          "model_name": "LayoutModel",
          "model_module_version": "1.2.0",
          "state": {
            "_model_module": "@jupyter-widgets/base",
            "_model_module_version": "1.2.0",
            "_model_name": "LayoutModel",
            "_view_count": null,
            "_view_module": "@jupyter-widgets/base",
            "_view_module_version": "1.2.0",
            "_view_name": "LayoutView",
            "align_content": null,
            "align_items": null,
            "align_self": null,
            "border": null,
            "bottom": null,
            "display": null,
            "flex": null,
            "flex_flow": null,
            "grid_area": null,
            "grid_auto_columns": null,
            "grid_auto_flow": null,
            "grid_auto_rows": null,
            "grid_column": null,
            "grid_gap": null,
            "grid_row": null,
            "grid_template_areas": null,
            "grid_template_columns": null,
            "grid_template_rows": null,
            "height": null,
            "justify_content": null,
            "justify_items": null,
            "left": null,
            "margin": null,
            "max_height": null,
            "max_width": null,
            "min_height": null,
            "min_width": null,
            "object_fit": null,
            "object_position": null,
            "order": null,
            "overflow": null,
            "overflow_x": null,
            "overflow_y": null,
            "padding": null,
            "right": null,
            "top": null,
            "visibility": null,
            "width": null
          }
        },
        "5c09ffa52d4f4bd9aa5c8f47e5d925c8": {
          "model_module": "@jupyter-widgets/controls",
          "model_name": "ProgressStyleModel",
          "model_module_version": "1.5.0",
          "state": {
            "_model_module": "@jupyter-widgets/controls",
            "_model_module_version": "1.5.0",
            "_model_name": "ProgressStyleModel",
            "_view_count": null,
            "_view_module": "@jupyter-widgets/base",
            "_view_module_version": "1.2.0",
            "_view_name": "StyleView",
            "bar_color": null,
            "description_width": ""
          }
        },
        "3ea5ab1d6fff41c7b91e315f3ef28490": {
          "model_module": "@jupyter-widgets/base",
          "model_name": "LayoutModel",
          "model_module_version": "1.2.0",
          "state": {
            "_model_module": "@jupyter-widgets/base",
            "_model_module_version": "1.2.0",
            "_model_name": "LayoutModel",
            "_view_count": null,
            "_view_module": "@jupyter-widgets/base",
            "_view_module_version": "1.2.0",
            "_view_name": "LayoutView",
            "align_content": null,
            "align_items": null,
            "align_self": null,
            "border": null,
            "bottom": null,
            "display": null,
            "flex": null,
            "flex_flow": null,
            "grid_area": null,
            "grid_auto_columns": null,
            "grid_auto_flow": null,
            "grid_auto_rows": null,
            "grid_column": null,
            "grid_gap": null,
            "grid_row": null,
            "grid_template_areas": null,
            "grid_template_columns": null,
            "grid_template_rows": null,
            "height": null,
            "justify_content": null,
            "justify_items": null,
            "left": null,
            "margin": null,
            "max_height": null,
            "max_width": null,
            "min_height": null,
            "min_width": null,
            "object_fit": null,
            "object_position": null,
            "order": null,
            "overflow": null,
            "overflow_x": null,
            "overflow_y": null,
            "padding": null,
            "right": null,
            "top": null,
            "visibility": null,
            "width": null
          }
        },
        "e26d182a030a4cbe92f000e19ae511dd": {
          "model_module": "@jupyter-widgets/controls",
          "model_name": "DescriptionStyleModel",
          "model_module_version": "1.5.0",
          "state": {
            "_model_module": "@jupyter-widgets/controls",
            "_model_module_version": "1.5.0",
            "_model_name": "DescriptionStyleModel",
            "_view_count": null,
            "_view_module": "@jupyter-widgets/base",
            "_view_module_version": "1.2.0",
            "_view_name": "StyleView",
            "description_width": ""
          }
        },
        "35b4c506a65b417099ec51dbadc608b9": {
          "model_module": "@jupyter-widgets/controls",
          "model_name": "HBoxModel",
          "model_module_version": "1.5.0",
          "state": {
            "_dom_classes": [],
            "_model_module": "@jupyter-widgets/controls",
            "_model_module_version": "1.5.0",
            "_model_name": "HBoxModel",
            "_view_count": null,
            "_view_module": "@jupyter-widgets/controls",
            "_view_module_version": "1.5.0",
            "_view_name": "HBoxView",
            "box_style": "",
            "children": [
              "IPY_MODEL_0ed76514c17a4690a6b6c552aeb831d9",
              "IPY_MODEL_28d04eca6434463fab798b68a05a51e9",
              "IPY_MODEL_602827a702a0441eaa36e8f71700e3b2"
            ],
            "layout": "IPY_MODEL_6ae34ab05bc645dbb6f5b086e4fe54c3"
          }
        },
        "0ed76514c17a4690a6b6c552aeb831d9": {
          "model_module": "@jupyter-widgets/controls",
          "model_name": "HTMLModel",
          "model_module_version": "1.5.0",
          "state": {
            "_dom_classes": [],
            "_model_module": "@jupyter-widgets/controls",
            "_model_module_version": "1.5.0",
            "_model_name": "HTMLModel",
            "_view_count": null,
            "_view_module": "@jupyter-widgets/controls",
            "_view_module_version": "1.5.0",
            "_view_name": "HTMLView",
            "description": "",
            "description_tooltip": null,
            "layout": "IPY_MODEL_3f09a75a6e5f46689cd54cf5df8f7e52",
            "placeholder": "​",
            "style": "IPY_MODEL_c63ab6a7aacc445dbf7614899a1bed22",
            "value": "Creating parquet from Arrow format: 100%"
          }
        },
        "28d04eca6434463fab798b68a05a51e9": {
          "model_module": "@jupyter-widgets/controls",
          "model_name": "FloatProgressModel",
          "model_module_version": "1.5.0",
          "state": {
            "_dom_classes": [],
            "_model_module": "@jupyter-widgets/controls",
            "_model_module_version": "1.5.0",
            "_model_name": "FloatProgressModel",
            "_view_count": null,
            "_view_module": "@jupyter-widgets/controls",
            "_view_module_version": "1.5.0",
            "_view_name": "ProgressView",
            "bar_style": "success",
            "description": "",
            "description_tooltip": null,
            "layout": "IPY_MODEL_c660b290657040a2adeae023e45913bd",
            "max": 1,
            "min": 0,
            "orientation": "horizontal",
            "style": "IPY_MODEL_0f128a58cb8a4038b73507628d9eebcc",
            "value": 1
          }
        },
        "602827a702a0441eaa36e8f71700e3b2": {
          "model_module": "@jupyter-widgets/controls",
          "model_name": "HTMLModel",
          "model_module_version": "1.5.0",
          "state": {
            "_dom_classes": [],
            "_model_module": "@jupyter-widgets/controls",
            "_model_module_version": "1.5.0",
            "_model_name": "HTMLModel",
            "_view_count": null,
            "_view_module": "@jupyter-widgets/controls",
            "_view_module_version": "1.5.0",
            "_view_name": "HTMLView",
            "description": "",
            "description_tooltip": null,
            "layout": "IPY_MODEL_460fa89ff9624ce3a77de71c9749c99a",
            "placeholder": "​",
            "style": "IPY_MODEL_544680d701de4c69a90fd04560ef75d8",
            "value": " 1/1 [00:00&lt;00:00, 40.00ba/s]"
          }
        },
        "6ae34ab05bc645dbb6f5b086e4fe54c3": {
          "model_module": "@jupyter-widgets/base",
          "model_name": "LayoutModel",
          "model_module_version": "1.2.0",
          "state": {
            "_model_module": "@jupyter-widgets/base",
            "_model_module_version": "1.2.0",
            "_model_name": "LayoutModel",
            "_view_count": null,
            "_view_module": "@jupyter-widgets/base",
            "_view_module_version": "1.2.0",
            "_view_name": "LayoutView",
            "align_content": null,
            "align_items": null,
            "align_self": null,
            "border": null,
            "bottom": null,
            "display": null,
            "flex": null,
            "flex_flow": null,
            "grid_area": null,
            "grid_auto_columns": null,
            "grid_auto_flow": null,
            "grid_auto_rows": null,
            "grid_column": null,
            "grid_gap": null,
            "grid_row": null,
            "grid_template_areas": null,
            "grid_template_columns": null,
            "grid_template_rows": null,
            "height": null,
            "justify_content": null,
            "justify_items": null,
            "left": null,
            "margin": null,
            "max_height": null,
            "max_width": null,
            "min_height": null,
            "min_width": null,
            "object_fit": null,
            "object_position": null,
            "order": null,
            "overflow": null,
            "overflow_x": null,
            "overflow_y": null,
            "padding": null,
            "right": null,
            "top": null,
            "visibility": null,
            "width": null
          }
        },
        "3f09a75a6e5f46689cd54cf5df8f7e52": {
          "model_module": "@jupyter-widgets/base",
          "model_name": "LayoutModel",
          "model_module_version": "1.2.0",
          "state": {
            "_model_module": "@jupyter-widgets/base",
            "_model_module_version": "1.2.0",
            "_model_name": "LayoutModel",
            "_view_count": null,
            "_view_module": "@jupyter-widgets/base",
            "_view_module_version": "1.2.0",
            "_view_name": "LayoutView",
            "align_content": null,
            "align_items": null,
            "align_self": null,
            "border": null,
            "bottom": null,
            "display": null,
            "flex": null,
            "flex_flow": null,
            "grid_area": null,
            "grid_auto_columns": null,
            "grid_auto_flow": null,
            "grid_auto_rows": null,
            "grid_column": null,
            "grid_gap": null,
            "grid_row": null,
            "grid_template_areas": null,
            "grid_template_columns": null,
            "grid_template_rows": null,
            "height": null,
            "justify_content": null,
            "justify_items": null,
            "left": null,
            "margin": null,
            "max_height": null,
            "max_width": null,
            "min_height": null,
            "min_width": null,
            "object_fit": null,
            "object_position": null,
            "order": null,
            "overflow": null,
            "overflow_x": null,
            "overflow_y": null,
            "padding": null,
            "right": null,
            "top": null,
            "visibility": null,
            "width": null
          }
        },
        "c63ab6a7aacc445dbf7614899a1bed22": {
          "model_module": "@jupyter-widgets/controls",
          "model_name": "DescriptionStyleModel",
          "model_module_version": "1.5.0",
          "state": {
            "_model_module": "@jupyter-widgets/controls",
            "_model_module_version": "1.5.0",
            "_model_name": "DescriptionStyleModel",
            "_view_count": null,
            "_view_module": "@jupyter-widgets/base",
            "_view_module_version": "1.2.0",
            "_view_name": "StyleView",
            "description_width": ""
          }
        },
        "c660b290657040a2adeae023e45913bd": {
          "model_module": "@jupyter-widgets/base",
          "model_name": "LayoutModel",
          "model_module_version": "1.2.0",
          "state": {
            "_model_module": "@jupyter-widgets/base",
            "_model_module_version": "1.2.0",
            "_model_name": "LayoutModel",
            "_view_count": null,
            "_view_module": "@jupyter-widgets/base",
            "_view_module_version": "1.2.0",
            "_view_name": "LayoutView",
            "align_content": null,
            "align_items": null,
            "align_self": null,
            "border": null,
            "bottom": null,
            "display": null,
            "flex": null,
            "flex_flow": null,
            "grid_area": null,
            "grid_auto_columns": null,
            "grid_auto_flow": null,
            "grid_auto_rows": null,
            "grid_column": null,
            "grid_gap": null,
            "grid_row": null,
            "grid_template_areas": null,
            "grid_template_columns": null,
            "grid_template_rows": null,
            "height": null,
            "justify_content": null,
            "justify_items": null,
            "left": null,
            "margin": null,
            "max_height": null,
            "max_width": null,
            "min_height": null,
            "min_width": null,
            "object_fit": null,
            "object_position": null,
            "order": null,
            "overflow": null,
            "overflow_x": null,
            "overflow_y": null,
            "padding": null,
            "right": null,
            "top": null,
            "visibility": null,
            "width": null
          }
        },
        "0f128a58cb8a4038b73507628d9eebcc": {
          "model_module": "@jupyter-widgets/controls",
          "model_name": "ProgressStyleModel",
          "model_module_version": "1.5.0",
          "state": {
            "_model_module": "@jupyter-widgets/controls",
            "_model_module_version": "1.5.0",
            "_model_name": "ProgressStyleModel",
            "_view_count": null,
            "_view_module": "@jupyter-widgets/base",
            "_view_module_version": "1.2.0",
            "_view_name": "StyleView",
            "bar_color": null,
            "description_width": ""
          }
        },
        "460fa89ff9624ce3a77de71c9749c99a": {
          "model_module": "@jupyter-widgets/base",
          "model_name": "LayoutModel",
          "model_module_version": "1.2.0",
          "state": {
            "_model_module": "@jupyter-widgets/base",
            "_model_module_version": "1.2.0",
            "_model_name": "LayoutModel",
            "_view_count": null,
            "_view_module": "@jupyter-widgets/base",
            "_view_module_version": "1.2.0",
            "_view_name": "LayoutView",
            "align_content": null,
            "align_items": null,
            "align_self": null,
            "border": null,
            "bottom": null,
            "display": null,
            "flex": null,
            "flex_flow": null,
            "grid_area": null,
            "grid_auto_columns": null,
            "grid_auto_flow": null,
            "grid_auto_rows": null,
            "grid_column": null,
            "grid_gap": null,
            "grid_row": null,
            "grid_template_areas": null,
            "grid_template_columns": null,
            "grid_template_rows": null,
            "height": null,
            "justify_content": null,
            "justify_items": null,
            "left": null,
            "margin": null,
            "max_height": null,
            "max_width": null,
            "min_height": null,
            "min_width": null,
            "object_fit": null,
            "object_position": null,
            "order": null,
            "overflow": null,
            "overflow_x": null,
            "overflow_y": null,
            "padding": null,
            "right": null,
            "top": null,
            "visibility": null,
            "width": null
          }
        },
        "544680d701de4c69a90fd04560ef75d8": {
          "model_module": "@jupyter-widgets/controls",
          "model_name": "DescriptionStyleModel",
          "model_module_version": "1.5.0",
          "state": {
            "_model_module": "@jupyter-widgets/controls",
            "_model_module_version": "1.5.0",
            "_model_name": "DescriptionStyleModel",
            "_view_count": null,
            "_view_module": "@jupyter-widgets/base",
            "_view_module_version": "1.2.0",
            "_view_name": "StyleView",
            "description_width": ""
          }
        },
        "e8358e1c8fbc4fea872f8497ecf9edd0": {
          "model_module": "@jupyter-widgets/controls",
          "model_name": "HBoxModel",
          "model_module_version": "1.5.0",
          "state": {
            "_dom_classes": [],
            "_model_module": "@jupyter-widgets/controls",
            "_model_module_version": "1.5.0",
            "_model_name": "HBoxModel",
            "_view_count": null,
            "_view_module": "@jupyter-widgets/controls",
            "_view_module_version": "1.5.0",
            "_view_name": "HBoxView",
            "box_style": "",
            "children": [
              "IPY_MODEL_67f1a8e281744f4194844a53ff0d23d4",
              "IPY_MODEL_50e415b2812d481b9edba6f0afef4f31",
              "IPY_MODEL_6ef8fdb5632b416286a0ed7c7d163a3f"
            ],
            "layout": "IPY_MODEL_e24588e8374e462e88d87ea200a3507a"
          }
        },
        "67f1a8e281744f4194844a53ff0d23d4": {
          "model_module": "@jupyter-widgets/controls",
          "model_name": "HTMLModel",
          "model_module_version": "1.5.0",
          "state": {
            "_dom_classes": [],
            "_model_module": "@jupyter-widgets/controls",
            "_model_module_version": "1.5.0",
            "_model_name": "HTMLModel",
            "_view_count": null,
            "_view_module": "@jupyter-widgets/controls",
            "_view_module_version": "1.5.0",
            "_view_name": "HTMLView",
            "description": "",
            "description_tooltip": null,
            "layout": "IPY_MODEL_117aad1b9b6d449ab3cce7427e311ae4",
            "placeholder": "​",
            "style": "IPY_MODEL_8d04b7e6cb3248ed987a1fa64ca1a371",
            "value": "Uploading the dataset shards: 100%"
          }
        },
        "50e415b2812d481b9edba6f0afef4f31": {
          "model_module": "@jupyter-widgets/controls",
          "model_name": "FloatProgressModel",
          "model_module_version": "1.5.0",
          "state": {
            "_dom_classes": [],
            "_model_module": "@jupyter-widgets/controls",
            "_model_module_version": "1.5.0",
            "_model_name": "FloatProgressModel",
            "_view_count": null,
            "_view_module": "@jupyter-widgets/controls",
            "_view_module_version": "1.5.0",
            "_view_name": "ProgressView",
            "bar_style": "success",
            "description": "",
            "description_tooltip": null,
            "layout": "IPY_MODEL_a842bac2d9d045509ac852892d855ce2",
            "max": 1,
            "min": 0,
            "orientation": "horizontal",
            "style": "IPY_MODEL_906e573609d840a38b6c5f7e51b3feaa",
            "value": 1
          }
        },
        "6ef8fdb5632b416286a0ed7c7d163a3f": {
          "model_module": "@jupyter-widgets/controls",
          "model_name": "HTMLModel",
          "model_module_version": "1.5.0",
          "state": {
            "_dom_classes": [],
            "_model_module": "@jupyter-widgets/controls",
            "_model_module_version": "1.5.0",
            "_model_name": "HTMLModel",
            "_view_count": null,
            "_view_module": "@jupyter-widgets/controls",
            "_view_module_version": "1.5.0",
            "_view_name": "HTMLView",
            "description": "",
            "description_tooltip": null,
            "layout": "IPY_MODEL_41e73d10d58346c091dbb266f110ac9c",
            "placeholder": "​",
            "style": "IPY_MODEL_b2ec5457133d4150b5a059ebf5ab196c",
            "value": " 1/1 [00:00&lt;00:00,  2.53it/s]"
          }
        },
        "e24588e8374e462e88d87ea200a3507a": {
          "model_module": "@jupyter-widgets/base",
          "model_name": "LayoutModel",
          "model_module_version": "1.2.0",
          "state": {
            "_model_module": "@jupyter-widgets/base",
            "_model_module_version": "1.2.0",
            "_model_name": "LayoutModel",
            "_view_count": null,
            "_view_module": "@jupyter-widgets/base",
            "_view_module_version": "1.2.0",
            "_view_name": "LayoutView",
            "align_content": null,
            "align_items": null,
            "align_self": null,
            "border": null,
            "bottom": null,
            "display": null,
            "flex": null,
            "flex_flow": null,
            "grid_area": null,
            "grid_auto_columns": null,
            "grid_auto_flow": null,
            "grid_auto_rows": null,
            "grid_column": null,
            "grid_gap": null,
            "grid_row": null,
            "grid_template_areas": null,
            "grid_template_columns": null,
            "grid_template_rows": null,
            "height": null,
            "justify_content": null,
            "justify_items": null,
            "left": null,
            "margin": null,
            "max_height": null,
            "max_width": null,
            "min_height": null,
            "min_width": null,
            "object_fit": null,
            "object_position": null,
            "order": null,
            "overflow": null,
            "overflow_x": null,
            "overflow_y": null,
            "padding": null,
            "right": null,
            "top": null,
            "visibility": null,
            "width": null
          }
        },
        "117aad1b9b6d449ab3cce7427e311ae4": {
          "model_module": "@jupyter-widgets/base",
          "model_name": "LayoutModel",
          "model_module_version": "1.2.0",
          "state": {
            "_model_module": "@jupyter-widgets/base",
            "_model_module_version": "1.2.0",
            "_model_name": "LayoutModel",
            "_view_count": null,
            "_view_module": "@jupyter-widgets/base",
            "_view_module_version": "1.2.0",
            "_view_name": "LayoutView",
            "align_content": null,
            "align_items": null,
            "align_self": null,
            "border": null,
            "bottom": null,
            "display": null,
            "flex": null,
            "flex_flow": null,
            "grid_area": null,
            "grid_auto_columns": null,
            "grid_auto_flow": null,
            "grid_auto_rows": null,
            "grid_column": null,
            "grid_gap": null,
            "grid_row": null,
            "grid_template_areas": null,
            "grid_template_columns": null,
            "grid_template_rows": null,
            "height": null,
            "justify_content": null,
            "justify_items": null,
            "left": null,
            "margin": null,
            "max_height": null,
            "max_width": null,
            "min_height": null,
            "min_width": null,
            "object_fit": null,
            "object_position": null,
            "order": null,
            "overflow": null,
            "overflow_x": null,
            "overflow_y": null,
            "padding": null,
            "right": null,
            "top": null,
            "visibility": null,
            "width": null
          }
        },
        "8d04b7e6cb3248ed987a1fa64ca1a371": {
          "model_module": "@jupyter-widgets/controls",
          "model_name": "DescriptionStyleModel",
          "model_module_version": "1.5.0",
          "state": {
            "_model_module": "@jupyter-widgets/controls",
            "_model_module_version": "1.5.0",
            "_model_name": "DescriptionStyleModel",
            "_view_count": null,
            "_view_module": "@jupyter-widgets/base",
            "_view_module_version": "1.2.0",
            "_view_name": "StyleView",
            "description_width": ""
          }
        },
        "a842bac2d9d045509ac852892d855ce2": {
          "model_module": "@jupyter-widgets/base",
          "model_name": "LayoutModel",
          "model_module_version": "1.2.0",
          "state": {
            "_model_module": "@jupyter-widgets/base",
            "_model_module_version": "1.2.0",
            "_model_name": "LayoutModel",
            "_view_count": null,
            "_view_module": "@jupyter-widgets/base",
            "_view_module_version": "1.2.0",
            "_view_name": "LayoutView",
            "align_content": null,
            "align_items": null,
            "align_self": null,
            "border": null,
            "bottom": null,
            "display": null,
            "flex": null,
            "flex_flow": null,
            "grid_area": null,
            "grid_auto_columns": null,
            "grid_auto_flow": null,
            "grid_auto_rows": null,
            "grid_column": null,
            "grid_gap": null,
            "grid_row": null,
            "grid_template_areas": null,
            "grid_template_columns": null,
            "grid_template_rows": null,
            "height": null,
            "justify_content": null,
            "justify_items": null,
            "left": null,
            "margin": null,
            "max_height": null,
            "max_width": null,
            "min_height": null,
            "min_width": null,
            "object_fit": null,
            "object_position": null,
            "order": null,
            "overflow": null,
            "overflow_x": null,
            "overflow_y": null,
            "padding": null,
            "right": null,
            "top": null,
            "visibility": null,
            "width": null
          }
        },
        "906e573609d840a38b6c5f7e51b3feaa": {
          "model_module": "@jupyter-widgets/controls",
          "model_name": "ProgressStyleModel",
          "model_module_version": "1.5.0",
          "state": {
            "_model_module": "@jupyter-widgets/controls",
            "_model_module_version": "1.5.0",
            "_model_name": "ProgressStyleModel",
            "_view_count": null,
            "_view_module": "@jupyter-widgets/base",
            "_view_module_version": "1.2.0",
            "_view_name": "StyleView",
            "bar_color": null,
            "description_width": ""
          }
        },
        "41e73d10d58346c091dbb266f110ac9c": {
          "model_module": "@jupyter-widgets/base",
          "model_name": "LayoutModel",
          "model_module_version": "1.2.0",
          "state": {
            "_model_module": "@jupyter-widgets/base",
            "_model_module_version": "1.2.0",
            "_model_name": "LayoutModel",
            "_view_count": null,
            "_view_module": "@jupyter-widgets/base",
            "_view_module_version": "1.2.0",
            "_view_name": "LayoutView",
            "align_content": null,
            "align_items": null,
            "align_self": null,
            "border": null,
            "bottom": null,
            "display": null,
            "flex": null,
            "flex_flow": null,
            "grid_area": null,
            "grid_auto_columns": null,
            "grid_auto_flow": null,
            "grid_auto_rows": null,
            "grid_column": null,
            "grid_gap": null,
            "grid_row": null,
            "grid_template_areas": null,
            "grid_template_columns": null,
            "grid_template_rows": null,
            "height": null,
            "justify_content": null,
            "justify_items": null,
            "left": null,
            "margin": null,
            "max_height": null,
            "max_width": null,
            "min_height": null,
            "min_width": null,
            "object_fit": null,
            "object_position": null,
            "order": null,
            "overflow": null,
            "overflow_x": null,
            "overflow_y": null,
            "padding": null,
            "right": null,
            "top": null,
            "visibility": null,
            "width": null
          }
        },
        "b2ec5457133d4150b5a059ebf5ab196c": {
          "model_module": "@jupyter-widgets/controls",
          "model_name": "DescriptionStyleModel",
          "model_module_version": "1.5.0",
          "state": {
            "_model_module": "@jupyter-widgets/controls",
            "_model_module_version": "1.5.0",
            "_model_name": "DescriptionStyleModel",
            "_view_count": null,
            "_view_module": "@jupyter-widgets/base",
            "_view_module_version": "1.2.0",
            "_view_name": "StyleView",
            "description_width": ""
          }
        },
        "ee23fdff9a1042c98c0698a835f9b4d1": {
          "model_module": "@jupyter-widgets/controls",
          "model_name": "HBoxModel",
          "model_module_version": "1.5.0",
          "state": {
            "_dom_classes": [],
            "_model_module": "@jupyter-widgets/controls",
            "_model_module_version": "1.5.0",
            "_model_name": "HBoxModel",
            "_view_count": null,
            "_view_module": "@jupyter-widgets/controls",
            "_view_module_version": "1.5.0",
            "_view_name": "HBoxView",
            "box_style": "",
            "children": [
              "IPY_MODEL_1c10b59604f84dd8a2dcd25809b1d1a8",
              "IPY_MODEL_db70a85771794f0989a16129ff853eec",
              "IPY_MODEL_51dad3bc6f5d4c8cb55250286a8a874c"
            ],
            "layout": "IPY_MODEL_18497fd3a44d40c594cff0f6b32a5b01"
          }
        },
        "1c10b59604f84dd8a2dcd25809b1d1a8": {
          "model_module": "@jupyter-widgets/controls",
          "model_name": "HTMLModel",
          "model_module_version": "1.5.0",
          "state": {
            "_dom_classes": [],
            "_model_module": "@jupyter-widgets/controls",
            "_model_module_version": "1.5.0",
            "_model_name": "HTMLModel",
            "_view_count": null,
            "_view_module": "@jupyter-widgets/controls",
            "_view_module_version": "1.5.0",
            "_view_name": "HTMLView",
            "description": "",
            "description_tooltip": null,
            "layout": "IPY_MODEL_6ee377d4c29d42f99cb79e17c3556e8d",
            "placeholder": "​",
            "style": "IPY_MODEL_a2db7b7218884a33a78cf3700f12c4ad",
            "value": "Creating parquet from Arrow format: 100%"
          }
        },
        "db70a85771794f0989a16129ff853eec": {
          "model_module": "@jupyter-widgets/controls",
          "model_name": "FloatProgressModel",
          "model_module_version": "1.5.0",
          "state": {
            "_dom_classes": [],
            "_model_module": "@jupyter-widgets/controls",
            "_model_module_version": "1.5.0",
            "_model_name": "FloatProgressModel",
            "_view_count": null,
            "_view_module": "@jupyter-widgets/controls",
            "_view_module_version": "1.5.0",
            "_view_name": "ProgressView",
            "bar_style": "success",
            "description": "",
            "description_tooltip": null,
            "layout": "IPY_MODEL_dd724dc9ad2f4227ba3cfa28760d09ee",
            "max": 1,
            "min": 0,
            "orientation": "horizontal",
            "style": "IPY_MODEL_7ea26c26c39940d6bd9eac76c3330f84",
            "value": 1
          }
        },
        "51dad3bc6f5d4c8cb55250286a8a874c": {
          "model_module": "@jupyter-widgets/controls",
          "model_name": "HTMLModel",
          "model_module_version": "1.5.0",
          "state": {
            "_dom_classes": [],
            "_model_module": "@jupyter-widgets/controls",
            "_model_module_version": "1.5.0",
            "_model_name": "HTMLModel",
            "_view_count": null,
            "_view_module": "@jupyter-widgets/controls",
            "_view_module_version": "1.5.0",
            "_view_name": "HTMLView",
            "description": "",
            "description_tooltip": null,
            "layout": "IPY_MODEL_b99a5ab3e5b943b7a8190bcb7b3537ed",
            "placeholder": "​",
            "style": "IPY_MODEL_9de62bce92f84f0589fa7ddd8ed0c514",
            "value": " 1/1 [00:00&lt;00:00, 25.46ba/s]"
          }
        },
        "18497fd3a44d40c594cff0f6b32a5b01": {
          "model_module": "@jupyter-widgets/base",
          "model_name": "LayoutModel",
          "model_module_version": "1.2.0",
          "state": {
            "_model_module": "@jupyter-widgets/base",
            "_model_module_version": "1.2.0",
            "_model_name": "LayoutModel",
            "_view_count": null,
            "_view_module": "@jupyter-widgets/base",
            "_view_module_version": "1.2.0",
            "_view_name": "LayoutView",
            "align_content": null,
            "align_items": null,
            "align_self": null,
            "border": null,
            "bottom": null,
            "display": null,
            "flex": null,
            "flex_flow": null,
            "grid_area": null,
            "grid_auto_columns": null,
            "grid_auto_flow": null,
            "grid_auto_rows": null,
            "grid_column": null,
            "grid_gap": null,
            "grid_row": null,
            "grid_template_areas": null,
            "grid_template_columns": null,
            "grid_template_rows": null,
            "height": null,
            "justify_content": null,
            "justify_items": null,
            "left": null,
            "margin": null,
            "max_height": null,
            "max_width": null,
            "min_height": null,
            "min_width": null,
            "object_fit": null,
            "object_position": null,
            "order": null,
            "overflow": null,
            "overflow_x": null,
            "overflow_y": null,
            "padding": null,
            "right": null,
            "top": null,
            "visibility": null,
            "width": null
          }
        },
        "6ee377d4c29d42f99cb79e17c3556e8d": {
          "model_module": "@jupyter-widgets/base",
          "model_name": "LayoutModel",
          "model_module_version": "1.2.0",
          "state": {
            "_model_module": "@jupyter-widgets/base",
            "_model_module_version": "1.2.0",
            "_model_name": "LayoutModel",
            "_view_count": null,
            "_view_module": "@jupyter-widgets/base",
            "_view_module_version": "1.2.0",
            "_view_name": "LayoutView",
            "align_content": null,
            "align_items": null,
            "align_self": null,
            "border": null,
            "bottom": null,
            "display": null,
            "flex": null,
            "flex_flow": null,
            "grid_area": null,
            "grid_auto_columns": null,
            "grid_auto_flow": null,
            "grid_auto_rows": null,
            "grid_column": null,
            "grid_gap": null,
            "grid_row": null,
            "grid_template_areas": null,
            "grid_template_columns": null,
            "grid_template_rows": null,
            "height": null,
            "justify_content": null,
            "justify_items": null,
            "left": null,
            "margin": null,
            "max_height": null,
            "max_width": null,
            "min_height": null,
            "min_width": null,
            "object_fit": null,
            "object_position": null,
            "order": null,
            "overflow": null,
            "overflow_x": null,
            "overflow_y": null,
            "padding": null,
            "right": null,
            "top": null,
            "visibility": null,
            "width": null
          }
        },
        "a2db7b7218884a33a78cf3700f12c4ad": {
          "model_module": "@jupyter-widgets/controls",
          "model_name": "DescriptionStyleModel",
          "model_module_version": "1.5.0",
          "state": {
            "_model_module": "@jupyter-widgets/controls",
            "_model_module_version": "1.5.0",
            "_model_name": "DescriptionStyleModel",
            "_view_count": null,
            "_view_module": "@jupyter-widgets/base",
            "_view_module_version": "1.2.0",
            "_view_name": "StyleView",
            "description_width": ""
          }
        },
        "dd724dc9ad2f4227ba3cfa28760d09ee": {
          "model_module": "@jupyter-widgets/base",
          "model_name": "LayoutModel",
          "model_module_version": "1.2.0",
          "state": {
            "_model_module": "@jupyter-widgets/base",
            "_model_module_version": "1.2.0",
            "_model_name": "LayoutModel",
            "_view_count": null,
            "_view_module": "@jupyter-widgets/base",
            "_view_module_version": "1.2.0",
            "_view_name": "LayoutView",
            "align_content": null,
            "align_items": null,
            "align_self": null,
            "border": null,
            "bottom": null,
            "display": null,
            "flex": null,
            "flex_flow": null,
            "grid_area": null,
            "grid_auto_columns": null,
            "grid_auto_flow": null,
            "grid_auto_rows": null,
            "grid_column": null,
            "grid_gap": null,
            "grid_row": null,
            "grid_template_areas": null,
            "grid_template_columns": null,
            "grid_template_rows": null,
            "height": null,
            "justify_content": null,
            "justify_items": null,
            "left": null,
            "margin": null,
            "max_height": null,
            "max_width": null,
            "min_height": null,
            "min_width": null,
            "object_fit": null,
            "object_position": null,
            "order": null,
            "overflow": null,
            "overflow_x": null,
            "overflow_y": null,
            "padding": null,
            "right": null,
            "top": null,
            "visibility": null,
            "width": null
          }
        },
        "7ea26c26c39940d6bd9eac76c3330f84": {
          "model_module": "@jupyter-widgets/controls",
          "model_name": "ProgressStyleModel",
          "model_module_version": "1.5.0",
          "state": {
            "_model_module": "@jupyter-widgets/controls",
            "_model_module_version": "1.5.0",
            "_model_name": "ProgressStyleModel",
            "_view_count": null,
            "_view_module": "@jupyter-widgets/base",
            "_view_module_version": "1.2.0",
            "_view_name": "StyleView",
            "bar_color": null,
            "description_width": ""
          }
        },
        "b99a5ab3e5b943b7a8190bcb7b3537ed": {
          "model_module": "@jupyter-widgets/base",
          "model_name": "LayoutModel",
          "model_module_version": "1.2.0",
          "state": {
            "_model_module": "@jupyter-widgets/base",
            "_model_module_version": "1.2.0",
            "_model_name": "LayoutModel",
            "_view_count": null,
            "_view_module": "@jupyter-widgets/base",
            "_view_module_version": "1.2.0",
            "_view_name": "LayoutView",
            "align_content": null,
            "align_items": null,
            "align_self": null,
            "border": null,
            "bottom": null,
            "display": null,
            "flex": null,
            "flex_flow": null,
            "grid_area": null,
            "grid_auto_columns": null,
            "grid_auto_flow": null,
            "grid_auto_rows": null,
            "grid_column": null,
            "grid_gap": null,
            "grid_row": null,
            "grid_template_areas": null,
            "grid_template_columns": null,
            "grid_template_rows": null,
            "height": null,
            "justify_content": null,
            "justify_items": null,
            "left": null,
            "margin": null,
            "max_height": null,
            "max_width": null,
            "min_height": null,
            "min_width": null,
            "object_fit": null,
            "object_position": null,
            "order": null,
            "overflow": null,
            "overflow_x": null,
            "overflow_y": null,
            "padding": null,
            "right": null,
            "top": null,
            "visibility": null,
            "width": null
          }
        },
        "9de62bce92f84f0589fa7ddd8ed0c514": {
          "model_module": "@jupyter-widgets/controls",
          "model_name": "DescriptionStyleModel",
          "model_module_version": "1.5.0",
          "state": {
            "_model_module": "@jupyter-widgets/controls",
            "_model_module_version": "1.5.0",
            "_model_name": "DescriptionStyleModel",
            "_view_count": null,
            "_view_module": "@jupyter-widgets/base",
            "_view_module_version": "1.2.0",
            "_view_name": "StyleView",
            "description_width": ""
          }
        },
        "1b7dc3c87a244e4bb6bcbc9f8f7dbed2": {
          "model_module": "@jupyter-widgets/controls",
          "model_name": "HBoxModel",
          "model_module_version": "1.5.0",
          "state": {
            "_dom_classes": [],
            "_model_module": "@jupyter-widgets/controls",
            "_model_module_version": "1.5.0",
            "_model_name": "HBoxModel",
            "_view_count": null,
            "_view_module": "@jupyter-widgets/controls",
            "_view_module_version": "1.5.0",
            "_view_name": "HBoxView",
            "box_style": "",
            "children": [
              "IPY_MODEL_b2fce0663c8346c3b5201710236c91a8",
              "IPY_MODEL_4d80c18d977b494d860e57d4f7e429ab",
              "IPY_MODEL_56db588378a84f33a6e461c429acb889"
            ],
            "layout": "IPY_MODEL_b530ee90f2fd444db7eef2f1e6bcc9ed"
          }
        },
        "b2fce0663c8346c3b5201710236c91a8": {
          "model_module": "@jupyter-widgets/controls",
          "model_name": "HTMLModel",
          "model_module_version": "1.5.0",
          "state": {
            "_dom_classes": [],
            "_model_module": "@jupyter-widgets/controls",
            "_model_module_version": "1.5.0",
            "_model_name": "HTMLModel",
            "_view_count": null,
            "_view_module": "@jupyter-widgets/controls",
            "_view_module_version": "1.5.0",
            "_view_name": "HTMLView",
            "description": "",
            "description_tooltip": null,
            "layout": "IPY_MODEL_c26e86f4222c44b9a873aab074ff5dc7",
            "placeholder": "​",
            "style": "IPY_MODEL_edb4acd958874184b5ec9848e402e822",
            "value": "Computing widget examples:   0%"
          }
        },
        "4d80c18d977b494d860e57d4f7e429ab": {
          "model_module": "@jupyter-widgets/controls",
          "model_name": "FloatProgressModel",
          "model_module_version": "1.5.0",
          "state": {
            "_dom_classes": [],
            "_model_module": "@jupyter-widgets/controls",
            "_model_module_version": "1.5.0",
            "_model_name": "FloatProgressModel",
            "_view_count": null,
            "_view_module": "@jupyter-widgets/controls",
            "_view_module_version": "1.5.0",
            "_view_name": "ProgressView",
            "bar_style": "",
            "description": "",
            "description_tooltip": null,
            "layout": "IPY_MODEL_67379c354b8643e184ca6f815046b3d3",
            "max": 1,
            "min": 0,
            "orientation": "horizontal",
            "style": "IPY_MODEL_f163c005575d466295f795703fdbfa46",
            "value": 1
          }
        },
        "56db588378a84f33a6e461c429acb889": {
          "model_module": "@jupyter-widgets/controls",
          "model_name": "HTMLModel",
          "model_module_version": "1.5.0",
          "state": {
            "_dom_classes": [],
            "_model_module": "@jupyter-widgets/controls",
            "_model_module_version": "1.5.0",
            "_model_name": "HTMLModel",
            "_view_count": null,
            "_view_module": "@jupyter-widgets/controls",
            "_view_module_version": "1.5.0",
            "_view_name": "HTMLView",
            "description": "",
            "description_tooltip": null,
            "layout": "IPY_MODEL_572b13f4972043f08e9176055fa218ae",
            "placeholder": "​",
            "style": "IPY_MODEL_0afe5a681dc34292b4296e2a585e1415",
            "value": " 0/1 [00:00&lt;?, ?example/s]"
          }
        },
        "b530ee90f2fd444db7eef2f1e6bcc9ed": {
          "model_module": "@jupyter-widgets/base",
          "model_name": "LayoutModel",
          "model_module_version": "1.2.0",
          "state": {
            "_model_module": "@jupyter-widgets/base",
            "_model_module_version": "1.2.0",
            "_model_name": "LayoutModel",
            "_view_count": null,
            "_view_module": "@jupyter-widgets/base",
            "_view_module_version": "1.2.0",
            "_view_name": "LayoutView",
            "align_content": null,
            "align_items": null,
            "align_self": null,
            "border": null,
            "bottom": null,
            "display": null,
            "flex": null,
            "flex_flow": null,
            "grid_area": null,
            "grid_auto_columns": null,
            "grid_auto_flow": null,
            "grid_auto_rows": null,
            "grid_column": null,
            "grid_gap": null,
            "grid_row": null,
            "grid_template_areas": null,
            "grid_template_columns": null,
            "grid_template_rows": null,
            "height": null,
            "justify_content": null,
            "justify_items": null,
            "left": null,
            "margin": null,
            "max_height": null,
            "max_width": null,
            "min_height": null,
            "min_width": null,
            "object_fit": null,
            "object_position": null,
            "order": null,
            "overflow": null,
            "overflow_x": null,
            "overflow_y": null,
            "padding": null,
            "right": null,
            "top": null,
            "visibility": "hidden",
            "width": null
          }
        },
        "c26e86f4222c44b9a873aab074ff5dc7": {
          "model_module": "@jupyter-widgets/base",
          "model_name": "LayoutModel",
          "model_module_version": "1.2.0",
          "state": {
            "_model_module": "@jupyter-widgets/base",
            "_model_module_version": "1.2.0",
            "_model_name": "LayoutModel",
            "_view_count": null,
            "_view_module": "@jupyter-widgets/base",
            "_view_module_version": "1.2.0",
            "_view_name": "LayoutView",
            "align_content": null,
            "align_items": null,
            "align_self": null,
            "border": null,
            "bottom": null,
            "display": null,
            "flex": null,
            "flex_flow": null,
            "grid_area": null,
            "grid_auto_columns": null,
            "grid_auto_flow": null,
            "grid_auto_rows": null,
            "grid_column": null,
            "grid_gap": null,
            "grid_row": null,
            "grid_template_areas": null,
            "grid_template_columns": null,
            "grid_template_rows": null,
            "height": null,
            "justify_content": null,
            "justify_items": null,
            "left": null,
            "margin": null,
            "max_height": null,
            "max_width": null,
            "min_height": null,
            "min_width": null,
            "object_fit": null,
            "object_position": null,
            "order": null,
            "overflow": null,
            "overflow_x": null,
            "overflow_y": null,
            "padding": null,
            "right": null,
            "top": null,
            "visibility": null,
            "width": null
          }
        },
        "edb4acd958874184b5ec9848e402e822": {
          "model_module": "@jupyter-widgets/controls",
          "model_name": "DescriptionStyleModel",
          "model_module_version": "1.5.0",
          "state": {
            "_model_module": "@jupyter-widgets/controls",
            "_model_module_version": "1.5.0",
            "_model_name": "DescriptionStyleModel",
            "_view_count": null,
            "_view_module": "@jupyter-widgets/base",
            "_view_module_version": "1.2.0",
            "_view_name": "StyleView",
            "description_width": ""
          }
        },
        "67379c354b8643e184ca6f815046b3d3": {
          "model_module": "@jupyter-widgets/base",
          "model_name": "LayoutModel",
          "model_module_version": "1.2.0",
          "state": {
            "_model_module": "@jupyter-widgets/base",
            "_model_module_version": "1.2.0",
            "_model_name": "LayoutModel",
            "_view_count": null,
            "_view_module": "@jupyter-widgets/base",
            "_view_module_version": "1.2.0",
            "_view_name": "LayoutView",
            "align_content": null,
            "align_items": null,
            "align_self": null,
            "border": null,
            "bottom": null,
            "display": null,
            "flex": null,
            "flex_flow": null,
            "grid_area": null,
            "grid_auto_columns": null,
            "grid_auto_flow": null,
            "grid_auto_rows": null,
            "grid_column": null,
            "grid_gap": null,
            "grid_row": null,
            "grid_template_areas": null,
            "grid_template_columns": null,
            "grid_template_rows": null,
            "height": null,
            "justify_content": null,
            "justify_items": null,
            "left": null,
            "margin": null,
            "max_height": null,
            "max_width": null,
            "min_height": null,
            "min_width": null,
            "object_fit": null,
            "object_position": null,
            "order": null,
            "overflow": null,
            "overflow_x": null,
            "overflow_y": null,
            "padding": null,
            "right": null,
            "top": null,
            "visibility": null,
            "width": null
          }
        },
        "f163c005575d466295f795703fdbfa46": {
          "model_module": "@jupyter-widgets/controls",
          "model_name": "ProgressStyleModel",
          "model_module_version": "1.5.0",
          "state": {
            "_model_module": "@jupyter-widgets/controls",
            "_model_module_version": "1.5.0",
            "_model_name": "ProgressStyleModel",
            "_view_count": null,
            "_view_module": "@jupyter-widgets/base",
            "_view_module_version": "1.2.0",
            "_view_name": "StyleView",
            "bar_color": null,
            "description_width": ""
          }
        },
        "572b13f4972043f08e9176055fa218ae": {
          "model_module": "@jupyter-widgets/base",
          "model_name": "LayoutModel",
          "model_module_version": "1.2.0",
          "state": {
            "_model_module": "@jupyter-widgets/base",
            "_model_module_version": "1.2.0",
            "_model_name": "LayoutModel",
            "_view_count": null,
            "_view_module": "@jupyter-widgets/base",
            "_view_module_version": "1.2.0",
            "_view_name": "LayoutView",
            "align_content": null,
            "align_items": null,
            "align_self": null,
            "border": null,
            "bottom": null,
            "display": null,
            "flex": null,
            "flex_flow": null,
            "grid_area": null,
            "grid_auto_columns": null,
            "grid_auto_flow": null,
            "grid_auto_rows": null,
            "grid_column": null,
            "grid_gap": null,
            "grid_row": null,
            "grid_template_areas": null,
            "grid_template_columns": null,
            "grid_template_rows": null,
            "height": null,
            "justify_content": null,
            "justify_items": null,
            "left": null,
            "margin": null,
            "max_height": null,
            "max_width": null,
            "min_height": null,
            "min_width": null,
            "object_fit": null,
            "object_position": null,
            "order": null,
            "overflow": null,
            "overflow_x": null,
            "overflow_y": null,
            "padding": null,
            "right": null,
            "top": null,
            "visibility": null,
            "width": null
          }
        },
        "0afe5a681dc34292b4296e2a585e1415": {
          "model_module": "@jupyter-widgets/controls",
          "model_name": "DescriptionStyleModel",
          "model_module_version": "1.5.0",
          "state": {
            "_model_module": "@jupyter-widgets/controls",
            "_model_module_version": "1.5.0",
            "_model_name": "DescriptionStyleModel",
            "_view_count": null,
            "_view_module": "@jupyter-widgets/base",
            "_view_module_version": "1.2.0",
            "_view_name": "StyleView",
            "description_width": ""
          }
        },
        "e9b7d728e0ae4c90bdb203f0bb0c4929": {
          "model_module": "@jupyter-widgets/controls",
          "model_name": "HBoxModel",
          "model_module_version": "1.5.0",
          "state": {
            "_dom_classes": [],
            "_model_module": "@jupyter-widgets/controls",
            "_model_module_version": "1.5.0",
            "_model_name": "HBoxModel",
            "_view_count": null,
            "_view_module": "@jupyter-widgets/controls",
            "_view_module_version": "1.5.0",
            "_view_name": "HBoxView",
            "box_style": "",
            "children": [
              "IPY_MODEL_a9d33a87c5b5429d8ab705dcb165260f",
              "IPY_MODEL_55a35f86e60342008f1e0d708134cad5",
              "IPY_MODEL_eac9629ecd9a4576bf958596a2431d82"
            ],
            "layout": "IPY_MODEL_1353f5336d4e4d8685323c380d9dff0b"
          }
        },
        "a9d33a87c5b5429d8ab705dcb165260f": {
          "model_module": "@jupyter-widgets/controls",
          "model_name": "HTMLModel",
          "model_module_version": "1.5.0",
          "state": {
            "_dom_classes": [],
            "_model_module": "@jupyter-widgets/controls",
            "_model_module_version": "1.5.0",
            "_model_name": "HTMLModel",
            "_view_count": null,
            "_view_module": "@jupyter-widgets/controls",
            "_view_module_version": "1.5.0",
            "_view_name": "HTMLView",
            "description": "",
            "description_tooltip": null,
            "layout": "IPY_MODEL_27f866f2ec0c497d8a252f8cf57dc95d",
            "placeholder": "​",
            "style": "IPY_MODEL_fa3221d2582043dcb7e7a2a614d4704e",
            "value": "model.safetensors: 100%"
          }
        },
        "55a35f86e60342008f1e0d708134cad5": {
          "model_module": "@jupyter-widgets/controls",
          "model_name": "FloatProgressModel",
          "model_module_version": "1.5.0",
          "state": {
            "_dom_classes": [],
            "_model_module": "@jupyter-widgets/controls",
            "_model_module_version": "1.5.0",
            "_model_name": "FloatProgressModel",
            "_view_count": null,
            "_view_module": "@jupyter-widgets/controls",
            "_view_module_version": "1.5.0",
            "_view_name": "ProgressView",
            "bar_style": "success",
            "description": "",
            "description_tooltip": null,
            "layout": "IPY_MODEL_a4a3585d5fcf4093bd6c1d6e60fb405f",
            "max": 1221487872,
            "min": 0,
            "orientation": "horizontal",
            "style": "IPY_MODEL_19d73de7dc4a47d283d0f8d02973527f",
            "value": 1221487872
          }
        },
        "eac9629ecd9a4576bf958596a2431d82": {
          "model_module": "@jupyter-widgets/controls",
          "model_name": "HTMLModel",
          "model_module_version": "1.5.0",
          "state": {
            "_dom_classes": [],
            "_model_module": "@jupyter-widgets/controls",
            "_model_module_version": "1.5.0",
            "_model_name": "HTMLModel",
            "_view_count": null,
            "_view_module": "@jupyter-widgets/controls",
            "_view_module_version": "1.5.0",
            "_view_name": "HTMLView",
            "description": "",
            "description_tooltip": null,
            "layout": "IPY_MODEL_b6ca450d03404b20bbf9c110cf3de281",
            "placeholder": "​",
            "style": "IPY_MODEL_e274d00c69c64528a3e448be903db746",
            "value": " 1.22G/1.22G [00:43&lt;00:00, 34.7MB/s]"
          }
        },
        "1353f5336d4e4d8685323c380d9dff0b": {
          "model_module": "@jupyter-widgets/base",
          "model_name": "LayoutModel",
          "model_module_version": "1.2.0",
          "state": {
            "_model_module": "@jupyter-widgets/base",
            "_model_module_version": "1.2.0",
            "_model_name": "LayoutModel",
            "_view_count": null,
            "_view_module": "@jupyter-widgets/base",
            "_view_module_version": "1.2.0",
            "_view_name": "LayoutView",
            "align_content": null,
            "align_items": null,
            "align_self": null,
            "border": null,
            "bottom": null,
            "display": null,
            "flex": null,
            "flex_flow": null,
            "grid_area": null,
            "grid_auto_columns": null,
            "grid_auto_flow": null,
            "grid_auto_rows": null,
            "grid_column": null,
            "grid_gap": null,
            "grid_row": null,
            "grid_template_areas": null,
            "grid_template_columns": null,
            "grid_template_rows": null,
            "height": null,
            "justify_content": null,
            "justify_items": null,
            "left": null,
            "margin": null,
            "max_height": null,
            "max_width": null,
            "min_height": null,
            "min_width": null,
            "object_fit": null,
            "object_position": null,
            "order": null,
            "overflow": null,
            "overflow_x": null,
            "overflow_y": null,
            "padding": null,
            "right": null,
            "top": null,
            "visibility": null,
            "width": null
          }
        },
        "27f866f2ec0c497d8a252f8cf57dc95d": {
          "model_module": "@jupyter-widgets/base",
          "model_name": "LayoutModel",
          "model_module_version": "1.2.0",
          "state": {
            "_model_module": "@jupyter-widgets/base",
            "_model_module_version": "1.2.0",
            "_model_name": "LayoutModel",
            "_view_count": null,
            "_view_module": "@jupyter-widgets/base",
            "_view_module_version": "1.2.0",
            "_view_name": "LayoutView",
            "align_content": null,
            "align_items": null,
            "align_self": null,
            "border": null,
            "bottom": null,
            "display": null,
            "flex": null,
            "flex_flow": null,
            "grid_area": null,
            "grid_auto_columns": null,
            "grid_auto_flow": null,
            "grid_auto_rows": null,
            "grid_column": null,
            "grid_gap": null,
            "grid_row": null,
            "grid_template_areas": null,
            "grid_template_columns": null,
            "grid_template_rows": null,
            "height": null,
            "justify_content": null,
            "justify_items": null,
            "left": null,
            "margin": null,
            "max_height": null,
            "max_width": null,
            "min_height": null,
            "min_width": null,
            "object_fit": null,
            "object_position": null,
            "order": null,
            "overflow": null,
            "overflow_x": null,
            "overflow_y": null,
            "padding": null,
            "right": null,
            "top": null,
            "visibility": null,
            "width": null
          }
        },
        "fa3221d2582043dcb7e7a2a614d4704e": {
          "model_module": "@jupyter-widgets/controls",
          "model_name": "DescriptionStyleModel",
          "model_module_version": "1.5.0",
          "state": {
            "_model_module": "@jupyter-widgets/controls",
            "_model_module_version": "1.5.0",
            "_model_name": "DescriptionStyleModel",
            "_view_count": null,
            "_view_module": "@jupyter-widgets/base",
            "_view_module_version": "1.2.0",
            "_view_name": "StyleView",
            "description_width": ""
          }
        },
        "a4a3585d5fcf4093bd6c1d6e60fb405f": {
          "model_module": "@jupyter-widgets/base",
          "model_name": "LayoutModel",
          "model_module_version": "1.2.0",
          "state": {
            "_model_module": "@jupyter-widgets/base",
            "_model_module_version": "1.2.0",
            "_model_name": "LayoutModel",
            "_view_count": null,
            "_view_module": "@jupyter-widgets/base",
            "_view_module_version": "1.2.0",
            "_view_name": "LayoutView",
            "align_content": null,
            "align_items": null,
            "align_self": null,
            "border": null,
            "bottom": null,
            "display": null,
            "flex": null,
            "flex_flow": null,
            "grid_area": null,
            "grid_auto_columns": null,
            "grid_auto_flow": null,
            "grid_auto_rows": null,
            "grid_column": null,
            "grid_gap": null,
            "grid_row": null,
            "grid_template_areas": null,
            "grid_template_columns": null,
            "grid_template_rows": null,
            "height": null,
            "justify_content": null,
            "justify_items": null,
            "left": null,
            "margin": null,
            "max_height": null,
            "max_width": null,
            "min_height": null,
            "min_width": null,
            "object_fit": null,
            "object_position": null,
            "order": null,
            "overflow": null,
            "overflow_x": null,
            "overflow_y": null,
            "padding": null,
            "right": null,
            "top": null,
            "visibility": null,
            "width": null
          }
        },
        "19d73de7dc4a47d283d0f8d02973527f": {
          "model_module": "@jupyter-widgets/controls",
          "model_name": "ProgressStyleModel",
          "model_module_version": "1.5.0",
          "state": {
            "_model_module": "@jupyter-widgets/controls",
            "_model_module_version": "1.5.0",
            "_model_name": "ProgressStyleModel",
            "_view_count": null,
            "_view_module": "@jupyter-widgets/base",
            "_view_module_version": "1.2.0",
            "_view_name": "StyleView",
            "bar_color": null,
            "description_width": ""
          }
        },
        "b6ca450d03404b20bbf9c110cf3de281": {
          "model_module": "@jupyter-widgets/base",
          "model_name": "LayoutModel",
          "model_module_version": "1.2.0",
          "state": {
            "_model_module": "@jupyter-widgets/base",
            "_model_module_version": "1.2.0",
            "_model_name": "LayoutModel",
            "_view_count": null,
            "_view_module": "@jupyter-widgets/base",
            "_view_module_version": "1.2.0",
            "_view_name": "LayoutView",
            "align_content": null,
            "align_items": null,
            "align_self": null,
            "border": null,
            "bottom": null,
            "display": null,
            "flex": null,
            "flex_flow": null,
            "grid_area": null,
            "grid_auto_columns": null,
            "grid_auto_flow": null,
            "grid_auto_rows": null,
            "grid_column": null,
            "grid_gap": null,
            "grid_row": null,
            "grid_template_areas": null,
            "grid_template_columns": null,
            "grid_template_rows": null,
            "height": null,
            "justify_content": null,
            "justify_items": null,
            "left": null,
            "margin": null,
            "max_height": null,
            "max_width": null,
            "min_height": null,
            "min_width": null,
            "object_fit": null,
            "object_position": null,
            "order": null,
            "overflow": null,
            "overflow_x": null,
            "overflow_y": null,
            "padding": null,
            "right": null,
            "top": null,
            "visibility": null,
            "width": null
          }
        },
        "e274d00c69c64528a3e448be903db746": {
          "model_module": "@jupyter-widgets/controls",
          "model_name": "DescriptionStyleModel",
          "model_module_version": "1.5.0",
          "state": {
            "_model_module": "@jupyter-widgets/controls",
            "_model_module_version": "1.5.0",
            "_model_name": "DescriptionStyleModel",
            "_view_count": null,
            "_view_module": "@jupyter-widgets/base",
            "_view_module_version": "1.2.0",
            "_view_name": "StyleView",
            "description_width": ""
          }
        },
        "447ebfa8067b4505adcc49fb43f8c6b0": {
          "model_module": "@jupyter-widgets/controls",
          "model_name": "HBoxModel",
          "model_module_version": "1.5.0",
          "state": {
            "_dom_classes": [],
            "_model_module": "@jupyter-widgets/controls",
            "_model_module_version": "1.5.0",
            "_model_name": "HBoxModel",
            "_view_count": null,
            "_view_module": "@jupyter-widgets/controls",
            "_view_module_version": "1.5.0",
            "_view_name": "HBoxView",
            "box_style": "",
            "children": [
              "IPY_MODEL_1d8e5a3aec2f49ea908f6c2f753514ab",
              "IPY_MODEL_02c5105ecf0b49bb9205080865f08f00",
              "IPY_MODEL_2e716888a5c94208b4b24e2c7fa38792"
            ],
            "layout": "IPY_MODEL_2717619b94534f7d8558b7a95716c1ce"
          }
        },
        "1d8e5a3aec2f49ea908f6c2f753514ab": {
          "model_module": "@jupyter-widgets/controls",
          "model_name": "HTMLModel",
          "model_module_version": "1.5.0",
          "state": {
            "_dom_classes": [],
            "_model_module": "@jupyter-widgets/controls",
            "_model_module_version": "1.5.0",
            "_model_name": "HTMLModel",
            "_view_count": null,
            "_view_module": "@jupyter-widgets/controls",
            "_view_module_version": "1.5.0",
            "_view_name": "HTMLView",
            "description": "",
            "description_tooltip": null,
            "layout": "IPY_MODEL_331c384ee7b0432c8b78749db10ecdb4",
            "placeholder": "​",
            "style": "IPY_MODEL_e5a80b493c2043e982f529fdd6300526",
            "value": "tokenizer.json: 100%"
          }
        },
        "02c5105ecf0b49bb9205080865f08f00": {
          "model_module": "@jupyter-widgets/controls",
          "model_name": "FloatProgressModel",
          "model_module_version": "1.5.0",
          "state": {
            "_dom_classes": [],
            "_model_module": "@jupyter-widgets/controls",
            "_model_module_version": "1.5.0",
            "_model_name": "FloatProgressModel",
            "_view_count": null,
            "_view_module": "@jupyter-widgets/controls",
            "_view_module_version": "1.5.0",
            "_view_name": "ProgressView",
            "bar_style": "success",
            "description": "",
            "description_tooltip": null,
            "layout": "IPY_MODEL_35796b6c723b42238989e53605f5f04f",
            "max": 17082988,
            "min": 0,
            "orientation": "horizontal",
            "style": "IPY_MODEL_964d519e387e43aa9aaee922f39b5474",
            "value": 17082988
          }
        },
        "2e716888a5c94208b4b24e2c7fa38792": {
          "model_module": "@jupyter-widgets/controls",
          "model_name": "HTMLModel",
          "model_module_version": "1.5.0",
          "state": {
            "_dom_classes": [],
            "_model_module": "@jupyter-widgets/controls",
            "_model_module_version": "1.5.0",
            "_model_name": "HTMLModel",
            "_view_count": null,
            "_view_module": "@jupyter-widgets/controls",
            "_view_module_version": "1.5.0",
            "_view_name": "HTMLView",
            "description": "",
            "description_tooltip": null,
            "layout": "IPY_MODEL_38b6faf77d54467f8adebb3635d9698a",
            "placeholder": "​",
            "style": "IPY_MODEL_24a6c913652c46ff9e8a786c80655fcf",
            "value": " 17.1M/17.1M [00:01&lt;00:00, 30.5MB/s]"
          }
        },
        "2717619b94534f7d8558b7a95716c1ce": {
          "model_module": "@jupyter-widgets/base",
          "model_name": "LayoutModel",
          "model_module_version": "1.2.0",
          "state": {
            "_model_module": "@jupyter-widgets/base",
            "_model_module_version": "1.2.0",
            "_model_name": "LayoutModel",
            "_view_count": null,
            "_view_module": "@jupyter-widgets/base",
            "_view_module_version": "1.2.0",
            "_view_name": "LayoutView",
            "align_content": null,
            "align_items": null,
            "align_self": null,
            "border": null,
            "bottom": null,
            "display": null,
            "flex": null,
            "flex_flow": null,
            "grid_area": null,
            "grid_auto_columns": null,
            "grid_auto_flow": null,
            "grid_auto_rows": null,
            "grid_column": null,
            "grid_gap": null,
            "grid_row": null,
            "grid_template_areas": null,
            "grid_template_columns": null,
            "grid_template_rows": null,
            "height": null,
            "justify_content": null,
            "justify_items": null,
            "left": null,
            "margin": null,
            "max_height": null,
            "max_width": null,
            "min_height": null,
            "min_width": null,
            "object_fit": null,
            "object_position": null,
            "order": null,
            "overflow": null,
            "overflow_x": null,
            "overflow_y": null,
            "padding": null,
            "right": null,
            "top": null,
            "visibility": null,
            "width": null
          }
        },
        "331c384ee7b0432c8b78749db10ecdb4": {
          "model_module": "@jupyter-widgets/base",
          "model_name": "LayoutModel",
          "model_module_version": "1.2.0",
          "state": {
            "_model_module": "@jupyter-widgets/base",
            "_model_module_version": "1.2.0",
            "_model_name": "LayoutModel",
            "_view_count": null,
            "_view_module": "@jupyter-widgets/base",
            "_view_module_version": "1.2.0",
            "_view_name": "LayoutView",
            "align_content": null,
            "align_items": null,
            "align_self": null,
            "border": null,
            "bottom": null,
            "display": null,
            "flex": null,
            "flex_flow": null,
            "grid_area": null,
            "grid_auto_columns": null,
            "grid_auto_flow": null,
            "grid_auto_rows": null,
            "grid_column": null,
            "grid_gap": null,
            "grid_row": null,
            "grid_template_areas": null,
            "grid_template_columns": null,
            "grid_template_rows": null,
            "height": null,
            "justify_content": null,
            "justify_items": null,
            "left": null,
            "margin": null,
            "max_height": null,
            "max_width": null,
            "min_height": null,
            "min_width": null,
            "object_fit": null,
            "object_position": null,
            "order": null,
            "overflow": null,
            "overflow_x": null,
            "overflow_y": null,
            "padding": null,
            "right": null,
            "top": null,
            "visibility": null,
            "width": null
          }
        },
        "e5a80b493c2043e982f529fdd6300526": {
          "model_module": "@jupyter-widgets/controls",
          "model_name": "DescriptionStyleModel",
          "model_module_version": "1.5.0",
          "state": {
            "_model_module": "@jupyter-widgets/controls",
            "_model_module_version": "1.5.0",
            "_model_name": "DescriptionStyleModel",
            "_view_count": null,
            "_view_module": "@jupyter-widgets/base",
            "_view_module_version": "1.2.0",
            "_view_name": "StyleView",
            "description_width": ""
          }
        },
        "35796b6c723b42238989e53605f5f04f": {
          "model_module": "@jupyter-widgets/base",
          "model_name": "LayoutModel",
          "model_module_version": "1.2.0",
          "state": {
            "_model_module": "@jupyter-widgets/base",
            "_model_module_version": "1.2.0",
            "_model_name": "LayoutModel",
            "_view_count": null,
            "_view_module": "@jupyter-widgets/base",
            "_view_module_version": "1.2.0",
            "_view_name": "LayoutView",
            "align_content": null,
            "align_items": null,
            "align_self": null,
            "border": null,
            "bottom": null,
            "display": null,
            "flex": null,
            "flex_flow": null,
            "grid_area": null,
            "grid_auto_columns": null,
            "grid_auto_flow": null,
            "grid_auto_rows": null,
            "grid_column": null,
            "grid_gap": null,
            "grid_row": null,
            "grid_template_areas": null,
            "grid_template_columns": null,
            "grid_template_rows": null,
            "height": null,
            "justify_content": null,
            "justify_items": null,
            "left": null,
            "margin": null,
            "max_height": null,
            "max_width": null,
            "min_height": null,
            "min_width": null,
            "object_fit": null,
            "object_position": null,
            "order": null,
            "overflow": null,
            "overflow_x": null,
            "overflow_y": null,
            "padding": null,
            "right": null,
            "top": null,
            "visibility": null,
            "width": null
          }
        },
        "964d519e387e43aa9aaee922f39b5474": {
          "model_module": "@jupyter-widgets/controls",
          "model_name": "ProgressStyleModel",
          "model_module_version": "1.5.0",
          "state": {
            "_model_module": "@jupyter-widgets/controls",
            "_model_module_version": "1.5.0",
            "_model_name": "ProgressStyleModel",
            "_view_count": null,
            "_view_module": "@jupyter-widgets/base",
            "_view_module_version": "1.2.0",
            "_view_name": "StyleView",
            "bar_color": null,
            "description_width": ""
          }
        },
        "38b6faf77d54467f8adebb3635d9698a": {
          "model_module": "@jupyter-widgets/base",
          "model_name": "LayoutModel",
          "model_module_version": "1.2.0",
          "state": {
            "_model_module": "@jupyter-widgets/base",
            "_model_module_version": "1.2.0",
            "_model_name": "LayoutModel",
            "_view_count": null,
            "_view_module": "@jupyter-widgets/base",
            "_view_module_version": "1.2.0",
            "_view_name": "LayoutView",
            "align_content": null,
            "align_items": null,
            "align_self": null,
            "border": null,
            "bottom": null,
            "display": null,
            "flex": null,
            "flex_flow": null,
            "grid_area": null,
            "grid_auto_columns": null,
            "grid_auto_flow": null,
            "grid_auto_rows": null,
            "grid_column": null,
            "grid_gap": null,
            "grid_row": null,
            "grid_template_areas": null,
            "grid_template_columns": null,
            "grid_template_rows": null,
            "height": null,
            "justify_content": null,
            "justify_items": null,
            "left": null,
            "margin": null,
            "max_height": null,
            "max_width": null,
            "min_height": null,
            "min_width": null,
            "object_fit": null,
            "object_position": null,
            "order": null,
            "overflow": null,
            "overflow_x": null,
            "overflow_y": null,
            "padding": null,
            "right": null,
            "top": null,
            "visibility": null,
            "width": null
          }
        },
        "24a6c913652c46ff9e8a786c80655fcf": {
          "model_module": "@jupyter-widgets/controls",
          "model_name": "DescriptionStyleModel",
          "model_module_version": "1.5.0",
          "state": {
            "_model_module": "@jupyter-widgets/controls",
            "_model_module_version": "1.5.0",
            "_model_name": "DescriptionStyleModel",
            "_view_count": null,
            "_view_module": "@jupyter-widgets/base",
            "_view_module_version": "1.2.0",
            "_view_name": "StyleView",
            "description_width": ""
          }
        },
        "e62bee0b22f944dbbb02a076a09bceee": {
          "model_module": "@jupyter-widgets/controls",
          "model_name": "HBoxModel",
          "model_module_version": "1.5.0",
          "state": {
            "_dom_classes": [],
            "_model_module": "@jupyter-widgets/controls",
            "_model_module_version": "1.5.0",
            "_model_name": "HBoxModel",
            "_view_count": null,
            "_view_module": "@jupyter-widgets/controls",
            "_view_module_version": "1.5.0",
            "_view_name": "HBoxView",
            "box_style": "",
            "children": [
              "IPY_MODEL_a17ab335a99140b2a3c62fe41a8a5c4c",
              "IPY_MODEL_a0ff59d7b23d4e58837e0e52ef307ca4",
              "IPY_MODEL_2646c2c0b341440e999c62486b524e1e"
            ],
            "layout": "IPY_MODEL_d6ca5bc963d844dab9c9f3299e467420"
          }
        },
        "a17ab335a99140b2a3c62fe41a8a5c4c": {
          "model_module": "@jupyter-widgets/controls",
          "model_name": "HTMLModel",
          "model_module_version": "1.5.0",
          "state": {
            "_dom_classes": [],
            "_model_module": "@jupyter-widgets/controls",
            "_model_module_version": "1.5.0",
            "_model_name": "HTMLModel",
            "_view_count": null,
            "_view_module": "@jupyter-widgets/controls",
            "_view_module_version": "1.5.0",
            "_view_name": "HTMLView",
            "description": "",
            "description_tooltip": null,
            "layout": "IPY_MODEL_7197c8844a64467d856382a0e31783a0",
            "placeholder": "​",
            "style": "IPY_MODEL_aa516ad5fdbd450884baad599c664502",
            "value": "Upload 2 LFS files: 100%"
          }
        },
        "a0ff59d7b23d4e58837e0e52ef307ca4": {
          "model_module": "@jupyter-widgets/controls",
          "model_name": "FloatProgressModel",
          "model_module_version": "1.5.0",
          "state": {
            "_dom_classes": [],
            "_model_module": "@jupyter-widgets/controls",
            "_model_module_version": "1.5.0",
            "_model_name": "FloatProgressModel",
            "_view_count": null,
            "_view_module": "@jupyter-widgets/controls",
            "_view_module_version": "1.5.0",
            "_view_name": "ProgressView",
            "bar_style": "success",
            "description": "",
            "description_tooltip": null,
            "layout": "IPY_MODEL_d112feadf82843b48a2a5fae6b21efad",
            "max": 2,
            "min": 0,
            "orientation": "horizontal",
            "style": "IPY_MODEL_e3ff1fe5fc16454aabd82ae2e0b268e1",
            "value": 2
          }
        },
        "2646c2c0b341440e999c62486b524e1e": {
          "model_module": "@jupyter-widgets/controls",
          "model_name": "HTMLModel",
          "model_module_version": "1.5.0",
          "state": {
            "_dom_classes": [],
            "_model_module": "@jupyter-widgets/controls",
            "_model_module_version": "1.5.0",
            "_model_name": "HTMLModel",
            "_view_count": null,
            "_view_module": "@jupyter-widgets/controls",
            "_view_module_version": "1.5.0",
            "_view_name": "HTMLView",
            "description": "",
            "description_tooltip": null,
            "layout": "IPY_MODEL_c5391955c2f34d9d9a2ea4335592b345",
            "placeholder": "​",
            "style": "IPY_MODEL_058ab40882dd4fb09ffe47b5bced90c1",
            "value": " 2/2 [00:43&lt;00:00, 43.24s/it]"
          }
        },
        "d6ca5bc963d844dab9c9f3299e467420": {
          "model_module": "@jupyter-widgets/base",
          "model_name": "LayoutModel",
          "model_module_version": "1.2.0",
          "state": {
            "_model_module": "@jupyter-widgets/base",
            "_model_module_version": "1.2.0",
            "_model_name": "LayoutModel",
            "_view_count": null,
            "_view_module": "@jupyter-widgets/base",
            "_view_module_version": "1.2.0",
            "_view_name": "LayoutView",
            "align_content": null,
            "align_items": null,
            "align_self": null,
            "border": null,
            "bottom": null,
            "display": null,
            "flex": null,
            "flex_flow": null,
            "grid_area": null,
            "grid_auto_columns": null,
            "grid_auto_flow": null,
            "grid_auto_rows": null,
            "grid_column": null,
            "grid_gap": null,
            "grid_row": null,
            "grid_template_areas": null,
            "grid_template_columns": null,
            "grid_template_rows": null,
            "height": null,
            "justify_content": null,
            "justify_items": null,
            "left": null,
            "margin": null,
            "max_height": null,
            "max_width": null,
            "min_height": null,
            "min_width": null,
            "object_fit": null,
            "object_position": null,
            "order": null,
            "overflow": null,
            "overflow_x": null,
            "overflow_y": null,
            "padding": null,
            "right": null,
            "top": null,
            "visibility": null,
            "width": null
          }
        },
        "7197c8844a64467d856382a0e31783a0": {
          "model_module": "@jupyter-widgets/base",
          "model_name": "LayoutModel",
          "model_module_version": "1.2.0",
          "state": {
            "_model_module": "@jupyter-widgets/base",
            "_model_module_version": "1.2.0",
            "_model_name": "LayoutModel",
            "_view_count": null,
            "_view_module": "@jupyter-widgets/base",
            "_view_module_version": "1.2.0",
            "_view_name": "LayoutView",
            "align_content": null,
            "align_items": null,
            "align_self": null,
            "border": null,
            "bottom": null,
            "display": null,
            "flex": null,
            "flex_flow": null,
            "grid_area": null,
            "grid_auto_columns": null,
            "grid_auto_flow": null,
            "grid_auto_rows": null,
            "grid_column": null,
            "grid_gap": null,
            "grid_row": null,
            "grid_template_areas": null,
            "grid_template_columns": null,
            "grid_template_rows": null,
            "height": null,
            "justify_content": null,
            "justify_items": null,
            "left": null,
            "margin": null,
            "max_height": null,
            "max_width": null,
            "min_height": null,
            "min_width": null,
            "object_fit": null,
            "object_position": null,
            "order": null,
            "overflow": null,
            "overflow_x": null,
            "overflow_y": null,
            "padding": null,
            "right": null,
            "top": null,
            "visibility": null,
            "width": null
          }
        },
        "aa516ad5fdbd450884baad599c664502": {
          "model_module": "@jupyter-widgets/controls",
          "model_name": "DescriptionStyleModel",
          "model_module_version": "1.5.0",
          "state": {
            "_model_module": "@jupyter-widgets/controls",
            "_model_module_version": "1.5.0",
            "_model_name": "DescriptionStyleModel",
            "_view_count": null,
            "_view_module": "@jupyter-widgets/base",
            "_view_module_version": "1.2.0",
            "_view_name": "StyleView",
            "description_width": ""
          }
        },
        "d112feadf82843b48a2a5fae6b21efad": {
          "model_module": "@jupyter-widgets/base",
          "model_name": "LayoutModel",
          "model_module_version": "1.2.0",
          "state": {
            "_model_module": "@jupyter-widgets/base",
            "_model_module_version": "1.2.0",
            "_model_name": "LayoutModel",
            "_view_count": null,
            "_view_module": "@jupyter-widgets/base",
            "_view_module_version": "1.2.0",
            "_view_name": "LayoutView",
            "align_content": null,
            "align_items": null,
            "align_self": null,
            "border": null,
            "bottom": null,
            "display": null,
            "flex": null,
            "flex_flow": null,
            "grid_area": null,
            "grid_auto_columns": null,
            "grid_auto_flow": null,
            "grid_auto_rows": null,
            "grid_column": null,
            "grid_gap": null,
            "grid_row": null,
            "grid_template_areas": null,
            "grid_template_columns": null,
            "grid_template_rows": null,
            "height": null,
            "justify_content": null,
            "justify_items": null,
            "left": null,
            "margin": null,
            "max_height": null,
            "max_width": null,
            "min_height": null,
            "min_width": null,
            "object_fit": null,
            "object_position": null,
            "order": null,
            "overflow": null,
            "overflow_x": null,
            "overflow_y": null,
            "padding": null,
            "right": null,
            "top": null,
            "visibility": null,
            "width": null
          }
        },
        "e3ff1fe5fc16454aabd82ae2e0b268e1": {
          "model_module": "@jupyter-widgets/controls",
          "model_name": "ProgressStyleModel",
          "model_module_version": "1.5.0",
          "state": {
            "_model_module": "@jupyter-widgets/controls",
            "_model_module_version": "1.5.0",
            "_model_name": "ProgressStyleModel",
            "_view_count": null,
            "_view_module": "@jupyter-widgets/base",
            "_view_module_version": "1.2.0",
            "_view_name": "StyleView",
            "bar_color": null,
            "description_width": ""
          }
        },
        "c5391955c2f34d9d9a2ea4335592b345": {
          "model_module": "@jupyter-widgets/base",
          "model_name": "LayoutModel",
          "model_module_version": "1.2.0",
          "state": {
            "_model_module": "@jupyter-widgets/base",
            "_model_module_version": "1.2.0",
            "_model_name": "LayoutModel",
            "_view_count": null,
            "_view_module": "@jupyter-widgets/base",
            "_view_module_version": "1.2.0",
            "_view_name": "LayoutView",
            "align_content": null,
            "align_items": null,
            "align_self": null,
            "border": null,
            "bottom": null,
            "display": null,
            "flex": null,
            "flex_flow": null,
            "grid_area": null,
            "grid_auto_columns": null,
            "grid_auto_flow": null,
            "grid_auto_rows": null,
            "grid_column": null,
            "grid_gap": null,
            "grid_row": null,
            "grid_template_areas": null,
            "grid_template_columns": null,
            "grid_template_rows": null,
            "height": null,
            "justify_content": null,
            "justify_items": null,
            "left": null,
            "margin": null,
            "max_height": null,
            "max_width": null,
            "min_height": null,
            "min_width": null,
            "object_fit": null,
            "object_position": null,
            "order": null,
            "overflow": null,
            "overflow_x": null,
            "overflow_y": null,
            "padding": null,
            "right": null,
            "top": null,
            "visibility": null,
            "width": null
          }
        },
        "058ab40882dd4fb09ffe47b5bced90c1": {
          "model_module": "@jupyter-widgets/controls",
          "model_name": "DescriptionStyleModel",
          "model_module_version": "1.5.0",
          "state": {
            "_model_module": "@jupyter-widgets/controls",
            "_model_module_version": "1.5.0",
            "_model_name": "DescriptionStyleModel",
            "_view_count": null,
            "_view_module": "@jupyter-widgets/base",
            "_view_module_version": "1.2.0",
            "_view_name": "StyleView",
            "description_width": ""
          }
        }
      }
    }
  },
  "nbformat": 4,
  "nbformat_minor": 0
}