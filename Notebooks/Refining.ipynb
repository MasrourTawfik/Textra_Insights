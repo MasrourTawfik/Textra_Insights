{
  "cells": [
    {
      "cell_type": "markdown",
      "metadata": {
        "id": "oE8OJSIVBBg6"
      },
      "source": [
        "## Dependencies"
      ]
    },
    {
      "cell_type": "code",
      "execution_count": null,
      "metadata": {
        "id": "qtTh-fBqAurU"
      },
      "outputs": [],
      "source": [
        "!pip install langchain_core==0.3.24\n",
        "!pip install langchain_openai==0.2.12"
      ]
    },
    {
      "cell_type": "markdown",
      "metadata": {
        "id": "Ponnl33SCW9J"
      },
      "source": [
        "## Clone the Old Definitions"
      ]
    },
    {
      "cell_type": "code",
      "execution_count": 3,
      "metadata": {
        "colab": {
          "base_uri": "https://localhost:8080/"
        },
        "id": "_bYNJxlMClUb",
        "outputId": "7da645b0-6f43-4347-de88-3d8ca3d3d355"
      },
      "outputs": [
        {
          "name": "stdout",
          "output_type": "stream",
          "text": [
            "--2024-12-15 15:59:35--  https://raw.githubusercontent.com/MasrourTawfik/Textra_Insights/main/Files/PCG.csv\n",
            "Resolving raw.githubusercontent.com (raw.githubusercontent.com)... 185.199.108.133, 185.199.109.133, 185.199.111.133, ...\n",
            "Connecting to raw.githubusercontent.com (raw.githubusercontent.com)|185.199.108.133|:443... connected.\n",
            "HTTP request sent, awaiting response... 200 OK\n",
            "Length: 54122 (53K) [text/plain]\n",
            "Saving to: ‘PCG.csv’\n",
            "\n",
            "\rPCG.csv               0%[                    ]       0  --.-KB/s               \rPCG.csv             100%[===================>]  52.85K  --.-KB/s    in 0.001s  \n",
            "\n",
            "2024-12-15 15:59:35 (39.6 MB/s) - ‘PCG.csv’ saved [54122/54122]\n",
            "\n"
          ]
        }
      ],
      "source": [
        "!wget https://raw.githubusercontent.com/MasrourTawfik/Textra_Insights/main/Files/PCG.csv"
      ]
    },
    {
      "cell_type": "markdown",
      "metadata": {
        "id": "Y-RYARQQCKd7"
      },
      "source": [
        "## Implimentation"
      ]
    },
    {
      "cell_type": "markdown",
      "metadata": {
        "id": "7tM8FwATEOnd"
      },
      "source": [
        "**token** here is you your Github token, you can get it for free :\n",
        "\n",
        "- Go to your Github profile.\n",
        "- Click on **Settings**.\n",
        "- Click on **Developer settings**.\n",
        "- Click on **Personal access tokens**.\n",
        "- Click on **Fine-grained token**.\n",
        "- Click on **Generate new token**.\n",
        "- Copy the token."
      ]
    },
    {
      "cell_type": "code",
      "execution_count": 10,
      "metadata": {
        "id": "89n3aeZQDTVp"
      },
      "outputs": [],
      "source": [
        "token = \"xxxxxxxxxxxxxxx-xxxxxxxxxxxxxxxxxxx\""
      ]
    },
    {
      "cell_type": "code",
      "execution_count": 11,
      "metadata": {
        "id": "ud1ERhd2A3vG"
      },
      "outputs": [],
      "source": [
        "import os\n",
        "from langchain_core.prompts import ChatPromptTemplate\n",
        "from langchain_openai import ChatOpenAI\n",
        "from pydantic import BaseModel, Field\n",
        "import time\n",
        "from tqdm import tqdm\n",
        "import pandas as pd"
      ]
    },
    {
      "cell_type": "code",
      "execution_count": 12,
      "metadata": {
        "id": "Kf3gUGFnA3nk"
      },
      "outputs": [],
      "source": [
        "class Refining(BaseModel):\n",
        "    definition: str = Field(\"\", description=\"La nouvelle définition clarifiée et concise.\")\n",
        "    examples: str = Field(\"\", description=\"Une liste de 20 exemples concrets illustrant la définition.\")\n",
        "\n",
        "\n",
        "System_Prompt = \"\"\"\n",
        "\n",
        "# Votre objectif\n",
        "\n",
        "Vous êtes un modèle GPT-4, spécialisé dans l'amélioration et la clarification des définitions.\n",
        "Votre objectif est de reformuler une définition donnée de manière plus concise, claire et précise, tout en conservant l'intégralité du sens.\n",
        "Vous devez inclure des exemples spécifiques et variés pour illustrer la définition de manière simple et compréhensible. Chaque exemple doit être pertinent et représentatif des situations courantes liées au terme ou au concept défini.\n",
        "\n",
        "# Instructions\n",
        "\n",
        "1. Reformulez la définition de manière plus concise et claire, en utilisant un langage simple et accessible.\n",
        "\n",
        "2. Ajoutez des exemples pratiques et variés pour illustrer la définition.\n",
        "\n",
        "3. Ne vous concentrez pas sur des détails techniques ou des termes comptables complexes. L'objectif est d'expliquer les concepts de manière facile à comprendre pour un large public.\n",
        "\n",
        "4. Incluez au moins 15 exemples courtes concrets pour chaque définition afin de donner une idée précise du concept.\n",
        "\n",
        "5. Ne pas parler de compte crédité ou de compte débité.\n",
        "\"\"\""
      ]
    },
    {
      "cell_type": "code",
      "execution_count": 13,
      "metadata": {
        "id": "7zZLH6WvA3kE"
      },
      "outputs": [],
      "source": [
        "prompt = ChatPromptTemplate.from_messages(\n",
        "    [\n",
        "        (\"system\", System_Prompt),\n",
        "        (\"human\", \"\"\"\n",
        "        L'anciene définition est la suivante :\n",
        "        {Old_Definition}\n",
        "        \"\"\"),\n",
        "    ]\n",
        ")\n",
        "\n",
        "LLM = ChatOpenAI(model=\"gpt-4o-mini\",\n",
        "    #temperature=0,\n",
        "    api_key=token,\n",
        "    base_url=\"https://models.inference.ai.azure.com\",\n",
        ")\n",
        "\n",
        "LLM_Structered = LLM.with_structured_output(Refining)\n",
        "LLM_Refiner = prompt | LLM_Structered\n",
        "\n",
        "def Run_Refiner(definition):\n",
        "    Input = {\"Old_Definition\": definition}\n",
        "    response = LLM_Refiner.invoke(Input)\n",
        "    return response\n",
        "\n",
        "def Run_Refiner_All(PCG_dataframe):\n",
        "    counter = 0\n",
        "    for index, row in tqdm(PCG_dataframe.iterrows(), total=PCG_dataframe.shape[0], desc=\"Refining Definitions\"):\n",
        "        old_definition = row[\"Title\"] + \"\\n\\n\" + row[\"Definition\"]\n",
        "        response = Run_Refiner(old_definition)\n",
        "        new_definition = response.definition\n",
        "        new_examples = response.examples\n",
        "        PCG_dataframe.at[index,\"Definition\"] = new_definition + \"\\n\\n\" + new_examples\n",
        "        # Stop to 1 min after 10 requests\n",
        "        if counter == 10 :\n",
        "            print(\"Pausing for 1 minute...\")\n",
        "            time.sleep(60)\n",
        "            counter = 0\n",
        "        # Stop to 2 seconds between each request\n",
        "        else :\n",
        "            print(\"Pausing for 2 seconds...\")\n",
        "            time.sleep(2)\n",
        "            counter += 1\n",
        "    PCG_dataframe.to_csv(\"PCG_Refined.csv\", index=False)\n"
      ]
    },
    {
      "cell_type": "markdown",
      "metadata": {
        "id": "PsaN2CGdD2UN"
      },
      "source": [
        "## Test"
      ]
    },
    {
      "cell_type": "code",
      "execution_count": 14,
      "metadata": {
        "colab": {
          "base_uri": "https://localhost:8080/",
          "height": 206
        },
        "id": "f9s3NKvsA6GR",
        "outputId": "227c85cf-7041-4409-9886-edddb851622b"
      },
      "outputs": [
        {
          "data": {
            "application/vnd.google.colaboratory.intrinsic+json": {
              "summary": "{\n  \"name\": \"Old_PCG\",\n  \"rows\": 84,\n  \"fields\": [\n    {\n      \"column\": \"Id\",\n      \"properties\": {\n        \"dtype\": \"number\",\n        \"std\": 1937,\n        \"min\": 2111,\n        \"max\": 6196,\n        \"num_unique_values\": 83,\n        \"samples\": [\n          2355,\n          2111,\n          2328\n        ],\n        \"semantic_type\": \"\",\n        \"description\": \"\"\n      }\n    },\n    {\n      \"column\": \"Title\",\n      \"properties\": {\n        \"dtype\": \"string\",\n        \"num_unique_values\": 84,\n        \"samples\": [\n          \"Jetons de pr\\u00e9sence \",\n          \"Frais de constitution \",\n          \"Publicit\\u00e9s, publications et relations publiques \"\n        ],\n        \"semantic_type\": \"\",\n        \"description\": \"\"\n      }\n    },\n    {\n      \"column\": \"Definition\",\n      \"properties\": {\n        \"dtype\": \"string\",\n        \"num_unique_values\": 84,\n        \"samples\": [\n          \"Ce compte enregistre les jetons de pr\\u00e9sence (compl\\u00e9ment de salaire) vers\\u00e9s aux administrateurs de la soci\\u00e9t\\u00e9 en fonction de leur assiduit\\u00e9 aux diff\\u00e9rentes assembl\\u00e9es g\\u00e9n\\u00e9rales qui ont eu lieu au cours de l'exercice. Le compte \\u00ab 6181. Jetons de pr\\u00e9sence \\u00bb est d\\u00e9bit\\u00e9 par le cr\\u00e9dit d'un compte de tr\\u00e9sorerie ou de dette \\u00ab 4468. Autres comptes d'associ\\u00e9s cr\\u00e9diteurs \\u00bb, pour constater le versement des jetons de pr\\u00e9sence aux administrateurs concern\\u00e9s. \",\n          \"Les frais de constitution correspondent aux frais engag\\u00e9s lors de la constitution de l'entreprise. Il s'aqit g\\u00e9n\\u00e9ralement des honoraires, des frais li\\u00e9s aux formalit\\u00e9s l\\u00e9gales de constitution d'entreprise, les droits d'enregistrement sur les apports, les frais li\\u00e9s \\u00e0 la publicit\\u00e9 ... Le compte \\u00ab 2111. Frais de constitution \\u00bb est d\\u00e9bit\\u00e9, pour le montant total des charges li\\u00e9es \\u00e0 la constitution, par le cr\\u00e9dit des comptes de transferts de charges concern\\u00e9s (7197 ; 7397). \",\n          \"Ce compte enregistre les frais engag\\u00e9s par l'entreprise pour : - Les annonces et insertions : il s'agit des frais engag\\u00e9s pour la mise en place des \\u0964 annonces publicitaires (visuelles, \\u00e9crites ou sonores. Il s'agit \\u00e9galement des insertions aux revues et journaux ... pour des buts publicitaires. - Les \\u00e9chantillons, catalogues et imprim\\u00e9s publicitaires : Il s'agit des \\u00e9chantillons \\u0964 de produits, des imprim\\u00e9s et catalogues publicitaires distribu\\u00e9s. - Les foires et expositions : il s'agit des frais engag\\u00e9s pour participer \\u00e0 des foires et expositions (Grands march\\u00e9s publics o\\u00f9 sont vendues diff\\u00e9rentes sortes de marchandises, se tenant \\u00e0 des dates et \\u00e0 des lieus fixes.) - Les primes de publicit\\u00e9 : il s'agit des produits offerts lors de l'achat d'un produit \\u0964 ou lors de la collection d'un nombre pr\\u00e9cis de preuves d'achat \\u2026 - Les cadeaux publicitaires : il s'agit des objets publicitaires (stylos ; porte-cl\\u00e9s \\u2026) \\u0964 distribu\\u00e9s ou remis aux clients gratuitement. - \\u0964 Les autres charges publicitaires. Le compte \\u00ab 6144. Publications et relations publiques \\u00bb est d\\u00e9bit\\u00e9. avec le compte \\u00ab34552. Etat TVA r\\u00e9cup\\u00e9rable sur charges \\u00bb, par le cr\\u00e9dit d'un compte de tr\\u00e9sorerie ou de dette, pour constater les charges de publicit\\u00e9. \"\n        ],\n        \"semantic_type\": \"\",\n        \"description\": \"\"\n      }\n    }\n  ]\n}",
              "type": "dataframe",
              "variable_name": "Old_PCG"
            },
            "text/html": [
              "\n",
              "  <div id=\"df-350d9390-9022-4b19-8f0b-a96ce6180018\" class=\"colab-df-container\">\n",
              "    <div>\n",
              "<style scoped>\n",
              "    .dataframe tbody tr th:only-of-type {\n",
              "        vertical-align: middle;\n",
              "    }\n",
              "\n",
              "    .dataframe tbody tr th {\n",
              "        vertical-align: top;\n",
              "    }\n",
              "\n",
              "    .dataframe thead th {\n",
              "        text-align: right;\n",
              "    }\n",
              "</style>\n",
              "<table border=\"1\" class=\"dataframe\">\n",
              "  <thead>\n",
              "    <tr style=\"text-align: right;\">\n",
              "      <th></th>\n",
              "      <th>Id</th>\n",
              "      <th>Title</th>\n",
              "      <th>Definition</th>\n",
              "    </tr>\n",
              "  </thead>\n",
              "  <tbody>\n",
              "    <tr>\n",
              "      <th>0</th>\n",
              "      <td>2111</td>\n",
              "      <td>Frais de constitution</td>\n",
              "      <td>Les frais de constitution correspondent aux fr...</td>\n",
              "    </tr>\n",
              "    <tr>\n",
              "      <th>1</th>\n",
              "      <td>2112</td>\n",
              "      <td>Frais préalables au démarrage</td>\n",
              "      <td>Les frais préalables au démarrage corresponden...</td>\n",
              "    </tr>\n",
              "    <tr>\n",
              "      <th>2</th>\n",
              "      <td>2113</td>\n",
              "      <td>Frais d'augmentation du capital</td>\n",
              "      <td>Il s'agit des frais engagés lors des opération...</td>\n",
              "    </tr>\n",
              "    <tr>\n",
              "      <th>3</th>\n",
              "      <td>2114</td>\n",
              "      <td>Frais sur opérations de fusions, scissions et ...</td>\n",
              "      <td>Il s'agit des frais engagés à l'occasion des o...</td>\n",
              "    </tr>\n",
              "    <tr>\n",
              "      <th>4</th>\n",
              "      <td>2116</td>\n",
              "      <td>Frais de prospection</td>\n",
              "      <td>ll s'agit des frais de recherche de nouveaux c...</td>\n",
              "    </tr>\n",
              "  </tbody>\n",
              "</table>\n",
              "</div>\n",
              "    <div class=\"colab-df-buttons\">\n",
              "\n",
              "  <div class=\"colab-df-container\">\n",
              "    <button class=\"colab-df-convert\" onclick=\"convertToInteractive('df-350d9390-9022-4b19-8f0b-a96ce6180018')\"\n",
              "            title=\"Convert this dataframe to an interactive table.\"\n",
              "            style=\"display:none;\">\n",
              "\n",
              "  <svg xmlns=\"http://www.w3.org/2000/svg\" height=\"24px\" viewBox=\"0 -960 960 960\">\n",
              "    <path d=\"M120-120v-720h720v720H120Zm60-500h600v-160H180v160Zm220 220h160v-160H400v160Zm0 220h160v-160H400v160ZM180-400h160v-160H180v160Zm440 0h160v-160H620v160ZM180-180h160v-160H180v160Zm440 0h160v-160H620v160Z\"/>\n",
              "  </svg>\n",
              "    </button>\n",
              "\n",
              "  <style>\n",
              "    .colab-df-container {\n",
              "      display:flex;\n",
              "      gap: 12px;\n",
              "    }\n",
              "\n",
              "    .colab-df-convert {\n",
              "      background-color: #E8F0FE;\n",
              "      border: none;\n",
              "      border-radius: 50%;\n",
              "      cursor: pointer;\n",
              "      display: none;\n",
              "      fill: #1967D2;\n",
              "      height: 32px;\n",
              "      padding: 0 0 0 0;\n",
              "      width: 32px;\n",
              "    }\n",
              "\n",
              "    .colab-df-convert:hover {\n",
              "      background-color: #E2EBFA;\n",
              "      box-shadow: 0px 1px 2px rgba(60, 64, 67, 0.3), 0px 1px 3px 1px rgba(60, 64, 67, 0.15);\n",
              "      fill: #174EA6;\n",
              "    }\n",
              "\n",
              "    .colab-df-buttons div {\n",
              "      margin-bottom: 4px;\n",
              "    }\n",
              "\n",
              "    [theme=dark] .colab-df-convert {\n",
              "      background-color: #3B4455;\n",
              "      fill: #D2E3FC;\n",
              "    }\n",
              "\n",
              "    [theme=dark] .colab-df-convert:hover {\n",
              "      background-color: #434B5C;\n",
              "      box-shadow: 0px 1px 3px 1px rgba(0, 0, 0, 0.15);\n",
              "      filter: drop-shadow(0px 1px 2px rgba(0, 0, 0, 0.3));\n",
              "      fill: #FFFFFF;\n",
              "    }\n",
              "  </style>\n",
              "\n",
              "    <script>\n",
              "      const buttonEl =\n",
              "        document.querySelector('#df-350d9390-9022-4b19-8f0b-a96ce6180018 button.colab-df-convert');\n",
              "      buttonEl.style.display =\n",
              "        google.colab.kernel.accessAllowed ? 'block' : 'none';\n",
              "\n",
              "      async function convertToInteractive(key) {\n",
              "        const element = document.querySelector('#df-350d9390-9022-4b19-8f0b-a96ce6180018');\n",
              "        const dataTable =\n",
              "          await google.colab.kernel.invokeFunction('convertToInteractive',\n",
              "                                                    [key], {});\n",
              "        if (!dataTable) return;\n",
              "\n",
              "        const docLinkHtml = 'Like what you see? Visit the ' +\n",
              "          '<a target=\"_blank\" href=https://colab.research.google.com/notebooks/data_table.ipynb>data table notebook</a>'\n",
              "          + ' to learn more about interactive tables.';\n",
              "        element.innerHTML = '';\n",
              "        dataTable['output_type'] = 'display_data';\n",
              "        await google.colab.output.renderOutput(dataTable, element);\n",
              "        const docLink = document.createElement('div');\n",
              "        docLink.innerHTML = docLinkHtml;\n",
              "        element.appendChild(docLink);\n",
              "      }\n",
              "    </script>\n",
              "  </div>\n",
              "\n",
              "\n",
              "<div id=\"df-ced8604b-7d68-4b1b-8b62-6ca118d7d6fa\">\n",
              "  <button class=\"colab-df-quickchart\" onclick=\"quickchart('df-ced8604b-7d68-4b1b-8b62-6ca118d7d6fa')\"\n",
              "            title=\"Suggest charts\"\n",
              "            style=\"display:none;\">\n",
              "\n",
              "<svg xmlns=\"http://www.w3.org/2000/svg\" height=\"24px\"viewBox=\"0 0 24 24\"\n",
              "     width=\"24px\">\n",
              "    <g>\n",
              "        <path d=\"M19 3H5c-1.1 0-2 .9-2 2v14c0 1.1.9 2 2 2h14c1.1 0 2-.9 2-2V5c0-1.1-.9-2-2-2zM9 17H7v-7h2v7zm4 0h-2V7h2v10zm4 0h-2v-4h2v4z\"/>\n",
              "    </g>\n",
              "</svg>\n",
              "  </button>\n",
              "\n",
              "<style>\n",
              "  .colab-df-quickchart {\n",
              "      --bg-color: #E8F0FE;\n",
              "      --fill-color: #1967D2;\n",
              "      --hover-bg-color: #E2EBFA;\n",
              "      --hover-fill-color: #174EA6;\n",
              "      --disabled-fill-color: #AAA;\n",
              "      --disabled-bg-color: #DDD;\n",
              "  }\n",
              "\n",
              "  [theme=dark] .colab-df-quickchart {\n",
              "      --bg-color: #3B4455;\n",
              "      --fill-color: #D2E3FC;\n",
              "      --hover-bg-color: #434B5C;\n",
              "      --hover-fill-color: #FFFFFF;\n",
              "      --disabled-bg-color: #3B4455;\n",
              "      --disabled-fill-color: #666;\n",
              "  }\n",
              "\n",
              "  .colab-df-quickchart {\n",
              "    background-color: var(--bg-color);\n",
              "    border: none;\n",
              "    border-radius: 50%;\n",
              "    cursor: pointer;\n",
              "    display: none;\n",
              "    fill: var(--fill-color);\n",
              "    height: 32px;\n",
              "    padding: 0;\n",
              "    width: 32px;\n",
              "  }\n",
              "\n",
              "  .colab-df-quickchart:hover {\n",
              "    background-color: var(--hover-bg-color);\n",
              "    box-shadow: 0 1px 2px rgba(60, 64, 67, 0.3), 0 1px 3px 1px rgba(60, 64, 67, 0.15);\n",
              "    fill: var(--button-hover-fill-color);\n",
              "  }\n",
              "\n",
              "  .colab-df-quickchart-complete:disabled,\n",
              "  .colab-df-quickchart-complete:disabled:hover {\n",
              "    background-color: var(--disabled-bg-color);\n",
              "    fill: var(--disabled-fill-color);\n",
              "    box-shadow: none;\n",
              "  }\n",
              "\n",
              "  .colab-df-spinner {\n",
              "    border: 2px solid var(--fill-color);\n",
              "    border-color: transparent;\n",
              "    border-bottom-color: var(--fill-color);\n",
              "    animation:\n",
              "      spin 1s steps(1) infinite;\n",
              "  }\n",
              "\n",
              "  @keyframes spin {\n",
              "    0% {\n",
              "      border-color: transparent;\n",
              "      border-bottom-color: var(--fill-color);\n",
              "      border-left-color: var(--fill-color);\n",
              "    }\n",
              "    20% {\n",
              "      border-color: transparent;\n",
              "      border-left-color: var(--fill-color);\n",
              "      border-top-color: var(--fill-color);\n",
              "    }\n",
              "    30% {\n",
              "      border-color: transparent;\n",
              "      border-left-color: var(--fill-color);\n",
              "      border-top-color: var(--fill-color);\n",
              "      border-right-color: var(--fill-color);\n",
              "    }\n",
              "    40% {\n",
              "      border-color: transparent;\n",
              "      border-right-color: var(--fill-color);\n",
              "      border-top-color: var(--fill-color);\n",
              "    }\n",
              "    60% {\n",
              "      border-color: transparent;\n",
              "      border-right-color: var(--fill-color);\n",
              "    }\n",
              "    80% {\n",
              "      border-color: transparent;\n",
              "      border-right-color: var(--fill-color);\n",
              "      border-bottom-color: var(--fill-color);\n",
              "    }\n",
              "    90% {\n",
              "      border-color: transparent;\n",
              "      border-bottom-color: var(--fill-color);\n",
              "    }\n",
              "  }\n",
              "</style>\n",
              "\n",
              "  <script>\n",
              "    async function quickchart(key) {\n",
              "      const quickchartButtonEl =\n",
              "        document.querySelector('#' + key + ' button');\n",
              "      quickchartButtonEl.disabled = true;  // To prevent multiple clicks.\n",
              "      quickchartButtonEl.classList.add('colab-df-spinner');\n",
              "      try {\n",
              "        const charts = await google.colab.kernel.invokeFunction(\n",
              "            'suggestCharts', [key], {});\n",
              "      } catch (error) {\n",
              "        console.error('Error during call to suggestCharts:', error);\n",
              "      }\n",
              "      quickchartButtonEl.classList.remove('colab-df-spinner');\n",
              "      quickchartButtonEl.classList.add('colab-df-quickchart-complete');\n",
              "    }\n",
              "    (() => {\n",
              "      let quickchartButtonEl =\n",
              "        document.querySelector('#df-ced8604b-7d68-4b1b-8b62-6ca118d7d6fa button');\n",
              "      quickchartButtonEl.style.display =\n",
              "        google.colab.kernel.accessAllowed ? 'block' : 'none';\n",
              "    })();\n",
              "  </script>\n",
              "</div>\n",
              "\n",
              "    </div>\n",
              "  </div>\n"
            ],
            "text/plain": [
              "     Id                                              Title  \\\n",
              "0  2111                             Frais de constitution    \n",
              "1  2112                     Frais préalables au démarrage    \n",
              "2  2113                   Frais d'augmentation du capital    \n",
              "3  2114  Frais sur opérations de fusions, scissions et ...   \n",
              "4  2116                              Frais de prospection    \n",
              "\n",
              "                                          Definition  \n",
              "0  Les frais de constitution correspondent aux fr...  \n",
              "1  Les frais préalables au démarrage corresponden...  \n",
              "2  Il s'agit des frais engagés lors des opération...  \n",
              "3  Il s'agit des frais engagés à l'occasion des o...  \n",
              "4  ll s'agit des frais de recherche de nouveaux c...  "
            ]
          },
          "execution_count": 14,
          "metadata": {},
          "output_type": "execute_result"
        }
      ],
      "source": [
        "Old_PCG = pd.read_csv(\"PCG.csv\")\n",
        "Old_PCG.head()"
      ]
    },
    {
      "cell_type": "code",
      "execution_count": 15,
      "metadata": {
        "colab": {
          "base_uri": "https://localhost:8080/"
        },
        "id": "MAgVqCKwA6DH",
        "outputId": "36f6da6e-008d-472d-a6d1-d1adbcba4a11"
      },
      "outputs": [
        {
          "name": "stderr",
          "output_type": "stream",
          "text": [
            "\rRefining Definitions:   0%|          | 0/84 [00:00<?, ?it/s]"
          ]
        },
        {
          "name": "stdout",
          "output_type": "stream",
          "text": [
            "Pausing for 2 seconds...\n"
          ]
        },
        {
          "name": "stderr",
          "output_type": "stream",
          "text": [
            "\rRefining Definitions:   1%|          | 1/84 [00:04<05:55,  4.28s/it]"
          ]
        },
        {
          "name": "stdout",
          "output_type": "stream",
          "text": [
            "Pausing for 2 seconds...\n"
          ]
        },
        {
          "name": "stderr",
          "output_type": "stream",
          "text": [
            "\rRefining Definitions:   2%|▏         | 2/84 [00:10<07:14,  5.30s/it]"
          ]
        },
        {
          "name": "stdout",
          "output_type": "stream",
          "text": [
            "Pausing for 2 seconds...\n"
          ]
        },
        {
          "name": "stderr",
          "output_type": "stream",
          "text": [
            "\rRefining Definitions:   4%|▎         | 3/84 [00:14<06:41,  4.96s/it]"
          ]
        },
        {
          "name": "stdout",
          "output_type": "stream",
          "text": [
            "Pausing for 2 seconds...\n"
          ]
        },
        {
          "name": "stderr",
          "output_type": "stream",
          "text": [
            "\rRefining Definitions:   5%|▍         | 4/84 [00:19<06:33,  4.91s/it]"
          ]
        },
        {
          "name": "stdout",
          "output_type": "stream",
          "text": [
            "Pausing for 2 seconds...\n"
          ]
        },
        {
          "name": "stderr",
          "output_type": "stream",
          "text": [
            "\rRefining Definitions:   6%|▌         | 5/84 [00:26<07:16,  5.53s/it]"
          ]
        },
        {
          "name": "stdout",
          "output_type": "stream",
          "text": [
            "Pausing for 2 seconds...\n"
          ]
        },
        {
          "name": "stderr",
          "output_type": "stream",
          "text": [
            "\rRefining Definitions:   7%|▋         | 6/84 [00:30<06:44,  5.18s/it]"
          ]
        },
        {
          "name": "stdout",
          "output_type": "stream",
          "text": [
            "Pausing for 2 seconds...\n"
          ]
        },
        {
          "name": "stderr",
          "output_type": "stream",
          "text": [
            "\rRefining Definitions:   8%|▊         | 7/84 [00:35<06:21,  4.96s/it]"
          ]
        },
        {
          "name": "stdout",
          "output_type": "stream",
          "text": [
            "Pausing for 2 seconds...\n"
          ]
        },
        {
          "name": "stderr",
          "output_type": "stream",
          "text": [
            "\rRefining Definitions:  10%|▉         | 8/84 [00:40<06:16,  4.96s/it]"
          ]
        },
        {
          "name": "stdout",
          "output_type": "stream",
          "text": [
            "Pausing for 2 seconds...\n"
          ]
        },
        {
          "name": "stderr",
          "output_type": "stream",
          "text": [
            "\rRefining Definitions:  11%|█         | 9/84 [00:46<06:32,  5.23s/it]"
          ]
        },
        {
          "name": "stdout",
          "output_type": "stream",
          "text": [
            "Pausing for 2 seconds...\n"
          ]
        },
        {
          "name": "stderr",
          "output_type": "stream",
          "text": [
            "\rRefining Definitions:  12%|█▏        | 10/84 [00:51<06:20,  5.14s/it]"
          ]
        },
        {
          "name": "stdout",
          "output_type": "stream",
          "text": [
            "Pausing for 1 minute...\n"
          ]
        },
        {
          "name": "stderr",
          "output_type": "stream",
          "text": [
            "\rRefining Definitions:  13%|█▎        | 11/84 [01:54<28:00, 23.02s/it]"
          ]
        },
        {
          "name": "stdout",
          "output_type": "stream",
          "text": [
            "Pausing for 2 seconds...\n"
          ]
        },
        {
          "name": "stderr",
          "output_type": "stream",
          "text": [
            "\rRefining Definitions:  14%|█▍        | 12/84 [01:59<20:56, 17.46s/it]"
          ]
        },
        {
          "name": "stdout",
          "output_type": "stream",
          "text": [
            "Pausing for 2 seconds...\n"
          ]
        },
        {
          "name": "stderr",
          "output_type": "stream",
          "text": [
            "\rRefining Definitions:  15%|█▌        | 13/84 [02:04<16:07, 13.62s/it]"
          ]
        },
        {
          "name": "stdout",
          "output_type": "stream",
          "text": [
            "Pausing for 2 seconds...\n"
          ]
        },
        {
          "name": "stderr",
          "output_type": "stream",
          "text": [
            "\rRefining Definitions:  17%|█▋        | 14/84 [02:09<13:01, 11.16s/it]"
          ]
        },
        {
          "name": "stdout",
          "output_type": "stream",
          "text": [
            "Pausing for 2 seconds...\n"
          ]
        },
        {
          "name": "stderr",
          "output_type": "stream",
          "text": [
            "\rRefining Definitions:  18%|█▊        | 15/84 [02:14<10:33,  9.18s/it]"
          ]
        },
        {
          "name": "stdout",
          "output_type": "stream",
          "text": [
            "Pausing for 2 seconds...\n"
          ]
        },
        {
          "name": "stderr",
          "output_type": "stream",
          "text": [
            "\rRefining Definitions:  19%|█▉        | 16/84 [02:18<08:38,  7.63s/it]"
          ]
        },
        {
          "name": "stdout",
          "output_type": "stream",
          "text": [
            "Pausing for 2 seconds...\n"
          ]
        },
        {
          "name": "stderr",
          "output_type": "stream",
          "text": [
            "\rRefining Definitions:  20%|██        | 17/84 [02:22<07:28,  6.70s/it]"
          ]
        },
        {
          "name": "stdout",
          "output_type": "stream",
          "text": [
            "Pausing for 2 seconds...\n"
          ]
        },
        {
          "name": "stderr",
          "output_type": "stream",
          "text": [
            "\rRefining Definitions:  21%|██▏       | 18/84 [02:26<06:32,  5.94s/it]"
          ]
        },
        {
          "name": "stdout",
          "output_type": "stream",
          "text": [
            "Pausing for 2 seconds...\n"
          ]
        },
        {
          "name": "stderr",
          "output_type": "stream",
          "text": [
            "\rRefining Definitions:  23%|██▎       | 19/84 [02:31<05:54,  5.45s/it]"
          ]
        },
        {
          "name": "stdout",
          "output_type": "stream",
          "text": [
            "Pausing for 2 seconds...\n"
          ]
        },
        {
          "name": "stderr",
          "output_type": "stream",
          "text": [
            "\rRefining Definitions:  24%|██▍       | 20/84 [02:37<06:03,  5.68s/it]"
          ]
        },
        {
          "name": "stdout",
          "output_type": "stream",
          "text": [
            "Pausing for 2 seconds...\n"
          ]
        },
        {
          "name": "stderr",
          "output_type": "stream",
          "text": [
            "\rRefining Definitions:  25%|██▌       | 21/84 [02:43<06:00,  5.72s/it]"
          ]
        },
        {
          "name": "stdout",
          "output_type": "stream",
          "text": [
            "Pausing for 1 minute...\n"
          ]
        },
        {
          "name": "stderr",
          "output_type": "stream",
          "text": [
            "\rRefining Definitions:  26%|██▌       | 22/84 [03:46<23:36, 22.84s/it]"
          ]
        },
        {
          "name": "stdout",
          "output_type": "stream",
          "text": [
            "Pausing for 2 seconds...\n"
          ]
        },
        {
          "name": "stderr",
          "output_type": "stream",
          "text": [
            "\rRefining Definitions:  27%|██▋       | 23/84 [03:50<17:36, 17.32s/it]"
          ]
        },
        {
          "name": "stdout",
          "output_type": "stream",
          "text": [
            "Pausing for 2 seconds...\n"
          ]
        },
        {
          "name": "stderr",
          "output_type": "stream",
          "text": [
            "\rRefining Definitions:  29%|██▊       | 24/84 [03:55<13:31, 13.52s/it]"
          ]
        },
        {
          "name": "stdout",
          "output_type": "stream",
          "text": [
            "Pausing for 2 seconds...\n"
          ]
        },
        {
          "name": "stderr",
          "output_type": "stream",
          "text": [
            "\rRefining Definitions:  30%|██▉       | 25/84 [04:00<10:50, 11.03s/it]"
          ]
        },
        {
          "name": "stdout",
          "output_type": "stream",
          "text": [
            "Pausing for 2 seconds...\n"
          ]
        },
        {
          "name": "stderr",
          "output_type": "stream",
          "text": [
            "\rRefining Definitions:  31%|███       | 26/84 [04:04<08:39,  8.96s/it]"
          ]
        },
        {
          "name": "stdout",
          "output_type": "stream",
          "text": [
            "Pausing for 2 seconds...\n"
          ]
        },
        {
          "name": "stderr",
          "output_type": "stream",
          "text": [
            "\rRefining Definitions:  32%|███▏      | 27/84 [04:08<07:05,  7.46s/it]"
          ]
        },
        {
          "name": "stdout",
          "output_type": "stream",
          "text": [
            "Pausing for 2 seconds...\n"
          ]
        },
        {
          "name": "stderr",
          "output_type": "stream",
          "text": [
            "\rRefining Definitions:  33%|███▎      | 28/84 [04:12<06:03,  6.48s/it]"
          ]
        },
        {
          "name": "stdout",
          "output_type": "stream",
          "text": [
            "Pausing for 2 seconds...\n"
          ]
        },
        {
          "name": "stderr",
          "output_type": "stream",
          "text": [
            "\rRefining Definitions:  35%|███▍      | 29/84 [04:16<05:17,  5.77s/it]"
          ]
        },
        {
          "name": "stdout",
          "output_type": "stream",
          "text": [
            "Pausing for 2 seconds...\n"
          ]
        },
        {
          "name": "stderr",
          "output_type": "stream",
          "text": [
            "\rRefining Definitions:  36%|███▌      | 30/84 [04:21<04:49,  5.35s/it]"
          ]
        },
        {
          "name": "stdout",
          "output_type": "stream",
          "text": [
            "Pausing for 2 seconds...\n"
          ]
        },
        {
          "name": "stderr",
          "output_type": "stream",
          "text": [
            "\rRefining Definitions:  37%|███▋      | 31/84 [04:25<04:31,  5.12s/it]"
          ]
        },
        {
          "name": "stdout",
          "output_type": "stream",
          "text": [
            "Pausing for 2 seconds...\n"
          ]
        },
        {
          "name": "stderr",
          "output_type": "stream",
          "text": [
            "\rRefining Definitions:  38%|███▊      | 32/84 [04:30<04:18,  4.97s/it]"
          ]
        },
        {
          "name": "stdout",
          "output_type": "stream",
          "text": [
            "Pausing for 1 minute...\n"
          ]
        },
        {
          "name": "stderr",
          "output_type": "stream",
          "text": [
            "\rRefining Definitions:  39%|███▉      | 33/84 [05:33<19:02, 22.40s/it]"
          ]
        },
        {
          "name": "stdout",
          "output_type": "stream",
          "text": [
            "Pausing for 2 seconds...\n"
          ]
        },
        {
          "name": "stderr",
          "output_type": "stream",
          "text": [
            "\rRefining Definitions:  40%|████      | 34/84 [05:38<14:26, 17.33s/it]"
          ]
        },
        {
          "name": "stdout",
          "output_type": "stream",
          "text": [
            "Pausing for 2 seconds...\n"
          ]
        },
        {
          "name": "stderr",
          "output_type": "stream",
          "text": [
            "\rRefining Definitions:  42%|████▏     | 35/84 [05:44<11:15, 13.78s/it]"
          ]
        },
        {
          "name": "stdout",
          "output_type": "stream",
          "text": [
            "Pausing for 2 seconds...\n"
          ]
        },
        {
          "name": "stderr",
          "output_type": "stream",
          "text": [
            "\rRefining Definitions:  43%|████▎     | 36/84 [05:48<08:42, 10.88s/it]"
          ]
        },
        {
          "name": "stdout",
          "output_type": "stream",
          "text": [
            "Pausing for 2 seconds...\n"
          ]
        },
        {
          "name": "stderr",
          "output_type": "stream",
          "text": [
            "\rRefining Definitions:  44%|████▍     | 37/84 [05:52<06:54,  8.83s/it]"
          ]
        },
        {
          "name": "stdout",
          "output_type": "stream",
          "text": [
            "Pausing for 2 seconds...\n"
          ]
        },
        {
          "name": "stderr",
          "output_type": "stream",
          "text": [
            "\rRefining Definitions:  45%|████▌     | 38/84 [05:57<05:49,  7.60s/it]"
          ]
        },
        {
          "name": "stdout",
          "output_type": "stream",
          "text": [
            "Pausing for 2 seconds...\n"
          ]
        },
        {
          "name": "stderr",
          "output_type": "stream",
          "text": [
            "\rRefining Definitions:  46%|████▋     | 39/84 [06:01<04:58,  6.63s/it]"
          ]
        },
        {
          "name": "stdout",
          "output_type": "stream",
          "text": [
            "Pausing for 2 seconds...\n"
          ]
        },
        {
          "name": "stderr",
          "output_type": "stream",
          "text": [
            "\rRefining Definitions:  48%|████▊     | 40/84 [06:08<04:53,  6.67s/it]"
          ]
        },
        {
          "name": "stdout",
          "output_type": "stream",
          "text": [
            "Pausing for 2 seconds...\n"
          ]
        },
        {
          "name": "stderr",
          "output_type": "stream",
          "text": [
            "\rRefining Definitions:  49%|████▉     | 41/84 [06:14<04:45,  6.63s/it]"
          ]
        },
        {
          "name": "stdout",
          "output_type": "stream",
          "text": [
            "Pausing for 2 seconds...\n"
          ]
        },
        {
          "name": "stderr",
          "output_type": "stream",
          "text": [
            "\rRefining Definitions:  50%|█████     | 42/84 [06:19<04:10,  5.97s/it]"
          ]
        },
        {
          "name": "stdout",
          "output_type": "stream",
          "text": [
            "Pausing for 2 seconds...\n"
          ]
        },
        {
          "name": "stderr",
          "output_type": "stream",
          "text": [
            "\rRefining Definitions:  51%|█████     | 43/84 [06:23<03:45,  5.51s/it]"
          ]
        },
        {
          "name": "stdout",
          "output_type": "stream",
          "text": [
            "Pausing for 1 minute...\n"
          ]
        },
        {
          "name": "stderr",
          "output_type": "stream",
          "text": [
            "\rRefining Definitions:  52%|█████▏    | 44/84 [07:43<18:26, 27.67s/it]"
          ]
        },
        {
          "name": "stdout",
          "output_type": "stream",
          "text": [
            "Pausing for 2 seconds...\n"
          ]
        },
        {
          "name": "stderr",
          "output_type": "stream",
          "text": [
            "\rRefining Definitions:  54%|█████▎    | 45/84 [07:48<13:41, 21.07s/it]"
          ]
        },
        {
          "name": "stdout",
          "output_type": "stream",
          "text": [
            "Pausing for 2 seconds...\n"
          ]
        },
        {
          "name": "stderr",
          "output_type": "stream",
          "text": [
            "\rRefining Definitions:  55%|█████▍    | 46/84 [07:53<10:08, 16.01s/it]"
          ]
        },
        {
          "name": "stdout",
          "output_type": "stream",
          "text": [
            "Pausing for 2 seconds...\n"
          ]
        },
        {
          "name": "stderr",
          "output_type": "stream",
          "text": [
            "\rRefining Definitions:  56%|█████▌    | 47/84 [07:57<07:47, 12.64s/it]"
          ]
        },
        {
          "name": "stdout",
          "output_type": "stream",
          "text": [
            "Pausing for 2 seconds...\n"
          ]
        },
        {
          "name": "stderr",
          "output_type": "stream",
          "text": [
            "\rRefining Definitions:  57%|█████▋    | 48/84 [08:02<06:13, 10.37s/it]"
          ]
        },
        {
          "name": "stdout",
          "output_type": "stream",
          "text": [
            "Pausing for 2 seconds...\n"
          ]
        },
        {
          "name": "stderr",
          "output_type": "stream",
          "text": [
            "\rRefining Definitions:  58%|█████▊    | 49/84 [08:07<05:03,  8.68s/it]"
          ]
        },
        {
          "name": "stdout",
          "output_type": "stream",
          "text": [
            "Pausing for 2 seconds...\n"
          ]
        },
        {
          "name": "stderr",
          "output_type": "stream",
          "text": [
            "\rRefining Definitions:  60%|█████▉    | 50/84 [08:12<04:17,  7.58s/it]"
          ]
        },
        {
          "name": "stdout",
          "output_type": "stream",
          "text": [
            "Pausing for 2 seconds...\n"
          ]
        },
        {
          "name": "stderr",
          "output_type": "stream",
          "text": [
            "\rRefining Definitions:  61%|██████    | 51/84 [08:16<03:36,  6.55s/it]"
          ]
        },
        {
          "name": "stdout",
          "output_type": "stream",
          "text": [
            "Pausing for 2 seconds...\n"
          ]
        },
        {
          "name": "stderr",
          "output_type": "stream",
          "text": [
            "\rRefining Definitions:  62%|██████▏   | 52/84 [08:21<03:14,  6.08s/it]"
          ]
        },
        {
          "name": "stdout",
          "output_type": "stream",
          "text": [
            "Pausing for 2 seconds...\n"
          ]
        },
        {
          "name": "stderr",
          "output_type": "stream",
          "text": [
            "\rRefining Definitions:  63%|██████▎   | 53/84 [08:26<02:59,  5.80s/it]"
          ]
        },
        {
          "name": "stdout",
          "output_type": "stream",
          "text": [
            "Pausing for 2 seconds...\n"
          ]
        },
        {
          "name": "stderr",
          "output_type": "stream",
          "text": [
            "\rRefining Definitions:  64%|██████▍   | 54/84 [08:31<02:44,  5.50s/it]"
          ]
        },
        {
          "name": "stdout",
          "output_type": "stream",
          "text": [
            "Pausing for 1 minute...\n"
          ]
        },
        {
          "name": "stderr",
          "output_type": "stream",
          "text": [
            "\rRefining Definitions:  65%|██████▌   | 55/84 [09:35<11:04, 22.92s/it]"
          ]
        },
        {
          "name": "stdout",
          "output_type": "stream",
          "text": [
            "Pausing for 2 seconds...\n"
          ]
        },
        {
          "name": "stderr",
          "output_type": "stream",
          "text": [
            "\rRefining Definitions:  67%|██████▋   | 56/84 [09:40<08:09, 17.47s/it]"
          ]
        },
        {
          "name": "stdout",
          "output_type": "stream",
          "text": [
            "Pausing for 2 seconds...\n"
          ]
        },
        {
          "name": "stderr",
          "output_type": "stream",
          "text": [
            "\rRefining Definitions:  68%|██████▊   | 57/84 [09:45<06:12, 13.78s/it]"
          ]
        },
        {
          "name": "stdout",
          "output_type": "stream",
          "text": [
            "Pausing for 2 seconds...\n"
          ]
        },
        {
          "name": "stderr",
          "output_type": "stream",
          "text": [
            "\rRefining Definitions:  69%|██████▉   | 58/84 [09:51<04:56, 11.42s/it]"
          ]
        },
        {
          "name": "stdout",
          "output_type": "stream",
          "text": [
            "Pausing for 2 seconds...\n"
          ]
        },
        {
          "name": "stderr",
          "output_type": "stream",
          "text": [
            "\rRefining Definitions:  70%|███████   | 59/84 [09:55<03:54,  9.39s/it]"
          ]
        },
        {
          "name": "stdout",
          "output_type": "stream",
          "text": [
            "Pausing for 2 seconds...\n"
          ]
        },
        {
          "name": "stderr",
          "output_type": "stream",
          "text": [
            "\rRefining Definitions:  71%|███████▏  | 60/84 [10:00<03:14,  8.10s/it]"
          ]
        },
        {
          "name": "stdout",
          "output_type": "stream",
          "text": [
            "Pausing for 2 seconds...\n"
          ]
        },
        {
          "name": "stderr",
          "output_type": "stream",
          "text": [
            "\rRefining Definitions:  73%|███████▎  | 61/84 [10:05<02:41,  7.03s/it]"
          ]
        },
        {
          "name": "stdout",
          "output_type": "stream",
          "text": [
            "Pausing for 2 seconds...\n"
          ]
        },
        {
          "name": "stderr",
          "output_type": "stream",
          "text": [
            "\rRefining Definitions:  74%|███████▍  | 62/84 [10:09<02:17,  6.24s/it]"
          ]
        },
        {
          "name": "stdout",
          "output_type": "stream",
          "text": [
            "Pausing for 2 seconds...\n"
          ]
        },
        {
          "name": "stderr",
          "output_type": "stream",
          "text": [
            "\rRefining Definitions:  75%|███████▌  | 63/84 [10:16<02:13,  6.37s/it]"
          ]
        },
        {
          "name": "stdout",
          "output_type": "stream",
          "text": [
            "Pausing for 2 seconds...\n"
          ]
        },
        {
          "name": "stderr",
          "output_type": "stream",
          "text": [
            "\rRefining Definitions:  76%|███████▌  | 64/84 [10:21<01:58,  5.95s/it]"
          ]
        },
        {
          "name": "stdout",
          "output_type": "stream",
          "text": [
            "Pausing for 2 seconds...\n"
          ]
        },
        {
          "name": "stderr",
          "output_type": "stream",
          "text": [
            "\rRefining Definitions:  77%|███████▋  | 65/84 [10:25<01:44,  5.49s/it]"
          ]
        },
        {
          "name": "stdout",
          "output_type": "stream",
          "text": [
            "Pausing for 1 minute...\n"
          ]
        },
        {
          "name": "stderr",
          "output_type": "stream",
          "text": [
            "\rRefining Definitions:  79%|███████▊  | 66/84 [11:28<06:46, 22.57s/it]"
          ]
        },
        {
          "name": "stdout",
          "output_type": "stream",
          "text": [
            "Pausing for 2 seconds...\n"
          ]
        },
        {
          "name": "stderr",
          "output_type": "stream",
          "text": [
            "\rRefining Definitions:  80%|███████▉  | 67/84 [11:34<04:58, 17.58s/it]"
          ]
        },
        {
          "name": "stdout",
          "output_type": "stream",
          "text": [
            "Pausing for 2 seconds...\n"
          ]
        },
        {
          "name": "stderr",
          "output_type": "stream",
          "text": [
            "\rRefining Definitions:  81%|████████  | 68/84 [11:41<03:49, 14.37s/it]"
          ]
        },
        {
          "name": "stdout",
          "output_type": "stream",
          "text": [
            "Pausing for 2 seconds...\n"
          ]
        },
        {
          "name": "stderr",
          "output_type": "stream",
          "text": [
            "\rRefining Definitions:  82%|████████▏ | 69/84 [11:45<02:51, 11.42s/it]"
          ]
        },
        {
          "name": "stdout",
          "output_type": "stream",
          "text": [
            "Pausing for 2 seconds...\n"
          ]
        },
        {
          "name": "stderr",
          "output_type": "stream",
          "text": [
            "\rRefining Definitions:  83%|████████▎ | 70/84 [11:50<02:13,  9.57s/it]"
          ]
        },
        {
          "name": "stdout",
          "output_type": "stream",
          "text": [
            "Pausing for 2 seconds...\n"
          ]
        },
        {
          "name": "stderr",
          "output_type": "stream",
          "text": [
            "\rRefining Definitions:  85%|████████▍ | 71/84 [11:55<01:46,  8.18s/it]"
          ]
        },
        {
          "name": "stdout",
          "output_type": "stream",
          "text": [
            "Pausing for 2 seconds...\n"
          ]
        },
        {
          "name": "stderr",
          "output_type": "stream",
          "text": [
            "\rRefining Definitions:  86%|████████▌ | 72/84 [12:00<01:26,  7.19s/it]"
          ]
        },
        {
          "name": "stdout",
          "output_type": "stream",
          "text": [
            "Pausing for 2 seconds...\n"
          ]
        },
        {
          "name": "stderr",
          "output_type": "stream",
          "text": [
            "\rRefining Definitions:  87%|████████▋ | 73/84 [12:05<01:10,  6.40s/it]"
          ]
        },
        {
          "name": "stdout",
          "output_type": "stream",
          "text": [
            "Pausing for 2 seconds...\n"
          ]
        },
        {
          "name": "stderr",
          "output_type": "stream",
          "text": [
            "\rRefining Definitions:  88%|████████▊ | 74/84 [12:10<01:01,  6.11s/it]"
          ]
        },
        {
          "name": "stdout",
          "output_type": "stream",
          "text": [
            "Pausing for 2 seconds...\n"
          ]
        },
        {
          "name": "stderr",
          "output_type": "stream",
          "text": [
            "\rRefining Definitions:  89%|████████▉ | 75/84 [12:16<00:53,  5.99s/it]"
          ]
        },
        {
          "name": "stdout",
          "output_type": "stream",
          "text": [
            "Pausing for 2 seconds...\n"
          ]
        },
        {
          "name": "stderr",
          "output_type": "stream",
          "text": [
            "\rRefining Definitions:  90%|█████████ | 76/84 [12:21<00:45,  5.66s/it]"
          ]
        },
        {
          "name": "stdout",
          "output_type": "stream",
          "text": [
            "Pausing for 1 minute...\n"
          ]
        },
        {
          "name": "stderr",
          "output_type": "stream",
          "text": [
            "\rRefining Definitions:  92%|█████████▏| 77/84 [13:25<02:41, 23.13s/it]"
          ]
        },
        {
          "name": "stdout",
          "output_type": "stream",
          "text": [
            "Pausing for 2 seconds...\n"
          ]
        },
        {
          "name": "stderr",
          "output_type": "stream",
          "text": [
            "\rRefining Definitions:  93%|█████████▎| 78/84 [13:30<01:45, 17.65s/it]"
          ]
        },
        {
          "name": "stdout",
          "output_type": "stream",
          "text": [
            "Pausing for 2 seconds...\n"
          ]
        },
        {
          "name": "stderr",
          "output_type": "stream",
          "text": [
            "\rRefining Definitions:  94%|█████████▍| 79/84 [13:34<01:08, 13.71s/it]"
          ]
        },
        {
          "name": "stdout",
          "output_type": "stream",
          "text": [
            "Pausing for 2 seconds...\n"
          ]
        },
        {
          "name": "stderr",
          "output_type": "stream",
          "text": [
            "\rRefining Definitions:  95%|█████████▌| 80/84 [13:39<00:44, 11.09s/it]"
          ]
        },
        {
          "name": "stdout",
          "output_type": "stream",
          "text": [
            "Pausing for 2 seconds...\n"
          ]
        },
        {
          "name": "stderr",
          "output_type": "stream",
          "text": [
            "\rRefining Definitions:  96%|█████████▋| 81/84 [13:45<00:29,  9.69s/it]"
          ]
        },
        {
          "name": "stdout",
          "output_type": "stream",
          "text": [
            "Pausing for 2 seconds...\n"
          ]
        },
        {
          "name": "stderr",
          "output_type": "stream",
          "text": [
            "\rRefining Definitions:  98%|█████████▊| 82/84 [13:50<00:16,  8.20s/it]"
          ]
        },
        {
          "name": "stdout",
          "output_type": "stream",
          "text": [
            "Pausing for 2 seconds...\n"
          ]
        },
        {
          "name": "stderr",
          "output_type": "stream",
          "text": [
            "\rRefining Definitions:  99%|█████████▉| 83/84 [13:57<00:07,  7.72s/it]"
          ]
        },
        {
          "name": "stdout",
          "output_type": "stream",
          "text": [
            "Pausing for 2 seconds...\n"
          ]
        },
        {
          "name": "stderr",
          "output_type": "stream",
          "text": [
            "Refining Definitions: 100%|██████████| 84/84 [14:04<00:00, 10.06s/it]\n"
          ]
        }
      ],
      "source": [
        "Old_PCG = pd.read_csv(\"PCG.csv\")\n",
        "Run_Refiner_All(Old_PCG)"
      ]
    },
    {
      "cell_type": "code",
      "execution_count": null,
      "metadata": {
        "id": "ce_mNM5IA6AN"
      },
      "outputs": [],
      "source": []
    },
    {
      "cell_type": "code",
      "execution_count": null,
      "metadata": {
        "id": "---VIEukA59O"
      },
      "outputs": [],
      "source": []
    }
  ],
  "metadata": {
    "colab": {
      "collapsed_sections": [
        "oE8OJSIVBBg6",
        "Ponnl33SCW9J",
        "Y-RYARQQCKd7",
        "PsaN2CGdD2UN"
      ],
      "provenance": []
    },
    "kernelspec": {
      "display_name": "Python 3",
      "name": "python3"
    },
    "language_info": {
      "name": "python"
    }
  },
  "nbformat": 4,
  "nbformat_minor": 0
}
