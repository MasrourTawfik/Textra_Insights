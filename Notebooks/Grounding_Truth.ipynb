{
  "nbformat": 4,
  "nbformat_minor": 0,
  "metadata": {
    "colab": {
      "provenance": []
    },
    "kernelspec": {
      "name": "python3",
      "display_name": "Python 3"
    },
    "language_info": {
      "name": "python"
    }
  },
  "cells": [
    {
      "cell_type": "code",
      "source": [
        "!pip install openai\n",
        "!pip install colorama\n",
        "!pip install tqdm"
      ],
      "metadata": {
        "id": "I3AI2GV7toyY"
      },
      "execution_count": null,
      "outputs": []
    },
    {
      "cell_type": "code",
      "execution_count": 45,
      "metadata": {
        "id": "5aO2UK5ZpQui"
      },
      "outputs": [],
      "source": [
        "# Import Necessary SDKs\n",
        "import os\n",
        "from openai import OpenAI\n",
        "import json\n",
        "import pandas as pd\n",
        "from colorama import Fore, Style\n",
        "import time\n",
        "from tqdm import tqdm"
      ]
    },
    {
      "cell_type": "code",
      "source": [
        "token = \"xxxxxxxxxxxxxxxxxxxxxxxxxxxxxxxx_xxxxxxxxxxxxxxxxxxxxxx\"\n",
        "endpoint = \"https://models.inference.ai.azure.com\"\n",
        "model_name = \"gpt-4o-mini\"\n",
        "csv_path = \"grounding_truth.csv\""
      ],
      "metadata": {
        "id": "dFF0c2_etMH-"
      },
      "execution_count": 46,
      "outputs": []
    },
    {
      "cell_type": "code",
      "source": [
        "client = OpenAI(\n",
        "    base_url=endpoint,\n",
        "    api_key=token,\n",
        ")\n",
        "\n",
        "System_Prompt = \"\"\"\n",
        "Vous êtes un assistant puissant dans l'extraction d'informations a partir des factures francaises. \\n\n",
        "Observe attentivement la facture et extrait les informations suivantes:  \\n\n",
        "\n",
        "- Fournisseur : C'est le nom du fournisseur qui a vendu des produits ou des services à un client. Généralement, C'est dans le Logo du Fournisseur ou a côté. \\n\n",
        "- Date_Facture : C'est la date de la facture. \\n\n",
        "- Num_Facture : C'est le numéro de la facture se forme d'une série de numéros ou numéros avec lettres. \\n\n",
        "- TTC : C'est le montant total que le client va payer, peut etre referer avec : Total TTC, Net à Payer ou quelque chose similaire. \\n\n",
        "- TT  : C'est le montant total de la facture hors taxes, peut etre referer avec : Total HT ou quelque chose similaire. \\n\n",
        "- TVA : C'est le montant de TVA appliqué au Total hors taxes, peut etre referer avec : TVA, Total TVA, Taxe ou quelque chose similaire. \\n\n",
        "\n",
        "- Votre reponse est un String se la forme d'un dictionaire python avec les clés-valeurs suivantes : \\n\n",
        "\n",
        "     \"Invoice_Name\": le nom et format du l'image du la facture,\n",
        "     \"Fournisseur\": \"Fournisseur\",\n",
        "     \"Date_Facture\": \"Date_Facture\",\n",
        "     \"Num_Facture\": \"Num_Facture\",\n",
        "     \"TTC\": \"TTC\",\n",
        "     \"TT\": \"TT\",\n",
        "     \"TVA\": \"TVA\"\n",
        "\n",
        "- Ne pas formater votre reponse comme un code python , repondre juste en texte. \\n\n",
        "- Les 3 prix TT,TTC,TVA doivent être des chiffres sans indication de devise. \\n\n",
        "- le nom de Fournisseur doit être en majuscule. \\n\n",
        "\"\"\""
      ],
      "metadata": {
        "id": "MZP5qcwdtL4o"
      },
      "execution_count": 47,
      "outputs": []
    },
    {
      "cell_type": "markdown",
      "source": [
        "[Dataset](https://huggingface.co/datasets/Noureddinesa/Images_Test)\n"
      ],
      "metadata": {
        "id": "9ZCfsC6jLTg1"
      }
    },
    {
      "cell_type": "code",
      "source": [
        "def Save_to_csv(json_data):\n",
        "    data = json.loads(json_data)\n",
        "    df = pd.DataFrame([data])\n",
        "\n",
        "    if os.path.exists(csv_path):\n",
        "        df.to_csv(csv_path, mode='a', header=False, index=False)\n",
        "    else:\n",
        "        df.to_csv(csv_path, index=False)\n",
        "\n",
        "    print(Fore.GREEN + Style.BRIGHT + \"CSV Updated Successfully\" + Style.RESET_ALL)\n",
        "\n",
        "\n",
        "def Run_ALL(Names):\n",
        "  counter = 0\n",
        "  for Name in tqdm(Names,desc=\"Processing Invoices\", unit=\"number\"):\n",
        "        Hugg_path = \"https://huggingface.co/datasets/Noureddinesa/Images_Test/resolve/main/\"+Name\n",
        "        response = client.chat.completions.create(\n",
        "                      model=model_name,\n",
        "                      messages=[\n",
        "                          {\"role\": \"system\", \"content\": System_Prompt},\n",
        "                          {\n",
        "                          \"role\": \"user\",\n",
        "                          \"content\": [\n",
        "                            {\"type\": \"text\", \"text\": f\"Extraire les Informations demandées a partir de la facture {Name} suivante : \"},\n",
        "                            {\n",
        "                              \"type\": \"image_url\",\n",
        "                              \"image_url\": {\"url\":Hugg_path},\n",
        "                            },\n",
        "                          ],\n",
        "                          }\n",
        "                            ],\n",
        "                      #max_tokens=500,\n",
        "                    )\n",
        "\n",
        "        data = response.choices[0].message.content\n",
        "        print(data)\n",
        "        Save_to_csv(data)\n",
        "        # Sleep time between requests of 2 seconds\n",
        "        time.sleep(2)\n",
        "        counter += 1\n",
        "        # We set a Sleep of 1 min so we don't exceed the rate limit (10 requests/min)\n",
        "        if counter == 7:\n",
        "          time.sleep(60)\n",
        "          counter = 0"
      ],
      "metadata": {
        "id": "XyitpVXitL1K"
      },
      "execution_count": 48,
      "outputs": []
    },
    {
      "cell_type": "code",
      "source": [
        "from google.colab import drive\n",
        "drive.mount('/content/drive')"
      ],
      "metadata": {
        "colab": {
          "base_uri": "https://localhost:8080/"
        },
        "id": "8eOTtrVr_nKx",
        "outputId": "cb1e370e-818a-48d0-95b0-cbc7750cf66a"
      },
      "execution_count": 49,
      "outputs": [
        {
          "output_type": "stream",
          "name": "stdout",
          "text": [
            "Drive already mounted at /content/drive; to attempt to forcibly remount, call drive.mount(\"/content/drive\", force_remount=True).\n"
          ]
        }
      ]
    },
    {
      "cell_type": "code",
      "source": [
        "import os\n",
        "\n",
        "project_path = \"/content/drive/MyDrive/Textra_Insights/\"\n",
        "Folder_path = project_path+\"Test_Invoices\"\n",
        "Files = os.listdir(Folder_path)\n",
        "sorted_files = sorted(Files, key=lambda x: int(x.split('.')[0]))\n",
        "sorted_files"
      ],
      "metadata": {
        "id": "9CuSzV_nBlUR"
      },
      "execution_count": null,
      "outputs": []
    },
    {
      "cell_type": "code",
      "source": [
        "Run_ALL(sorted_files)"
      ],
      "metadata": {
        "id": "UiRIRqRktLsW",
        "colab": {
          "base_uri": "https://localhost:8080/"
        },
        "outputId": "6a026df0-2f29-45f6-f70f-e31fb0aaafd2"
      },
      "execution_count": 51,
      "outputs": [
        {
          "output_type": "stream",
          "name": "stderr",
          "text": [
            "\rProcessing Invoices:   0%|          | 0/30 [00:00<?, ?number/s]"
          ]
        },
        {
          "output_type": "stream",
          "name": "stdout",
          "text": [
            "{\n",
            "    \"Invoice_Name\": \"2.jpg\",\n",
            "    \"Fournisseur\": \"OUTIDIS SARL\",\n",
            "    \"Date_Facture\": \"13/01/2023\",\n",
            "    \"Num_Facture\": \"FV230007\",\n",
            "    \"TTC\": 586.80,\n",
            "    \"TT\": 489.00,\n",
            "    \"TVA\": 97.80\n",
            "}\n",
            "\u001b[32m\u001b[1mCSV Updated Successfully\u001b[0m\n"
          ]
        },
        {
          "output_type": "stream",
          "name": "stderr",
          "text": [
            "\rProcessing Invoices:   3%|▎         | 1/30 [00:05<02:31,  5.24s/number]"
          ]
        },
        {
          "output_type": "stream",
          "name": "stdout",
          "text": [
            "{\n",
            "    \"Invoice_Name\": \"3.jpg\",\n",
            "    \"Fournisseur\": \"FUN PLACE\",\n",
            "    \"Date_Facture\": \"14/04/2023\",\n",
            "    \"Num_Facture\": \"FUNPLACE - 2023/000403\",\n",
            "    \"TTC\": 3864,\n",
            "    \"TT\": 3220,\n",
            "    \"TVA\": 644\n",
            "}\n",
            "\u001b[32m\u001b[1mCSV Updated Successfully\u001b[0m\n"
          ]
        },
        {
          "output_type": "stream",
          "name": "stderr",
          "text": [
            "\rProcessing Invoices:   7%|▋         | 2/30 [00:10<02:23,  5.14s/number]"
          ]
        },
        {
          "output_type": "stream",
          "name": "stdout",
          "text": [
            "{\n",
            "    \"Invoice_Name\": \"49.jpg\",\n",
            "    \"Fournisseur\": \"LYDEC\",\n",
            "    \"Date_Facture\": \"30/03/2023\",\n",
            "    \"Num_Facture\": \"1507042573 AM\",\n",
            "    \"TTC\": 224.28,\n",
            "    \"TT\": 209.59,\n",
            "    \"TVA\": 14.69\n",
            "}\n",
            "\u001b[32m\u001b[1mCSV Updated Successfully\u001b[0m\n"
          ]
        },
        {
          "output_type": "stream",
          "name": "stderr",
          "text": [
            "\rProcessing Invoices:  10%|█         | 3/30 [00:17<02:43,  6.04s/number]"
          ]
        },
        {
          "output_type": "stream",
          "name": "stdout",
          "text": [
            "{\n",
            "    \"Invoice_Name\": \"57.jpg\",\n",
            "    \"Fournisseur\": \"ARCANES TECHNOLOGIES\",\n",
            "    \"Date_Facture\": \"04-01-2023\",\n",
            "    \"Num_Facture\": \"223285-23-DJ\",\n",
            "    \"TTC\": 226.80,\n",
            "    \"TT\": 189.00,\n",
            "    \"TVA\": 37.80\n",
            "}\n",
            "\u001b[32m\u001b[1mCSV Updated Successfully\u001b[0m\n"
          ]
        },
        {
          "output_type": "stream",
          "name": "stderr",
          "text": [
            "\rProcessing Invoices:  13%|█▎        | 4/30 [00:22<02:23,  5.50s/number]"
          ]
        },
        {
          "output_type": "stream",
          "name": "stdout",
          "text": [
            "{\n",
            "    \"Invoice_Name\": \"58.jpg\",\n",
            "    \"Fournisseur\": \"NETTOPAP\",\n",
            "    \"Date_Facture\": \"10/03/2023\",\n",
            "    \"Num_Facture\": \"230058\",\n",
            "    \"TTC\": 3026.45,\n",
            "    \"TT\": 2522.04,\n",
            "    \"TVA\": 504.41\n",
            "}\n",
            "\u001b[32m\u001b[1mCSV Updated Successfully\u001b[0m\n"
          ]
        },
        {
          "output_type": "stream",
          "name": "stderr",
          "text": [
            "\rProcessing Invoices:  17%|█▋        | 5/30 [00:27<02:12,  5.30s/number]"
          ]
        },
        {
          "output_type": "stream",
          "name": "stdout",
          "text": [
            "{\n",
            "    \"Invoice_Name\": \"61.jpg\",\n",
            "    \"Fournisseur\": \"OUTIDIS SARL\",\n",
            "    \"Date_Facture\": \"22/07/2022\",\n",
            "    \"Num_Facture\": \"202212194\",\n",
            "    \"TTC\": 3588,\n",
            "    \"TT\": 2990,\n",
            "    \"TVA\": 598\n",
            "}\n",
            "\u001b[32m\u001b[1mCSV Updated Successfully\u001b[0m\n"
          ]
        },
        {
          "output_type": "stream",
          "name": "stderr",
          "text": [
            "\rProcessing Invoices:  20%|██        | 6/30 [00:31<01:59,  4.97s/number]"
          ]
        },
        {
          "output_type": "stream",
          "name": "stdout",
          "text": [
            "{\n",
            "    \"Invoice_Name\": \"66.jpg\",\n",
            "    \"Fournisseur\": \"PAPETERIE IMIZEGH\",\n",
            "    \"Date_Facture\": \"03/01/2023\",\n",
            "    \"Num_Facture\": \"00000002\",\n",
            "    \"TTC\": 1250,\n",
            "    \"TT\": 1041.68,\n",
            "    \"TVA\": 208.32\n",
            "}\n",
            "\u001b[32m\u001b[1mCSV Updated Successfully\u001b[0m\n"
          ]
        },
        {
          "output_type": "stream",
          "name": "stderr",
          "text": [
            "\rProcessing Invoices:  23%|██▎       | 7/30 [01:38<09:40, 25.23s/number]"
          ]
        },
        {
          "output_type": "stream",
          "name": "stdout",
          "text": [
            "{\n",
            "    \"Invoice_Name\": \"67.jpg\",\n",
            "    \"Fournisseur\": \"CAPMAN\",\n",
            "    \"Date_Facture\": \"10/05/23\",\n",
            "    \"Num_Facture\": \"FA2304843\",\n",
            "    \"TTC\": 134.10,\n",
            "    \"TT\": 111.75,\n",
            "    \"TVA\": 22.35\n",
            "}\n",
            "\u001b[32m\u001b[1mCSV Updated Successfully\u001b[0m\n"
          ]
        },
        {
          "output_type": "stream",
          "name": "stderr",
          "text": [
            "\rProcessing Invoices:  27%|██▋       | 8/30 [01:43<06:55, 18.87s/number]"
          ]
        },
        {
          "output_type": "stream",
          "name": "stdout",
          "text": [
            "{\n",
            "    \"Invoice_Name\": \"72.jpg\",\n",
            "    \"Fournisseur\": \"OUTIDIS\",\n",
            "    \"Date_Facture\": \"01/10/2022\",\n",
            "    \"Num_Facture\": \"0001141024102022\",\n",
            "    \"TTC\": 500,\n",
            "    \"TT\": 416.67,\n",
            "    \"TVA\": 83.33\n",
            "}\n",
            "\u001b[32m\u001b[1mCSV Updated Successfully\u001b[0m\n"
          ]
        },
        {
          "output_type": "stream",
          "name": "stderr",
          "text": [
            "\rProcessing Invoices:  30%|███       | 9/30 [01:48<05:04, 14.48s/number]"
          ]
        },
        {
          "output_type": "stream",
          "name": "stdout",
          "text": [
            "{\n",
            "    \"Invoice_Name\": \"76.jpg\",\n",
            "    \"Fournisseur\": \"ONETECHR\",\n",
            "    \"Date_Facture\": \"09/03/23\",\n",
            "    \"Num_Facture\": \"FA2303-0161\",\n",
            "    \"TTC\": 420,\n",
            "    \"TT\": 350,\n",
            "    \"TVA\": 70\n",
            "}\n",
            "\u001b[32m\u001b[1mCSV Updated Successfully\u001b[0m\n"
          ]
        },
        {
          "output_type": "stream",
          "name": "stderr",
          "text": [
            "\rProcessing Invoices:  33%|███▎      | 10/30 [01:53<03:50, 11.53s/number]"
          ]
        },
        {
          "output_type": "stream",
          "name": "stdout",
          "text": [
            "{\n",
            "    \"Invoice_Name\": \"109.jpg\",\n",
            "    \"Fournisseur\": \"DUOWEB\",\n",
            "    \"Date_Facture\": \"17/01/2023\",\n",
            "    \"Num_Facture\": \"FP|202301|007\",\n",
            "    \"TTC\": 2100,\n",
            "    \"TT\": 1750,\n",
            "    \"TVA\": 350\n",
            "}\n",
            "\u001b[32m\u001b[1mCSV Updated Successfully\u001b[0m\n"
          ]
        },
        {
          "output_type": "stream",
          "name": "stderr",
          "text": [
            "\rProcessing Invoices:  37%|███▋      | 11/30 [01:57<02:57,  9.33s/number]"
          ]
        },
        {
          "output_type": "stream",
          "name": "stdout",
          "text": [
            "{\n",
            "    \"Invoice_Name\": \"114.jpg\",\n",
            "    \"Fournisseur\": \"LATELIER DU VOYAGE\",\n",
            "    \"Date_Facture\": \"31/12/2022\",\n",
            "    \"Num_Facture\": \"CMN/22/INV/01/050592\",\n",
            "    \"TTC\": 4461,\n",
            "    \"TT\": 4431,\n",
            "    \"TVA\": 5\n",
            "}\n",
            "\u001b[32m\u001b[1mCSV Updated Successfully\u001b[0m\n"
          ]
        },
        {
          "output_type": "stream",
          "name": "stderr",
          "text": [
            "\rProcessing Invoices:  40%|████      | 12/30 [02:02<02:25,  8.09s/number]"
          ]
        },
        {
          "output_type": "stream",
          "name": "stdout",
          "text": [
            "{\n",
            "    \"Invoice_Name\": \"121.jpg\",\n",
            "    \"Fournisseur\": \"OUTIDIS\",\n",
            "    \"Date_Facture\": \"18/08/2022\",\n",
            "    \"Num_Facture\": \"001022\",\n",
            "    \"TTC\": 5000,\n",
            "    \"TT\": 4166.67,\n",
            "    \"TVA\": 833.33\n",
            "}\n",
            "\u001b[32m\u001b[1mCSV Updated Successfully\u001b[0m\n"
          ]
        },
        {
          "output_type": "stream",
          "name": "stderr",
          "text": [
            "\rProcessing Invoices:  43%|████▎     | 13/30 [02:07<02:00,  7.09s/number]"
          ]
        },
        {
          "output_type": "stream",
          "name": "stdout",
          "text": [
            "{\n",
            "    \"Invoice_Name\": \"129.jpg\",\n",
            "    \"Fournisseur\": \"OUTIDIS SARL\",\n",
            "    \"Date_Facture\": \"08. Jul 2022\",\n",
            "    \"Num_Facture\": \"300309732\",\n",
            "    \"TTC\": 8695.60,\n",
            "    \"TT\": 7246.37,\n",
            "    \"TVA\": 1449.23\n",
            "}\n",
            "\u001b[32m\u001b[1mCSV Updated Successfully\u001b[0m\n"
          ]
        },
        {
          "output_type": "stream",
          "name": "stderr",
          "text": [
            "\rProcessing Invoices:  47%|████▋     | 14/30 [03:12<06:34, 24.64s/number]"
          ]
        },
        {
          "output_type": "stream",
          "name": "stdout",
          "text": [
            "{\n",
            "    \"Invoice_Name\": \"131.jpg\",\n",
            "    \"Fournisseur\": \"PRINT CENTER\",\n",
            "    \"Date_Facture\": \"13/03/2023\",\n",
            "    \"Num_Facture\": \"002/2023\",\n",
            "    \"TTC\": 4080,\n",
            "    \"TT\": 3400,\n",
            "    \"TVA\": 680\n",
            "}\n",
            "\u001b[32m\u001b[1mCSV Updated Successfully\u001b[0m\n"
          ]
        },
        {
          "output_type": "stream",
          "name": "stderr",
          "text": [
            "\rProcessing Invoices:  50%|█████     | 15/30 [03:18<04:43, 18.88s/number]"
          ]
        },
        {
          "output_type": "stream",
          "name": "stdout",
          "text": [
            "{\n",
            "    \"Invoice_Name\": \"151.jpg\",\n",
            "    \"Fournisseur\": \"CMI\",\n",
            "    \"Date_Facture\": \"26/07/22\",\n",
            "    \"Num_Facture\": \"003052404000075\",\n",
            "    \"TTC\": 120,\n",
            "    \"TT\": 100,\n",
            "    \"TVA\": 20\n",
            "}\n",
            "\u001b[32m\u001b[1mCSV Updated Successfully\u001b[0m\n"
          ]
        },
        {
          "output_type": "stream",
          "name": "stderr",
          "text": [
            "\rProcessing Invoices:  53%|█████▎    | 16/30 [03:23<03:26, 14.75s/number]"
          ]
        },
        {
          "output_type": "stream",
          "name": "stdout",
          "text": [
            "{\n",
            "    \"Invoice_Name\": \"164.jpg\",\n",
            "    \"Fournisseur\": \"OUTIDIS\",\n",
            "    \"Date_Facture\": \"01/08/2022\",\n",
            "    \"Num_Facture\": \"0000868515082022\",\n",
            "    \"TTC\": 500,\n",
            "    \"TT\": 416.67,\n",
            "    \"TVA\": 83.33\n",
            "}\n",
            "\u001b[32m\u001b[1mCSV Updated Successfully\u001b[0m\n"
          ]
        },
        {
          "output_type": "stream",
          "name": "stderr",
          "text": [
            "\rProcessing Invoices:  57%|█████▋    | 17/30 [03:28<02:33, 11.80s/number]"
          ]
        },
        {
          "output_type": "stream",
          "name": "stdout",
          "text": [
            "{\n",
            "    \"Invoice_Name\": \"307.jpg\",\n",
            "    \"Fournisseur\": \"PAPETERIE IMIZEGH\",\n",
            "    \"Date_Facture\": \"11/05/2023\",\n",
            "    \"Num_Facture\": \"000000002007\",\n",
            "    \"TTC\": 1186.40,\n",
            "    \"TT\": 988.66,\n",
            "    \"TVA\": 197.74\n",
            "}\n",
            "\u001b[32m\u001b[1mCSV Updated Successfully\u001b[0m\n"
          ]
        },
        {
          "output_type": "stream",
          "name": "stderr",
          "text": [
            "\rProcessing Invoices:  60%|██████    | 18/30 [03:33<01:56,  9.73s/number]"
          ]
        },
        {
          "output_type": "stream",
          "name": "stdout",
          "text": [
            "{\n",
            "    \"Invoice_Name\": \"311.jpg\",\n",
            "    \"Fournisseur\": \"ELECTRO AINANE\",\n",
            "    \"Date_Facture\": \"03/04/2023\",\n",
            "    \"Num_Facture\": \"N12.04.2023\",\n",
            "    \"TTC\": 1650,\n",
            "    \"TT\": 1375,\n",
            "    \"TVA\": 275\n",
            "}\n",
            "\u001b[32m\u001b[1mCSV Updated Successfully\u001b[0m\n"
          ]
        },
        {
          "output_type": "stream",
          "name": "stderr",
          "text": [
            "\rProcessing Invoices:  63%|██████▎   | 19/30 [03:38<01:32,  8.41s/number]"
          ]
        },
        {
          "output_type": "stream",
          "name": "stdout",
          "text": [
            "{\n",
            "    \"Invoice_Name\": \"314.jpg\",\n",
            "    \"Fournisseur\": \"ASSURLAND\",\n",
            "    \"Date_Facture\": \"5/1/2023\",\n",
            "    \"Num_Facture\": \"22/0004104\",\n",
            "    \"TTC\": 2586,\n",
            "    \"TT\": 2586,\n",
            "    \"TVA\": 0\n",
            "}\n",
            "\u001b[32m\u001b[1mCSV Updated Successfully\u001b[0m\n"
          ]
        },
        {
          "output_type": "stream",
          "name": "stderr",
          "text": [
            "\rProcessing Invoices:  67%|██████▋   | 20/30 [03:43<01:12,  7.22s/number]"
          ]
        },
        {
          "output_type": "stream",
          "name": "stdout",
          "text": [
            "{\n",
            "    \"Invoice_Name\": \"315.jpg\",\n",
            "    \"Fournisseur\": \"RENAULT\",\n",
            "    \"Date_Facture\": \"21/06/22\",\n",
            "    \"Num_Facture\": \"044797\",\n",
            "    \"TTC\": 152360,\n",
            "    \"TT\": 142684,\n",
            "    \"TVA\": 9675\n",
            "}\n",
            "\u001b[32m\u001b[1mCSV Updated Successfully\u001b[0m\n"
          ]
        },
        {
          "output_type": "stream",
          "name": "stderr",
          "text": [
            "\rProcessing Invoices:  70%|███████   | 21/30 [04:49<03:43, 24.82s/number]"
          ]
        },
        {
          "output_type": "stream",
          "name": "stdout",
          "text": [
            "{\n",
            "    \"Invoice_Name\": \"316.jpg\",\n",
            "    \"Fournisseur\": \"ELECTROPLANET\",\n",
            "    \"Date_Facture\": \"30-01-2023\",\n",
            "    \"Num_Facture\": \"508/30-012023/00242069\",\n",
            "    \"TTC\": 12909,\n",
            "    \"TT\": 10757,\n",
            "    \"TVA\": 2151\n",
            "}\n",
            "\u001b[32m\u001b[1mCSV Updated Successfully\u001b[0m\n"
          ]
        },
        {
          "output_type": "stream",
          "name": "stderr",
          "text": [
            "\rProcessing Invoices:  73%|███████▎  | 22/30 [04:53<02:29, 18.75s/number]"
          ]
        },
        {
          "output_type": "stream",
          "name": "stdout",
          "text": [
            "{\n",
            "    \"Invoice_Name\": \"317.jpg\",\n",
            "    \"Fournisseur\": \"LYDEC\",\n",
            "    \"Date_Facture\": \"22/03/2023\",\n",
            "    \"Num_Facture\": \"C060200093\",\n",
            "    \"TTC\": 1637,\n",
            "    \"TT\": 1350,\n",
            "    \"TVA\": 286\n",
            "}\n",
            "\u001b[32m\u001b[1mCSV Updated Successfully\u001b[0m\n"
          ]
        },
        {
          "output_type": "stream",
          "name": "stderr",
          "text": [
            "\rProcessing Invoices:  77%|███████▋  | 23/30 [04:58<01:42, 14.68s/number]"
          ]
        },
        {
          "output_type": "stream",
          "name": "stdout",
          "text": [
            "{\n",
            "    \"Invoice_Name\": \"319.jpg\",\n",
            "    \"Fournisseur\": \"SOCIETE OUTIDIS OUTIDIS\",\n",
            "    \"Date_Facture\": \"07/04/2023\",\n",
            "    \"Num_Facture\": \"0000044161042023\",\n",
            "    \"TTC\": 157.5,\n",
            "    \"TT\": 157.5,\n",
            "    \"TVA\": 0\n",
            "}\n",
            "\u001b[32m\u001b[1mCSV Updated Successfully\u001b[0m\n"
          ]
        },
        {
          "output_type": "stream",
          "name": "stderr",
          "text": [
            "\rProcessing Invoices:  80%|████████  | 24/30 [05:04<01:11, 11.90s/number]"
          ]
        },
        {
          "output_type": "stream",
          "name": "stdout",
          "text": [
            "{\n",
            "    \"Invoice_Name\": \"327.jpg\",\n",
            "    \"Fournisseur\": \"BRICOMAR\",\n",
            "    \"Date_Facture\": \"15/01/2022\",\n",
            "    \"Num_Facture\": \"0122003246\",\n",
            "    \"TTC\": 58.80,\n",
            "    \"TT\": 49.00,\n",
            "    \"TVA\": 9.80\n",
            "}\n",
            "\u001b[32m\u001b[1mCSV Updated Successfully\u001b[0m\n"
          ]
        },
        {
          "output_type": "stream",
          "name": "stderr",
          "text": [
            "\rProcessing Invoices:  83%|████████▎ | 25/30 [05:09<00:50, 10.04s/number]"
          ]
        },
        {
          "output_type": "stream",
          "name": "stdout",
          "text": [
            "{\n",
            "    \"Invoice_Name\": \"334.jpg\",\n",
            "    \"Fournisseur\": \"IMPRIMOS\",\n",
            "    \"Date_Facture\": \"24-10-2022\",\n",
            "    \"Num_Facture\": \"18020\",\n",
            "    \"TTC\": 6240,\n",
            "    \"TT\": 5200,\n",
            "    \"TVA\": 1040\n",
            "}\n",
            "\u001b[32m\u001b[1mCSV Updated Successfully\u001b[0m\n"
          ]
        },
        {
          "output_type": "stream",
          "name": "stderr",
          "text": [
            "\rProcessing Invoices:  87%|████████▋ | 26/30 [05:15<00:34,  8.69s/number]"
          ]
        },
        {
          "output_type": "stream",
          "name": "stdout",
          "text": [
            "{\n",
            "    \"Invoice_Name\": \"340.jpg\",\n",
            "    \"Fournisseur\": \"BIG OFFICE\",\n",
            "    \"Date_Facture\": \"16/07/2022\",\n",
            "    \"Num_Facture\": \"20220268\",\n",
            "    \"TTC\": 21240,\n",
            "    \"TT\": 17700,\n",
            "    \"TVA\": 3540\n",
            "}\n",
            "\u001b[32m\u001b[1mCSV Updated Successfully\u001b[0m\n"
          ]
        },
        {
          "output_type": "stream",
          "name": "stderr",
          "text": [
            "\rProcessing Invoices:  90%|█████████ | 27/30 [05:21<00:23,  7.75s/number]"
          ]
        },
        {
          "output_type": "stream",
          "name": "stdout",
          "text": [
            "{\n",
            "    \"Invoice_Name\": \"383.jpg\",\n",
            "    \"Fournisseur\": \"MOUCHINE FTOUHI\",\n",
            "    \"Date_Facture\": \"28/03/2023\",\n",
            "    \"Num_Facture\": \"000 001\",\n",
            "    \"TTC\": \"3100\",\n",
            "    \"TT\": \"3100\",\n",
            "    \"TVA\": \"0\"\n",
            "}\n",
            "\u001b[32m\u001b[1mCSV Updated Successfully\u001b[0m\n"
          ]
        },
        {
          "output_type": "stream",
          "name": "stderr",
          "text": [
            "\rProcessing Invoices:  93%|█████████▎| 28/30 [06:25<00:49, 24.78s/number]"
          ]
        },
        {
          "output_type": "stream",
          "name": "stdout",
          "text": [
            "{\n",
            "    \"Invoice_Name\": \"417.jpg\",\n",
            "    \"Fournisseur\": \"KAYAR\",\n",
            "    \"Date_Facture\": \"11/05/2023\",\n",
            "    \"Num_Facture\": \"F2023/00297\",\n",
            "    \"TTC\": 13777.31,\n",
            "    \"TT\": 11481.09,\n",
            "    \"TVA\": 2296.22\n",
            "}\n",
            "\u001b[32m\u001b[1mCSV Updated Successfully\u001b[0m\n"
          ]
        },
        {
          "output_type": "stream",
          "name": "stderr",
          "text": [
            "\rProcessing Invoices:  97%|█████████▋| 29/30 [06:30<00:18, 18.87s/number]"
          ]
        },
        {
          "output_type": "stream",
          "name": "stdout",
          "text": [
            "{\n",
            "    \"Invoice_Name\": \"419.jpg\",\n",
            "    \"Fournisseur\": \"PRO NUMERIQUE\",\n",
            "    \"Date_Facture\": \"01/02/2023\",\n",
            "    \"Num_Facture\": \"FA2023043\",\n",
            "    \"TTC\": 1300,\n",
            "    \"TT\": 1083.33,\n",
            "    \"TVA\": 216.67\n",
            "}\n",
            "\u001b[32m\u001b[1mCSV Updated Successfully\u001b[0m\n"
          ]
        },
        {
          "output_type": "stream",
          "name": "stderr",
          "text": [
            "Processing Invoices: 100%|██████████| 30/30 [06:35<00:00, 13.19s/number]\n"
          ]
        }
      ]
    },
    {
      "cell_type": "code",
      "source": [],
      "metadata": {
        "id": "xNeNRG16tLor"
      },
      "execution_count": 51,
      "outputs": []
    }
  ]
}