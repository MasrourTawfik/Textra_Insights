{
  "nbformat": 4,
  "nbformat_minor": 0,
  "metadata": {
    "colab": {
      "provenance": []
    },
    "kernelspec": {
      "name": "python3",
      "display_name": "Python 3"
    },
    "language_info": {
      "name": "python"
    }
  },
  "cells": [
    {
      "cell_type": "code",
      "source": [
        "!pip install openai\n",
        "!pip install colorama\n",
        "!pip install tqdm\n",
        "!pip install datasets\n"
      ],
      "metadata": {
        "id": "I3AI2GV7toyY"
      },
      "execution_count": null,
      "outputs": []
    },
    {
      "cell_type": "code",
      "execution_count": 3,
      "metadata": {
        "id": "5aO2UK5ZpQui"
      },
      "outputs": [],
      "source": [
        "# Import Necessary SDKs\n",
        "import os\n",
        "from openai import OpenAI\n",
        "import json\n",
        "import pandas as pd\n",
        "from colorama import Fore, Style\n",
        "import time\n",
        "from tqdm import tqdm"
      ]
    },
    {
      "cell_type": "code",
      "source": [
        "token = \"xxxxxxxxxxxxxxxxx-xxxxxxxxxxxxxxx-xxxxxxxxxxxxxxxxxxx\"\n",
        "endpoint = \"https://models.inference.ai.azure.com\"\n",
        "model_name = \"gpt-4o-mini\"\n",
        "csv_path = \"grounding_truth.csv\""
      ],
      "metadata": {
        "id": "dFF0c2_etMH-"
      },
      "execution_count": 10,
      "outputs": []
    },
    {
      "cell_type": "code",
      "source": [
        "client = OpenAI(\n",
        "    base_url=endpoint,\n",
        "    api_key=token,\n",
        ")\n",
        "\n",
        "System_Prompt = \"\"\"\n",
        "Vous êtes un assistant puissant dans l'extraction d'informations a partir des factures francaises. \\n\n",
        "Observe attentivement la facture et extrait les informations suivantes:  \\n\n",
        "\n",
        "- Fournisseur : C'est le nom du fournisseur qui a vendu des produits ou des services à un client. Généralement, C'est dans le Logo du Fournisseur ou a côté. \\n\n",
        "- Date_Facture : C'est la date de la facture. \\n\n",
        "- Num_Facture : C'est le numéro de la facture se forme d'une série de numéros ou numéros avec lettres. \\n\n",
        "- TTC : C'est le montant total que le client va payer, peut etre referer avec : Total TTC, Net à Payer ou quelque chose similaire. \\n\n",
        "- TT  : C'est le montant total de la facture hors taxes, peut etre referer avec : Total HT ou quelque chose similaire. \\n\n",
        "- TVA : C'est le montant de TVA appliqué au Total hors taxes, peut etre referer avec : TVA, Total TVA, Taxe ou quelque chose similaire. \\n\n",
        "\n",
        "- Votre reponse est un String se la forme d'un dictionaire python avec les clés-valeurs suivantes : \\n\n",
        "\n",
        "     \"Invoice_Name\": le nom et format du l'image du la facture,\n",
        "     \"Fournisseur\": \"Fournisseur\",\n",
        "     \"Date_Facture\": \"Date_Facture\",\n",
        "     \"Num_Facture\": \"Num_Facture\",\n",
        "     \"TTC\": \"TTC\",\n",
        "     \"TT\": \"TT\",\n",
        "     \"TVA\": \"TVA\"\n",
        "\n",
        "- Ne pas formater votre reponse comme un code python , repondre juste en texte. \\n\n",
        "- Les 3 prix TT,TTC,TVA doivent être des chiffres sans indication de devise. \\n\n",
        "- le nom de Fournisseur doit être en majuscule. \\n\n",
        "\"\"\"\n",
        "\n",
        "Invoice_Names = [\n",
        "    \"109.jpg\", \"114.jpg\", \"121.jpg\", \"129.jpg\", \"131.jpg\", \"151.jpg\", \"164.jpg\",\n",
        "    \"2.jpg\", \"3.jpg\", \"307.jpg\", \"311.jpg\", \"314.jpg\", \"315.jpg\", \"316.jpg\",\n",
        "    \"317.jpg\", \"319.jpg\", \"327.jpg\", \"334.jpg\", \"340.jpg\", \"383.jpg\", \"417.jpg\",\n",
        "    \"419.jpg\", \"49.jpg\", \"57.jpg\", \"58.jpg\", \"61.jpg\", \"66.jpg\", \"67.jpg\",\n",
        "    \"72.jpg\", \"76.jpg\"\n",
        "]\n"
      ],
      "metadata": {
        "id": "MZP5qcwdtL4o"
      },
      "execution_count": 11,
      "outputs": []
    },
    {
      "cell_type": "code",
      "source": [
        "def Save_to_csv(json_data):\n",
        "    data = json.loads(json_data)\n",
        "    df = pd.DataFrame([data])\n",
        "\n",
        "    if os.path.exists(csv_path):\n",
        "        df.to_csv(csv_path, mode='a', header=False, index=False)\n",
        "    else:\n",
        "        df.to_csv(csv_path, index=False)\n",
        "\n",
        "    print(Fore.GREEN + Style.BRIGHT + \"CSV Updated Successfully\" + Style.RESET_ALL)\n",
        "\n",
        "\n",
        "def Run_ALL(Names):\n",
        "  counter = 0\n",
        "  for Name in tqdm(Names,desc=\"Processing Invoices\", unit=\"number\"):\n",
        "        Hugg_path = \"https://huggingface.co/datasets/Noureddinesa/Images_Test/resolve/main/\"+Name\n",
        "        response = client.chat.completions.create(\n",
        "                      model=model_name,\n",
        "                      messages=[\n",
        "                          {\"role\": \"system\", \"content\": System_Prompt},\n",
        "                          {\n",
        "                          \"role\": \"user\",\n",
        "                          \"content\": [\n",
        "                            {\"type\": \"text\", \"text\": f\"Extraire les Informations demandées a partir de la facture {Name} suivante : \"},\n",
        "                            {\n",
        "                              \"type\": \"image_url\",\n",
        "                              \"image_url\": {\"url\":Hugg_path},\n",
        "                            },\n",
        "                          ],\n",
        "                          }\n",
        "                            ],\n",
        "                      #max_tokens=500,\n",
        "                    )\n",
        "\n",
        "        data = response.choices[0].message.content\n",
        "        print(data)\n",
        "        Save_to_csv(data)\n",
        "        # Sleep time between requests of 2 seconds\n",
        "        time.sleep(2)\n",
        "        counter += 1\n",
        "        # We set a Sleep of 1 min so we don't exceed the rate limit (10 requests/min)\n",
        "        if counter == 7:\n",
        "          time.sleep(60)\n",
        "          counter = 0"
      ],
      "metadata": {
        "id": "XyitpVXitL1K"
      },
      "execution_count": 13,
      "outputs": []
    },
    {
      "cell_type": "code",
      "source": [
        "Run_ALL(Invoice_Names)"
      ],
      "metadata": {
        "id": "UiRIRqRktLsW"
      },
      "execution_count": null,
      "outputs": []
    },
    {
      "cell_type": "code",
      "source": [],
      "metadata": {
        "id": "xNeNRG16tLor"
      },
      "execution_count": null,
      "outputs": []
    }
  ]
}